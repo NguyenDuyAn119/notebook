{
 "cells": [
  {
   "cell_type": "markdown",
   "id": "fa60b94b",
   "metadata": {},
   "source": [
    "# Python Advanced\n",
    "\n",
    "\n",
    "This is the content"
   ]
  },
  {
   "cell_type": "markdown",
   "id": "e97649bf",
   "metadata": {},
   "source": []
  }
 ],
 "metadata": {
  "language_info": {
   "name": "python"
  }
 },
 "nbformat": 4,
 "nbformat_minor": 5
}
