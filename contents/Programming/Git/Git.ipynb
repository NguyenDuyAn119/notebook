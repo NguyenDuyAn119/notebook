{
 "cells": [
  {
   "cell_type": "markdown",
   "id": "654219c7-8fc9-496e-89b9-7e49481da735",
   "metadata": {},
   "source": [
    "# Git"
   ]
  },
  {
   "cell_type": "markdown",
   "id": "95bf1306-cd43-47f4-b41c-7a6073862f39",
   "metadata": {},
   "source": [
    "## Git basic"
   ]
  },
  {
   "cell_type": "markdown",
   "id": "0cca8a54-c38b-4c0a-a4e7-fa1e1008ca05",
   "metadata": {},
   "source": [
    "Các câu lệnh cơ bản của Git trong Git bash:\n",
    " - 'cd ..' : là câu lệnh quay trở lại file cha\n",
    " - 'cd (file muốn tiến đến)' : đi vào file con mà mình muốn của file cha\n",
    " - 'cd (file cha)/(file con)' : đi vào file con của file cha\n",
    " - 'cd ../(tên file)' : thoát file này và vào file mà mình muốn \n",
    " - clear : dọn dẹp các câu lệnh đã viết\n",
    " - mũi tên lên xuống trong git : dùng để quay lại các câu lệnh mà mình đã viết ở trc"
   ]
  },
  {
   "cell_type": "markdown",
   "id": "85d5f380-e5ce-4d22-8435-bba7f1411f4d",
   "metadata": {},
   "source": [
    "## Hiện thi tập tin, thêm , xóa và tạo thư mục trong máy "
   ]
  },
  {
   "cell_type": "markdown",
   "id": "7335c700-63df-4f72-8342-c7f016b2064d",
   "metadata": {},
   "source": [
    "- dir or ls : với dir của hệ điều hành win or ls của hệ điều hành Ios  \n",
    "với dir and ls : kiểm tra các tập tin trong file\n",
    "\n",
    "- mkdir (tên thư mục muốn tạo): tạo thêm 1 thư mục con của thư mục cha \n",
    "- touch '(tên file).đuôi' : tạo 1 thư mục mất kì có thể là txt hoặc vv  \n",
    "VD : touch 'vd.txt'\n",
    "\n",
    "- echo \"(muốn viết)\" : dùng để in hoặc xuất 1 nội dung nào đó trên màn hình Git bash\n",
    "- echo \"(muốn viết)\" > 'Tên file' : dùng để viết 1 nội dung đè trên file mà mình muốn\n",
    "- echo \"(muốn viết)\" >> 'Tên file' : dùng để viết tiếp 1 nội dung trên file mà mình muốn\n",
    "- cat '(tên file)' : hiển thị nội dung bên trong file\n",
    "- diff (file 1) (file 2) : dùng để so sánh cái khác của 2 file\n",
    "- rm (file tên) : xóa file \n",
    "- rm -d (tên thư mục) : xóa thư mục rỗng\n",
    "- rm -r (tên thư mục) : xóa thư mục không rỗng"
   ]
  },
  {
   "cell_type": "markdown",
   "id": "b04e9404-e168-4c8a-bac1-86c44d508ff5",
   "metadata": {},
   "source": [
    "## Tạo Repository mới trong Git"
   ]
  },
  {
   "cell_type": "markdown",
   "id": "c3849395-413d-4736-8e65-8af75de5a887",
   "metadata": {},
   "source": [
    "- reposity (repo) : kho lưu trữ\n",
    "- commit : một đơn vị làm việc\n",
    "- branch : nhánh\n",
    "- main/master : tên của repo chính( main repo)\n",
    "- merge/ rebase: kết hợp 2 nhánh\n",
    "- develop: tên của nhánh, lập trình viên\n",
    "\n",
    "- git --help: trợ giúp, hưỡng dẫn\n",
    "- git --version: hiển thị phương bản git\n",
    "- git status: hiển thị trang thái kho lưu trữ\n",
    "- git log: hiển thị lịch sử các commit\n",
    "\n",
    "Các câu lệnh giúp câu hình ra 1 dự án git mới:\n",
    "- git init [repo name]: tạo ra 1 kho lưu trữ mới.\n",
    "- git clone [repo name][clone name]: để tạo một bản sao được liên kết với repo.\n",
    "- git config -l: xem cấu hình hiện tại của repo.\n",
    "- git config -l [--scope][option_name][value]: xem cấu hình của .... - .....  \n",
    "    + scope:   \n",
    "             --system -> ảnh hưởng đến tất cả người dùng  \n",
    "             --global -> liên quan đến repo của ng dùng  \n",
    "             --local  -> liên quan đến 1 repo  \n",
    "vd : git config -l --global user.name \"tên\"  \n",
    "vd : git config -l --global user.email tên\n",
    "\n",
    "\n",
    "- git add [file name(s)] : thêm tập vào inđex\n",
    "- git add. : thêm tệp ( tất cả)\n",
    "- git commot _m \"nội dung\" : tạo commit -> repo\n",
    "- git status : sự khác biệt giữa 3 cây\n",
    "- git diff : so sánh với commit cuối cùng\n",
    "- git log : xem lịch sử"
   ]
  },
  {
   "cell_type": "markdown",
   "id": "a3417b38-5110-4229-a0f9-693c43130c9b",
   "metadata": {},
   "source": [
    "## Git ignore "
   ]
  },
  {
   "cell_type": "markdown",
   "id": "d51e7bc0-baed-4f07-9f16-77f54c4fe195",
   "metadata": {},
   "source": [
    "Cấu hình ignore để bỏ qua các file không cần giám sát  \n",
    "là câu lệnh để bỏ qua các file k cần giám sát ở git  \n",
    "\n",
    "echo \"tên file\" >>.gitignore : làm gì thì làm nhưng nó sẽ k quna tâm đến file mà mình ignore"
   ]
  },
  {
   "cell_type": "markdown",
   "id": "af59eb3d-fa62-453e-b7a5-a7b0f291ba4a",
   "metadata": {},
   "source": [
    "### Git ignore on visual studio code"
   ]
  },
  {
   "cell_type": "markdown",
   "id": "9a273488-a510-4615-9289-66e090dab861",
   "metadata": {},
   "source": [
    "1. B1: cứ đăng nhập lại toàn bộ nick của github cho chắc rồi ktra nick  \n",
    "2. B2: tạo file .gitignore có thể tạo như sau:  \n",
    "    echo. > .gitignore  \n",
    "3. B3: cho dữ liệu k muốn vào gitignore dùng :  \n",
    "    echo \"tên.đuôi\" >> .gitignore  \n",
    "- hoặc xóa luôn file như sau:  \n",
    "    git rm --cached 'tên.đuôi'  \n",
    "4. B4: dùng: git commit -m \"commit....\"  \n",
    "5. B5: git push hoặc git push --set-upstream origin master  "
   ]
  },
  {
   "cell_type": "markdown",
   "id": "3bea3013-a2da-4661-853b-e29698c0017c",
   "metadata": {},
   "source": [
    "## Git remote repository"
   ]
  },
  {
   "cell_type": "markdown",
   "id": "262234ed-5aeb-4aab-8eac-0ca4e9c3dc79",
   "metadata": {},
   "source": [
    "Làm việc với kho lưu trữ trung tâm 'central repository'  \n",
    "Cách tương tác với remote repository  \n",
    "Cái này chính là những thứ thao tác ở trên github  \n",
    "\n",
    "- git init --bare : tạo 1 central repo  \n",
    "- git clone [repo_name][clone_name] : sao chép và liên kết repo_name mới  \n",
    "- git fetch : lấy các thông tin về commit mới từ central  \n",
    "- git pull : lấy dữ liệu từ central(chính) về local repo  \n",
    "- git push : đẩy các commit từ local về central(chính)  "
   ]
  },
  {
   "cell_type": "markdown",
   "id": "44336f55-c9ac-46ab-bf94-20bab2931453",
   "metadata": {},
   "source": [
    "## Merge conflict"
   ]
  },
  {
   "cell_type": "markdown",
   "id": "311eb1d0-8ecd-4ff7-be17-878d9af36b2b",
   "metadata": {},
   "source": [
    "Xử lý xung đột trong git (merge conflict)  \n",
    "conflict : xung đột  \n",
    "\n",
    "Đây là khi 2 ng cùng làm và cùng pull 1 dữ liệu về và chỉnh sửa rồi đẩy lên lại central chính thì mỗi ng sửa đều khác nhau nên nó sẽ xảy ra lỗi vì vậy cần fixx lại, nên xem lại ở bài 9 git cơ bản  \n",
    "\n",
    "Cụ thể đây là bước làm bằng commit:  \n",
    "B1: git pull  \n",
    "B2: vào lại fie đó bằng ứng dụng gì đó rồi xóa những lỗi rồi save  \n",
    "B3: git add .  \n",
    "B4: git commit -m \"xử lý xung đột ở file k.txt\"  "
   ]
  },
  {
   "cell_type": "markdown",
   "id": "2ce68e40-9a6c-482d-8440-2d2d4711333d",
   "metadata": {},
   "source": [
    "## Git checkout"
   ]
  },
  {
   "cell_type": "markdown",
   "id": "9a7492d0-7e29-46bf-9a35-db55075580c6",
   "metadata": {},
   "source": [
    "Chuyển đổi giữa các commit trong git  \n",
    "Để dùng đc git checkout thì ta cần phải đã sửa file và làm file rồi ta dùng git log sẽ hiện mã của commi sau chữ commit rồi nhập tầm 6 đến hơn các ký tự đó sau git checkout  \n",
    "\n",
    "git checkout (mã) : dùng để quay trở lại thời điểm mà file đó được tạo ra, chính là quay lại đc commit mà mình muốn  "
   ]
  },
  {
   "cell_type": "markdown",
   "id": "6168b5fe-d815-481f-8d1f-bbded2e10f4e",
   "metadata": {},
   "source": [
    "## Git Branchs"
   ]
  },
  {
   "cell_type": "markdown",
   "id": "537b0419-d3f6-414f-8e08-b628c6d24ea4",
   "metadata": {},
   "source": [
    "Làm việc với nhiều nhánh trong git  \n",
    "\n",
    "- git branch (branch_name): tạo nhánh mới để làm trong 1 project\n",
    "- git checkout (branch_name): chuyển sang nhánh mong muốn trong project\n",
    "- git branch -l: xem nhánh hiện tại đg làm việc\n",
    "\n",
    "\n",
    "Có thể khi k push từ nhánh lên repo thì ng ta có gợi ý câu lệnh:  \n",
    "- git push --set-upstream origin (branch_name)\n",
    "- git push -u origin (branch_name)\n",
    "\n",
    "Thay đổi tên nhánh master thành main  \n",
    "Ta dùng:  \n",
    "- git branch -M main"
   ]
  },
  {
   "cell_type": "markdown",
   "id": "dc6d9cf8-aa78-4ef3-aba5-487bf5630fa1",
   "metadata": {},
   "source": [
    "### Git branch merge"
   ]
  },
  {
   "cell_type": "markdown",
   "id": "d329faaf-9bce-4d54-8450-fc616b37774b",
   "metadata": {},
   "source": [
    "Kết hợp các nhánh lại với nhau  \n",
    "\n",
    "Đang ở nhánh A muốn kết hợp với nhánh khác thì ra dùng\n",
    "- git merge (branch_name) "
   ]
  },
  {
   "cell_type": "markdown",
   "id": "13d007b1-167b-40d8-aeba-869fa97143a2",
   "metadata": {},
   "source": [
    "### Git rebase"
   ]
  },
  {
   "cell_type": "markdown",
   "id": "671bdd98-c70e-4b15-b015-544779deb5ca",
   "metadata": {},
   "source": [
    "Tái cơ sở cho một nhánh trong git\n",
    "- git rebase (branch_name): tái cơ sở cho nhánh bạn chọn\n",
    "- git rebase --continue: tiếp tục áp dụng những thay đổi vào câu lệnh git rebase\n",
    "- git rebase --skip: bỏ qua những thay đổi"
   ]
  },
  {
   "cell_type": "markdown",
   "id": "87238da8-022f-4c46-b7f9-3a219da18d3f",
   "metadata": {},
   "source": [
    "### Git branch delete"
   ]
  },
  {
   "cell_type": "markdown",
   "id": "59b2e8d3-1ecd-4010-9675-d293eafc7e9d",
   "metadata": {},
   "source": [
    "- Xóa nhánh trong git\n",
    "    + git branch -d (branch_name): dùng khi mà bạn muốn gọn hơn, đó là khi t có nhiều nhánh và sau khi merge với nhau rồi thì nhánh phụ vẫn còn tồn tại ở đó, nếu muốn đẹp hơn thì t chỉ cần xóa nhánh phụ.\n",
    "- Và xóa hoàn toàn thì ta dùng\n",
    "    + git push origin -d (branch_name): khi ta xóa ở kai thì nó vẫn còn tồn tại nên ta cần xóa 1 lần nữa để nó mất hẳn đi, vì khi git branch -a nó sẽ cho ta thấy nhánh xóa nó sẽ hiện lên."
   ]
  },
  {
   "cell_type": "markdown",
   "id": "7a7fe746-6db0-4c70-a61f-6660f05d94f7",
   "metadata": {},
   "source": [
    "## Git reset"
   ]
  },
  {
   "cell_type": "markdown",
   "id": "cffdf40f-deb0-4f6d-ae81-411474428ce5",
   "metadata": {},
   "source": [
    "- git reset --soft  (commit id) : dùng để chuyển head về vị trí commit. Trạng thái của stage và tất cả sự thay đổi của file đc giữ nguyên.\n",
    "- git reset (commit id) : Di chuyển head về vị trí commit reset, vẫn giữ tất cả thay đổi của file nhưng loại bỏ các thay đổi của stage.\n",
    "- git reset --hard (commit id) : di chuyển con trỏ head về vị trí commit reset và loại bỏ tất cả sự thay đổi của file, stage.\n",
    " \n",
    "    + commit id: là mã của các commit gầm chữ và số hoặc bla bla"
   ]
  },
  {
   "cell_type": "markdown",
   "id": "a483ba1f-ded0-4e87-a7a8-ca887443e7b9",
   "metadata": {},
   "source": [
    "## Git revert"
   ]
  },
  {
   "cell_type": "markdown",
   "id": "7d867775-be29-4ec6-b26d-9cb356ea7e4b",
   "metadata": {},
   "source": [
    "Quay lại các commit trước đây câu lệnh là:\n",
    "- git revert"
   ]
  },
  {
   "cell_type": "markdown",
   "id": "9735623e-04f0-4a95-aebc-2eee670abd0f",
   "metadata": {},
   "source": [
    "## GitHub"
   ]
  },
  {
   "cell_type": "markdown",
   "id": "a381c1bd-be11-4d87-a583-87ca283a6dd8",
   "metadata": {},
   "source": [
    "### Github in my computer"
   ]
  },
  {
   "cell_type": "markdown",
   "id": "2ed41ad4-17d5-4b25-b8b9-6c967f70cdb8",
   "metadata": {},
   "source": [
    "Connect from code on computer to web GitHub  \n",
    "Khi tạo 1 repository mới trên web github của bạn thì ta copy link của repository đó rồi vào git bash rồi nhập câu lệnh:  \n",
    "- git remote add origin (paste link)"
   ]
  },
  {
   "cell_type": "markdown",
   "id": "a19fd82e-bf84-4cba-bd81-fb7e17302a2d",
   "metadata": {},
   "source": [
    "### Save other project "
   ]
  },
  {
   "cell_type": "markdown",
   "id": "57248d40-ad20-466f-914f-8330f9d9cdfd",
   "metadata": {},
   "source": [
    "- B1: truy cập link của dự án\n",
    "- B2: click chuột vào fork của dự án đó ở phía bên trên gần góc phải màn hình\n",
    "- B3: click create fork\n",
    "- B4: về trang chủ để xem đã lưu đc về chưa\n",
    "\n",
    "\n",
    "Muốn cập nhật thông tin mới của project của ng khác thì ở git bash cần dùng :  \n",
    "- B1: git remote add (name1) (paste link của project gốc)\n",
    "- B2: git remote -v : để xem xem kết nối đc chưa\n",
    "- B3: git fetch (name1) : để ktra xem kết nối đc chưa\n",
    "- B4: git merge (name1)/(main_branch) :sẽ ra bảng của git bash , ta chỉ cần ấn phím 'esc' rồi \":q\" để thoát ra"
   ]
  },
  {
   "cell_type": "markdown",
   "id": "e0af7cf3-d4c4-4423-a2a8-fed80946ef3b",
   "metadata": {},
   "source": [
    "### Update project of company when create new file in my computer"
   ]
  },
  {
   "cell_type": "markdown",
   "id": "336da3d6-dd05-4a64-9799-145d63d00605",
   "metadata": {},
   "source": [
    "- B1: vào pull request của dự án ở nick mình\n",
    "- B2: vào new pull request\n",
    "- B3: chọn base repository của dự án mình muốn, và chọn head repository của dự án của mình và chọn nhánh theo ý mình\n",
    "- B4: click create pull request"
   ]
  },
  {
   "cell_type": "markdown",
   "id": "b5ce91ce-b9e6-4a75-be2e-f376d946666c",
   "metadata": {},
   "source": [
    "## GitHub Desktop"
   ]
  },
  {
   "cell_type": "markdown",
   "id": "980604c3-d05a-482d-b871-8dc2b7c996a4",
   "metadata": {},
   "source": [
    "Muốn tải 1 project về app GitHub Desktop thì ta copy link của project về xong r vào app rồi chọn file rồi chọn clone reponsitory rồi paste link rồi clone là xong"
   ]
  },
  {
   "cell_type": "markdown",
   "id": "2506a725-d390-48e0-8222-068e709fbec4",
   "metadata": {},
   "source": [
    "## Use Git and GitHub in visual studio code"
   ]
  },
  {
   "cell_type": "markdown",
   "id": "af152f7d-f0f9-43de-866f-42cf8d0c03a0",
   "metadata": {},
   "source": [
    "**CÁCH 1:**\n",
    "\n",
    "- B0: mở file muốn tải lên GitHub sẵn\n",
    "- B1: sign in account on terminal on visual studio code\n",
    "    + git config --global user.name \"tên nick github\"\n",
    "    + git config --global user.email tên email\n",
    "- B2: git remote add origin \"link github tự tạo và muốn đẩy file lên đó\"\n",
    "    +git remote -v : kiểm tra xem đúng nick github chưa\n",
    "- B3: git add .\n",
    "- B4: git commit -m \"tự cmt\"\n",
    "- B5: git branch -v : kiểm tra đg ở nhánh gì rồi mới push (muốn đổi \"nhánh\"/\"tên nhánh\" thì ở phần trên có)\n",
    "    + git push origin \"tên nhánh mà mình kiểm tra\"\n",
    "- B6: tự làm tiếp\n",
    "\n",
    "\n",
    "\n",
    "**CÁCH 2**\n",
    "- B0: mở file muốn tải lên GitHub sẵn\n",
    "- B1: git init\n",
    "- B2: git add .\n",
    "- B3: git commit -m \"(Muốn ghi gì thì ghi sao cho mình và ng khác đều hiểu)\"\n",
    "- B4: git remote add (tên repo cx đc) (link repo)\n",
    "- B5:git push (tên repo cx đc) master\n",
    "\n",
    "\n",
    "**CÁCH 3**\n",
    "(Đây là cách bth mọi người hay dùng mà tôi thấy hiệu quả nhất)\n",
    "- B0: mở file muốn tải lên GitHub sẵn trên visual studio code rồi mở \"new terminal\" (sử dụng power shell)\n",
    "- B1: git init\n",
    "- B2: git add .\n",
    "- B3: git commit -m \"(viết commit)\"\n",
    "- B4: git remote add origin (paste link repo tạo trên github)\n",
    "- B5: git branch -M main\n",
    "- B6: git push -u origin main"
   ]
  }
 ],
 "metadata": {
  "kernelspec": {
   "display_name": "base",
   "language": "python",
   "name": "python3"
  },
  "language_info": {
   "codemirror_mode": {
    "name": "ipython",
    "version": 3
   },
   "file_extension": ".py",
   "mimetype": "text/x-python",
   "name": "python",
   "nbconvert_exporter": "python",
   "pygments_lexer": "ipython3",
   "version": "3.12.4"
  }
 },
 "nbformat": 4,
 "nbformat_minor": 5
}
