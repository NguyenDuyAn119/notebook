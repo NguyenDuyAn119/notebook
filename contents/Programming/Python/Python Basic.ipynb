{
 "cells": [
  {
   "cell_type": "markdown",
   "id": "4d732095-d2dc-497c-985e-9707b32c1818",
   "metadata": {},
   "source": [
    "# Python Basic"
   ]
  },
  {
   "cell_type": "code",
   "execution_count": 113,
   "id": "da9a13b4-058c-45b2-babe-36d8569f935c",
   "metadata": {},
   "outputs": [
    {
     "name": "stdout",
     "output_type": "stream",
     "text": [
      "Ank\n"
     ]
    }
   ],
   "source": [
    "print('Ank')"
   ]
  },
  {
   "cell_type": "raw",
   "id": "abfce937-2c47-49bf-985d-c6bbef4ea136",
   "metadata": {},
   "source": [
    "muốn tại ghi chú thì chỉ cần thêm '#' hoặc xn'#'"
   ]
  },
  {
   "cell_type": "code",
   "execution_count": 114,
   "id": "2a9673be-8aea-4d0f-ad8d-135b4cb3dc19",
   "metadata": {
    "tags": []
   },
   "outputs": [],
   "source": [
    "# xin chào\n",
    "## xin chào\n",
    "##### xin chào"
   ]
  },
  {
   "cell_type": "markdown",
   "id": "3538eb7a-683b-4c21-97b2-155b3f90724b",
   "metadata": {},
   "source": [
    "## The Variable"
   ]
  },
  {
   "cell_type": "raw",
   "id": "d2ccb2f3-ac91-4a7a-9905-1a102e49deb9",
   "metadata": {},
   "source": [
    "Như là x, k, y, Z, U, tuoi, la,....\n",
    "Ta dùng biến này để gán 1 số giá trị vào biến\n",
    "Note : tên biến không được trùng với các từ khóa trong python"
   ]
  },
  {
   "cell_type": "code",
   "execution_count": 115,
   "id": "d176dd25-4d20-46e9-a19b-17f9b142889c",
   "metadata": {
    "tags": []
   },
   "outputs": [
    {
     "name": "stdout",
     "output_type": "stream",
     "text": [
      "9\n"
     ]
    }
   ],
   "source": [
    "# VD1\n",
    "z = 4\n",
    "Y = 5\n",
    "c = Y + z\n",
    "print(c)"
   ]
  },
  {
   "cell_type": "code",
   "execution_count": 116,
   "id": "5b87532f-fec9-4bff-83cd-000f152d3b32",
   "metadata": {
    "tags": []
   },
   "outputs": [
    {
     "name": "stdout",
     "output_type": "stream",
     "text": [
      "Ank\n"
     ]
    }
   ],
   "source": [
    "# VD2\n",
    "a = 'An'\n",
    "b = 'k'\n",
    "print(a+b)"
   ]
  },
  {
   "cell_type": "code",
   "execution_count": 117,
   "id": "62e00943-99ad-482b-9642-0b7d6208057d",
   "metadata": {
    "tags": []
   },
   "outputs": [
    {
     "name": "stdout",
     "output_type": "stream",
     "text": [
      "An\n",
      "21\n"
     ]
    }
   ],
   "source": [
    "# VD3\n",
    "Ten = 'An'\n",
    "Tuoi = 21\n",
    "print(Ten)\n",
    "print(Tuoi)"
   ]
  },
  {
   "cell_type": "code",
   "execution_count": 118,
   "id": "285e0d4b-704d-4069-a44d-7c9ce637dc92",
   "metadata": {
    "tags": []
   },
   "outputs": [
    {
     "name": "stdout",
     "output_type": "stream",
     "text": [
      "An 10 21\n"
     ]
    }
   ],
   "source": [
    "## có thể khai báo nhiều biến cùng 1 lúc\n",
    "Ten, lop, Tuoi = 'An', 10, 21\n",
    "print(Ten, lop, Tuoi)"
   ]
  },
  {
   "cell_type": "markdown",
   "id": "6c4da8bc-665a-491f-8802-545949dd1e85",
   "metadata": {},
   "source": [
    "### Check kind of variable"
   ]
  },
  {
   "cell_type": "code",
   "execution_count": 119,
   "id": "a758f98e-19d5-4191-94e2-5602aec5c2c6",
   "metadata": {
    "tags": []
   },
   "outputs": [
    {
     "name": "stdout",
     "output_type": "stream",
     "text": [
      "<class 'str'>\n",
      "<class 'int'>\n",
      "<class 'float'>\n"
     ]
    }
   ],
   "source": [
    "#VD\n",
    "Ten = 'An'\n",
    "lop = 12\n",
    "DiemTB = 3.2\n",
    "print(type(Ten))\n",
    "print(type(lop))\n",
    "print(type(DiemTB))"
   ]
  },
  {
   "cell_type": "markdown",
   "id": "96d55eb2-398c-4da0-9f9e-37f7479cea85",
   "metadata": {},
   "source": [
    "## Number type in Python"
   ]
  },
  {
   "cell_type": "code",
   "execution_count": 120,
   "id": "2c394b9e-51c1-4237-822c-dcb35c50bfb4",
   "metadata": {
    "tags": []
   },
   "outputs": [
    {
     "name": "stdout",
     "output_type": "stream",
     "text": [
      "4\n",
      "<class 'int'>\n"
     ]
    }
   ],
   "source": [
    "# gán cho biến a giá trị là 4. Với 4 là kiểu số nguyên ( intergers )\n",
    "a = 4 \n",
    "print(a)\n",
    "# Kiểu dữ liệu của a\n",
    "print(type(a))"
   ]
  },
  {
   "cell_type": "code",
   "execution_count": 121,
   "id": "923037e9-835e-4fd1-84c6-4cc59cf5dfe1",
   "metadata": {
    "tags": []
   },
   "outputs": [
    {
     "name": "stdout",
     "output_type": "stream",
     "text": [
      "4\n",
      "<class 'str'>\n"
     ]
    }
   ],
   "source": [
    "a = '4' \n",
    "print(a)\n",
    "# Kiểu dữ liệu của a\n",
    "print(type(a))"
   ]
  },
  {
   "cell_type": "code",
   "execution_count": 122,
   "id": "f76cd490-4520-4e61-b983-95851ea431eb",
   "metadata": {
    "tags": []
   },
   "outputs": [
    {
     "name": "stdout",
     "output_type": "stream",
     "text": [
      "4.3\n",
      "<class 'float'>\n"
     ]
    }
   ],
   "source": [
    "# gán cho biến a giá trị là 4.3. Với 4.3 là kiểu số thực (float)\n",
    "a = 4.3\n",
    "print(a)\n",
    "# Kiểu dữ liệu của a\n",
    "print(type(a))"
   ]
  },
  {
   "cell_type": "code",
   "execution_count": 123,
   "id": "d3aaf5f5-ea3d-451f-83a0-9eff13c69f5b",
   "metadata": {
    "tags": []
   },
   "outputs": [
    {
     "name": "stdout",
     "output_type": "stream",
     "text": [
      "(1, 77364547288847366454399973783838888888)\n"
     ]
    }
   ],
   "source": [
    "# có thể in ra chính xác xấp xỉ 15 chữ số thập phân\n",
    "b = 1,77364547288847366454399973783838888888\n",
    "print(b)\n",
    "# trên đây thì in đc hết nhưng có 1 số bản chạy của python in đến 15 chữ số thập phân"
   ]
  },
  {
   "cell_type": "raw",
   "id": "09a833bd-852d-4b06-8205-ef7ff13e5ed4",
   "metadata": {},
   "source": [
    "Khi gặp trường hợp trên thì ta dùng cách sau :"
   ]
  },
  {
   "cell_type": "code",
   "execution_count": 124,
   "id": "1ad8741b-e575-484c-bee8-d1058e86cc8a",
   "metadata": {
    "tags": []
   },
   "outputs": [
    {
     "name": "stdout",
     "output_type": "stream",
     "text": [
      "3.3333333333333335\n",
      "3.33333333333333333333333333333\n",
      "3.33333333333333333333333333333\n",
      "3.33333333333333333333333333333\n",
      "<class 'float'>\n",
      "<class 'decimal.Decimal'>\n"
     ]
    }
   ],
   "source": [
    "# lấy toàn bộ nội dung của thư viện decimal\n",
    "# từ thư viện decimal -> import mọi thứ(*) vào\n",
    "from decimal import*\n",
    "# lấy tối đa 30 chữ số phần nguyên và phần thập phân decimal\n",
    "getcontext().prec = 30\n",
    "print(10/3)\n",
    "# như đã thấy khi in bth thì python giới hạn số chữ số thập phân\n",
    "print(Decimal(10)/Decimal(3))\n",
    "# đếm bên dưới có đủ 30 chữ số\n",
    "print(10/Decimal(3))\n",
    "print(Decimal(10)/3)\n",
    "# chỉ cần 1 Decimal là áp dụng đc\n",
    "# Lưu ý phải viết hoa chữ 'D'\n",
    "print(type(10/3))\n",
    "print(type(Decimal(10)/Decimal(3)))"
   ]
  },
  {
   "cell_type": "markdown",
   "id": "9b74e80b-8d38-498d-99a1-b0815d4b9ed0",
   "metadata": {},
   "source": [
    "### Create fraction in python"
   ]
  },
  {
   "cell_type": "raw",
   "id": "296819bb-380f-4d7f-8ab2-1d97fa2c118f",
   "metadata": {},
   "source": [
    "tạo phân số trong python"
   ]
  },
  {
   "cell_type": "code",
   "execution_count": 125,
   "id": "7ee14769-24a8-4f9a-900d-1911663e29ed",
   "metadata": {
    "tags": []
   },
   "outputs": [
    {
     "name": "stdout",
     "output_type": "stream",
     "text": [
      "2/3\n",
      "<class 'fractions.Fraction'>\n"
     ]
    }
   ],
   "source": [
    "from fractions import*\n",
    "frac = Fraction(6,9)\n",
    "print(frac)\n",
    "print(type(frac))"
   ]
  },
  {
   "cell_type": "markdown",
   "id": "cf11a75a-0930-4580-8e65-656fdca0e822",
   "metadata": {},
   "source": [
    "### Complex number"
   ]
  },
  {
   "cell_type": "raw",
   "id": "d9446dd9-817a-4fc3-8cf2-e9c5120e2e5b",
   "metadata": {},
   "source": [
    "số phức = <phần thực> + <phần ảo>j"
   ]
  },
  {
   "cell_type": "code",
   "execution_count": 126,
   "id": "288728bf-ddcb-45d0-b1e5-65f0fd91ac93",
   "metadata": {
    "tags": []
   },
   "outputs": [
    {
     "name": "stdout",
     "output_type": "stream",
     "text": [
      "(2+5j)\n",
      "2.0\n",
      "5.0\n"
     ]
    }
   ],
   "source": [
    "c = complex(2,5)\n",
    "print(c)\n",
    "# lấy số phức\n",
    "print(c.real)\n",
    "# lấy phần thực\n",
    "print(c.imag)\n",
    "# lấy phần ảo"
   ]
  },
  {
   "cell_type": "markdown",
   "id": "4f3be901-9690-48be-982e-261c54f28024",
   "metadata": {},
   "source": [
    "### Basic operators in python"
   ]
  },
  {
   "cell_type": "raw",
   "id": "60dd0a3c-757d-48fc-bbda-07256425a1ee",
   "metadata": {},
   "source": [
    "các toán tử cơ bản : cộng, trừ, nhân, chia, lấy phần nguyên, lấy phần dư, lũy thừa "
   ]
  },
  {
   "cell_type": "code",
   "execution_count": 127,
   "id": "5923f2e1-50f1-460d-8546-415c63c2d4be",
   "metadata": {
    "tags": []
   },
   "outputs": [
    {
     "name": "stdout",
     "output_type": "stream",
     "text": [
      "3\n"
     ]
    }
   ],
   "source": [
    "#VD lấy phần nguyên \n",
    "a = 10//3\n",
    "print(a)"
   ]
  },
  {
   "cell_type": "code",
   "execution_count": 128,
   "id": "9e0781e6-9895-4cdb-b63e-95181fe8c953",
   "metadata": {
    "tags": []
   },
   "outputs": [
    {
     "name": "stdout",
     "output_type": "stream",
     "text": [
      "1\n"
     ]
    }
   ],
   "source": [
    "#VD lấy phần dư\n",
    "b = 10%3\n",
    "print(b)"
   ]
  },
  {
   "cell_type": "code",
   "execution_count": 129,
   "id": "12e1725d-e88f-493a-97bf-0b984c91c3a4",
   "metadata": {
    "tags": []
   },
   "outputs": [
    {
     "name": "stdout",
     "output_type": "stream",
     "text": [
      "9\n"
     ]
    }
   ],
   "source": [
    "#VD lũy thừ x cơ số y\n",
    "c = 3**2\n",
    "print(c)"
   ]
  },
  {
   "cell_type": "markdown",
   "id": "02aa5f5c-8b27-4f2d-aedb-e9d2c6e7d612",
   "metadata": {},
   "source": [
    "### Math library"
   ]
  },
  {
   "cell_type": "code",
   "execution_count": 130,
   "id": "2d14fea4-d675-479f-8dcf-c3d9b64bf7ec",
   "metadata": {
    "tags": []
   },
   "outputs": [
    {
     "name": "stdout",
     "output_type": "stream",
     "text": [
      "3\n",
      "3.0\n",
      "4.0\n",
      "2\n"
     ]
    }
   ],
   "source": [
    "import math\n",
    "a = math.trunc(3.9)\n",
    "# trunc là trả về 1 số nguyên là phần nguyên của a\n",
    "print(a)\n",
    "b = math.fabs(-3)\n",
    "# trả về một số thực là trị tuyệt đối của b\n",
    "print(b)\n",
    "c = math.sqrt(16)\n",
    "# trả về một số thực là căn bậc 2 của c\n",
    "print(c)\n",
    "d = math.gcd(6,4)\n",
    "# trả về mooyj số nguyên là ước chung lớn nhất của hai số 6,4\n",
    "print(d)"
   ]
  },
  {
   "cell_type": "markdown",
   "id": "c0f67818-60ad-4a47-89dc-48d50199e9fc",
   "metadata": {},
   "source": [
    "## String type in python"
   ]
  },
  {
   "cell_type": "raw",
   "id": "8e2dbac8-3285-454a-b66e-9c451c3eec2b",
   "metadata": {},
   "source": [
    "kiểu chuỗi: string <str>\n",
    "Chuỗi nằm trong cặp nháy đơn hoặc nháy kép hay nằm trong nhiều cặp nháy đơn hoặc nhiều cặp nháy kép."
   ]
  },
  {
   "cell_type": "code",
   "execution_count": 131,
   "id": "a9c7e936-18b7-4ca0-8620-d8f408a711e3",
   "metadata": {
    "tags": []
   },
   "outputs": [
    {
     "name": "stdout",
     "output_type": "stream",
     "text": [
      "Ank\n",
      "<class 'str'>\n"
     ]
    }
   ],
   "source": [
    "#VD\n",
    "a = 'Ank'\n",
    "print(a)\n",
    "print(type(a))"
   ]
  },
  {
   "cell_type": "code",
   "execution_count": 132,
   "id": "b0be27ca-5cfb-43f3-9c7e-0cfdedc37f67",
   "metadata": {
    "tags": []
   },
   "outputs": [
    {
     "name": "stdout",
     "output_type": "stream",
     "text": [
      "Ank\n",
      "<class 'str'>\n"
     ]
    }
   ],
   "source": [
    "#VD\n",
    "a = \"Ank\"\n",
    "print(a)\n",
    "print(type(a))"
   ]
  },
  {
   "cell_type": "code",
   "execution_count": 133,
   "id": "568e9304-7237-4d5b-9c0f-74e3bce08b1b",
   "metadata": {
    "tags": []
   },
   "outputs": [
    {
     "name": "stdout",
     "output_type": "stream",
     "text": [
      "I'm Ank\n"
     ]
    }
   ],
   "source": [
    "b = \"I'm Ank\"\n",
    "print(b)"
   ]
  },
  {
   "cell_type": "code",
   "execution_count": 134,
   "id": "62231faf-311c-4980-a1d2-7e3957b5e3e2",
   "metadata": {
    "tags": []
   },
   "outputs": [
    {
     "name": "stdout",
     "output_type": "stream",
     "text": [
      "I'm Ank\n"
     ]
    }
   ],
   "source": [
    "b = \"I'm Ank\"\n",
    "print(b)"
   ]
  },
  {
   "cell_type": "code",
   "execution_count": 135,
   "id": "8d131e24-887c-4ffc-8564-61d28aa3e847",
   "metadata": {
    "tags": []
   },
   "outputs": [],
   "source": [
    "# trên là sự khác biệt giữa nháy đơn và nháy kép,\n",
    "# khi có nháy đơn r thì ta lên sử dụng nháy kép như trên\n",
    "# hoặc ngược lại"
   ]
  },
  {
   "cell_type": "code",
   "execution_count": 136,
   "id": "2a090e95-cc82-413c-abc9-1b3d86e57330",
   "metadata": {
    "tags": []
   },
   "outputs": [
    {
     "name": "stdout",
     "output_type": "stream",
     "text": [
      "Ank \n",
      "đẹp\n",
      "trai\n",
      "\n",
      "Ank đẹp trai\n",
      "\n",
      "Ank\n",
      "đẹp\n",
      "trai\n",
      "\n"
     ]
    }
   ],
   "source": [
    "# VD chuỗi nhiều dòng\n",
    "S0 = \"\"\"Ank \n",
    "đẹp\n",
    "trai\n",
    "\"\"\"\n",
    "S1 = \"\"\"Ank đẹp trai\n",
    "\"\"\"\n",
    "S2 = \"\"\"Ank\\nđẹp\\ntrai\n",
    "\"\"\"\n",
    "print(S0)\n",
    "print(S1)\n",
    "print(S2)"
   ]
  },
  {
   "cell_type": "raw",
   "id": "7bd83205-257b-44e4-a1e8-3df93d0672eb",
   "metadata": {},
   "source": [
    "\\a : phát ra một tiếng nào đó, tùy vào phần mềm code đang dùng\n",
    "\\b : đưa con trỏ về lại một khoảng trắng\n",
    "\\n : xuống dòng\n",
    "\\t : in một nút tab vào\n",
    "\\' hoặc \\\" : in ra ký tự  ' hoặc \"\n",
    "\\\\ : in ra ký tự \\"
   ]
  },
  {
   "cell_type": "code",
   "execution_count": 137,
   "id": "8d72db92-6103-4a68-9189-45a819941f99",
   "metadata": {
    "tags": []
   },
   "outputs": [
    {
     "name": "stdout",
     "output_type": "stream",
     "text": [
      "\u0007\n",
      "abce\n",
      "dong1\n",
      "dong2\n",
      "dong1\tdong2\n",
      "I'm beginner\n",
      "I\\m beginner\n"
     ]
    }
   ],
   "source": [
    "# VD :\n",
    "print('\\a')\n",
    "\n",
    "print('abcd\\be')\n",
    "\n",
    "print('dong1\\ndong2')\n",
    "\n",
    "print('dong1\\tdong2')\n",
    "\n",
    "print('I\\'m beginner')\n",
    "\n",
    "print('I\\\\m beginner')"
   ]
  },
  {
   "cell_type": "markdown",
   "id": "3ca694b2-81a8-4ae3-801a-bc03b97f6dc2",
   "metadata": {},
   "source": [
    "### Bare string "
   ]
  },
  {
   "cell_type": "raw",
   "id": "2424e4fb-7e8d-4f56-9879-70ebd8586d42",
   "metadata": {},
   "source": [
    "chuỗi trần : thêm r vào trc chuỗi"
   ]
  },
  {
   "cell_type": "code",
   "execution_count": 138,
   "id": "ad43f59e-60ff-4991-8cdf-fda6312569b7",
   "metadata": {
    "tags": []
   },
   "outputs": [
    {
     "name": "stdout",
     "output_type": "stream",
     "text": [
      "Haizz, \\neu mot ngay\n"
     ]
    }
   ],
   "source": [
    "#VD :\n",
    "print(r'Haizz, \\neu mot ngay')"
   ]
  },
  {
   "cell_type": "markdown",
   "id": "58dbb150-5d62-4384-9773-99a44fb84edb",
   "metadata": {},
   "source": [
    "### Add string"
   ]
  },
  {
   "cell_type": "raw",
   "id": "c88953c1-5206-4a72-9dca-6d54515756b9",
   "metadata": {},
   "source": [
    "cộng chuỗi, nhân chuỗi , ...."
   ]
  },
  {
   "cell_type": "code",
   "execution_count": 139,
   "id": "9d287c56-758a-4f99-b5cb-1c8d30c79844",
   "metadata": {
    "tags": []
   },
   "outputs": [
    {
     "name": "stdout",
     "output_type": "stream",
     "text": [
      "AnkVip\n",
      "Ank\tVip\n",
      "AnkAnkAnk\n"
     ]
    }
   ],
   "source": [
    "#VD\n",
    "strA = 'Ank'\n",
    "strB = 'Vip'\n",
    "strC = strA + strB\n",
    "strD = strA + '\\t' + strB\n",
    "strE = strA*3\n",
    "print(strC)\n",
    "print(strD)\n",
    "print(strE)"
   ]
  },
  {
   "cell_type": "raw",
   "id": "c9573291-9e6d-47ee-94ba-491db8930081",
   "metadata": {},
   "source": [
    "cách kiểm tra 1 chuỗi có nằm trong một chuỗi không và cho ra kết quả là True hoặc False"
   ]
  },
  {
   "cell_type": "code",
   "execution_count": 140,
   "id": "80bebb03-81c5-44e0-a4e1-7bfb93ee024a",
   "metadata": {
    "tags": []
   },
   "outputs": [
    {
     "name": "stdout",
     "output_type": "stream",
     "text": [
      "True\n",
      "True\n",
      "False\n"
     ]
    }
   ],
   "source": [
    "#VD\n",
    "strA = 'Ank'\n",
    "strB = 'A'\n",
    "strC = 'An'\n",
    "strD = 'da'\n",
    "strE = strB in strA\n",
    "strF = strC in strA\n",
    "strG = strD in strA\n",
    "print(strE)\n",
    "print(strF)\n",
    "print(strG)"
   ]
  },
  {
   "cell_type": "markdown",
   "id": "197bc6cf-1694-4ebb-9bbd-30f7eacb4cbd",
   "metadata": {},
   "source": [
    "### Find the position of the string"
   ]
  },
  {
   "cell_type": "raw",
   "id": "42b915dc-f2b8-4d75-981b-818654a87365",
   "metadata": {},
   "source": [
    "vị trí của chữ trong chuỗi và bắt đầu từ trái sang phải là từ 0++, ngược lại từ phải sang trái là -1 --."
   ]
  },
  {
   "cell_type": "code",
   "execution_count": 141,
   "id": "339531dc-dae9-4042-8e13-6cc0d21c1eea",
   "metadata": {
    "tags": []
   },
   "outputs": [
    {
     "name": "stdout",
     "output_type": "stream",
     "text": [
      "e\n",
      "A\n"
     ]
    }
   ],
   "source": [
    "strA = \"Nguyen Duy An\"\n",
    "strB = strA[4]\n",
    "strC = strA[-2]\n",
    "print(strB)\n",
    "print(strC)"
   ]
  },
  {
   "cell_type": "code",
   "execution_count": 142,
   "id": "c8cb9bcb-c9e6-42c2-a001-6512217ad073",
   "metadata": {
    "tags": []
   },
   "outputs": [
    {
     "name": "stdout",
     "output_type": "stream",
     "text": [
      "4756596134660021228\n"
     ]
    }
   ],
   "source": [
    "# VD mã của chuỗi\n",
    "strA = \"Nguyen Duy An\"\n",
    "print(hash(strA))"
   ]
  },
  {
   "cell_type": "code",
   "execution_count": 143,
   "id": "a4bf0358-aae8-4a74-8fef-79014ed5c486",
   "metadata": {
    "tags": []
   },
   "outputs": [
    {
     "name": "stdout",
     "output_type": "stream",
     "text": [
      "13\n"
     ]
    }
   ],
   "source": [
    "#VD xem độ dài của chuỗi\n",
    "strA = \"Nguyen Duy An\"\n",
    "strC = len(strA)\n",
    "print(strC)"
   ]
  },
  {
   "cell_type": "raw",
   "id": "e0122fe9-f90d-48d2-864d-af13f89081df",
   "metadata": {},
   "source": [
    "Cắt chuỗi\n",
    "công thức [<vị trí bắt đầu cắt> : <diểm dừng trc nó> : <bước nhảy>"
   ]
  },
  {
   "cell_type": "code",
   "execution_count": 144,
   "id": "ae58e256-56aa-4678-94bd-4115f5894cdf",
   "metadata": {
    "tags": []
   },
   "outputs": [
    {
     "name": "stdout",
     "output_type": "stream",
     "text": [
      "guy\n",
      "gynDy\n"
     ]
    }
   ],
   "source": [
    "strA = \"Nguyen Duy An\"\n",
    "strB = strA[1 : 4]\n",
    "strC = strA[1:10:2]\n",
    "print(strB)\n",
    "print(strC)"
   ]
  },
  {
   "cell_type": "markdown",
   "id": "b4e863ce-19b3-480b-9b65-266044e1d87f",
   "metadata": {},
   "source": [
    "### Press style"
   ]
  },
  {
   "cell_type": "raw",
   "id": "8c89544b-bd5b-4f5e-ac39-3ac8aee7c30e",
   "metadata": {},
   "source": [
    "ép kiểu"
   ]
  },
  {
   "cell_type": "code",
   "execution_count": 145,
   "id": "d01bc7f7-aea9-4e38-b934-bb8e0775443f",
   "metadata": {
    "tags": []
   },
   "outputs": [
    {
     "ename": "TypeError",
     "evalue": "can only concatenate str (not \"int\") to str",
     "output_type": "error",
     "traceback": [
      "\u001b[1;31m---------------------------------------------------------------------------\u001b[0m",
      "\u001b[1;31mTypeError\u001b[0m                                 Traceback (most recent call last)",
      "Cell \u001b[1;32mIn[145], line 1\u001b[0m\n\u001b[1;32m----> 1\u001b[0m strA \u001b[38;5;241m=\u001b[39m \u001b[38;5;124m'\u001b[39m\u001b[38;5;124m69\u001b[39m\u001b[38;5;124m'\u001b[39m \u001b[38;5;241m+\u001b[39m \u001b[38;5;241m5\u001b[39m\n\u001b[0;32m      2\u001b[0m \u001b[38;5;28mprint\u001b[39m(strA)\n",
      "\u001b[1;31mTypeError\u001b[0m: can only concatenate str (not \"int\") to str"
     ]
    }
   ],
   "source": [
    "strA = '69' + 5\n",
    "print(strA)\n",
    "# chưa ép kiểu lên k cộng dc"
   ]
  },
  {
   "cell_type": "code",
   "execution_count": 146,
   "id": "af7717e5-6eb5-4304-8f06-2745bfb82239",
   "metadata": {
    "tags": []
   },
   "outputs": [
    {
     "name": "stdout",
     "output_type": "stream",
     "text": [
      "74\n",
      "695\n",
      "6\n"
     ]
    }
   ],
   "source": [
    "strA = int('69') + 5\n",
    "strA2 =  '69' + str(5)\n",
    "strA3 = int(6.9)\n",
    "print(strA)\n",
    "print(strA2)\n",
    "print(strA3)"
   ]
  },
  {
   "cell_type": "markdown",
   "id": "0c72238b-74a2-470f-b77c-e9500cb47fd3",
   "metadata": {},
   "source": [
    "### String format"
   ]
  },
  {
   "cell_type": "raw",
   "id": "e4a36829-23b4-4d02-a026-c2d63265d558",
   "metadata": {},
   "source": [
    "Định dạng chuỗi"
   ]
  },
  {
   "cell_type": "code",
   "execution_count": 147,
   "id": "57786cf3-ee30-4685-874c-ab5f269e8568",
   "metadata": {
    "tags": []
   },
   "outputs": [
    {
     "name": "stdout",
     "output_type": "stream",
     "text": [
      " MY nam is An\n",
      " MY nam is %s\n",
      " MY nam is An\n",
      " MY nam is An an\n"
     ]
    }
   ],
   "source": [
    "a = ' MY nam is %s' %('An')\n",
    "a1 = ' MY nam is %s'\n",
    "a2 = ' MY nam %s An' %('is')\n",
    "# %s có thể ở đâu trong chuỗi cũng được\n",
    "a3 = ' MY nam is %s %s' %('An','an') \n",
    "# có bao nhiêu % s thêm sau % () bấy nhiêu cái.\n",
    "print(a)\n",
    "print(a1)\n",
    "print(a2)\n",
    "print(a3)"
   ]
  },
  {
   "cell_type": "code",
   "execution_count": 148,
   "id": "04ec5caa-2040-435e-a5c8-629c61e8574f",
   "metadata": {
    "tags": []
   },
   "outputs": [
    {
     "name": "stdout",
     "output_type": "stream",
     "text": [
      "1 2\n",
      "1 2\n"
     ]
    }
   ],
   "source": [
    "s = '%s %s'\n",
    "print(s %('1','2'))\n",
    "result = s %('1','2')\n",
    "print(result)"
   ]
  },
  {
   "cell_type": "code",
   "execution_count": 149,
   "id": "f2c52568-ffb2-49a8-8a7b-b62c8e3a1c16",
   "metadata": {
    "tags": []
   },
   "outputs": [
    {
     "name": "stdout",
     "output_type": "stream",
     "text": [
      "3.456\n"
     ]
    }
   ],
   "source": [
    "f = '%.3f' %(3.456457)\n",
    "# số 3 đằng trước là để làm tròn đến số thập thân thứ 3\n",
    "print(f)"
   ]
  },
  {
   "cell_type": "raw",
   "id": "c05c2a00-871e-47da-a0b9-bbdf4e896b56",
   "metadata": {},
   "source": [
    "Định dạng bằng chuỗi f-string"
   ]
  },
  {
   "cell_type": "code",
   "execution_count": 150,
   "id": "0c23f007-6966-4804-ab2a-7b65d249aaa2",
   "metadata": {
    "tags": []
   },
   "outputs": [
    {
     "name": "stdout",
     "output_type": "stream",
     "text": [
      "a\tb\n"
     ]
    }
   ],
   "source": [
    "print(f'a\\tb')"
   ]
  },
  {
   "cell_type": "code",
   "execution_count": 151,
   "id": "c63c3c21-6a61-4daa-9c7e-ba17d4e648c8",
   "metadata": {
    "tags": []
   },
   "outputs": [
    {
     "name": "stdout",
     "output_type": "stream",
     "text": [
      "Anne - day la gi\n",
      "{an} - day la gi\n",
      "{an} - day la gi\n"
     ]
    }
   ],
   "source": [
    "an = 'Anne'\n",
    "result = f'{an} - day la gi'\n",
    "result1 = '{an} - day la gi'\n",
    "result2 = f'{{an}} - day la gi'\n",
    "print(result)\n",
    "print(result1)\n",
    "print(result2)\n",
    "#f đây hiểu đơn giản dùng để thay thế 1 biến thành giá trị của biến đó"
   ]
  },
  {
   "cell_type": "raw",
   "id": "f3250e8c-e55b-4700-b3fc-f513e95dd1bf",
   "metadata": {},
   "source": [
    "Định dạng bằng phương thức format"
   ]
  },
  {
   "cell_type": "code",
   "execution_count": 152,
   "id": "cfd69e9e-8712-465f-a504-e0cc0dfd9d6f",
   "metadata": {
    "tags": []
   },
   "outputs": [
    {
     "name": "stdout",
     "output_type": "stream",
     "text": [
      "1:111,2:222\n",
      "1:111,2:222\n",
      "1:222,2:111\n"
     ]
    }
   ],
   "source": [
    "r1 = '1:{one},2:{two}'.format(one=111, two=222)\n",
    "print(r1)\n",
    "r2 = '1:{},2:{}'.format(111, 222)\n",
    "print(r2)\n",
    "r3 = '1:{1},2:{0}'.format(111, 222)\n",
    "print(r3)"
   ]
  },
  {
   "cell_type": "raw",
   "id": "936a72cf-bf3e-4571-8e82-a67dbe05494b",
   "metadata": {},
   "source": [
    "Căn lề của format\n",
    "Căn lề trái: {:(c)<n}\n",
    "Căn lề phải: {:(c)>n}\n",
    "Căn lề giữa: {:(c)^n}\n",
    "Với c là kí tự muốn thay thế vào chỗ trống( c có thẻ có hoặc không), còn n là số kí tự dùng để căn lề"
   ]
  },
  {
   "cell_type": "code",
   "execution_count": 153,
   "id": "43bfc51a-7553-4143-90b3-37dbd3496838",
   "metadata": {
    "tags": []
   },
   "outputs": [
    {
     "name": "stdout",
     "output_type": "stream",
     "text": [
      "ttttttttaaaatttttttt\n",
      "an  ********aaaa********  ne\n"
     ]
    }
   ],
   "source": [
    "# VD\n",
    "a = '{:t^20}'.format('aaaa')\n",
    "print(a)\n",
    "a1 = 'an  {:*^20}  ne'.format('aaaa')\n",
    "print(a1)"
   ]
  },
  {
   "cell_type": "markdown",
   "id": "de09072e-0d71-473c-93d0-748698c53bea",
   "metadata": {},
   "source": [
    "### Functions in strings"
   ]
  },
  {
   "cell_type": "raw",
   "id": "a38aabb3-a36d-4ca3-9ef5-694ed397908d",
   "metadata": {},
   "source": [
    "các hàm trong chuỗi\n"
   ]
  },
  {
   "cell_type": "code",
   "execution_count": 154,
   "id": "d80460f6-ca86-4eff-8170-2c13c1cfe790",
   "metadata": {
    "tags": []
   },
   "outputs": [
    {
     "name": "stdout",
     "output_type": "stream",
     "text": [
      "12\n",
      "<class 'str'>\n"
     ]
    }
   ],
   "source": [
    "a = '12'\n",
    "print(int(a))\n",
    "print(type(a))"
   ]
  },
  {
   "cell_type": "code",
   "execution_count": 155,
   "id": "b5207cce-44a1-44d2-92f7-ca95d11abcdf",
   "metadata": {
    "tags": []
   },
   "outputs": [
    {
     "name": "stdout",
     "output_type": "stream",
     "text": [
      "an iS AN\n",
      "An is an\n"
     ]
    }
   ],
   "source": [
    "a = 'an iS AN'\n",
    "b = a.capitalize()\n",
    "print(a)\n",
    "print(b)\n",
    "# cho ra 1 kết quả nếu là 1 chuỗi thì viết hoa chữ cái đầu \n",
    "#và viết thường các chữ cái còn lại"
   ]
  },
  {
   "cell_type": "code",
   "execution_count": 156,
   "id": "d1e8d459-69ac-4e99-be9e-ef8282b9e5fe",
   "metadata": {
    "tags": []
   },
   "outputs": [
    {
     "name": "stdout",
     "output_type": "stream",
     "text": [
      "an iS AN\n",
      "AN IS AN\n"
     ]
    }
   ],
   "source": [
    "a = 'an iS AN'\n",
    "b = a.upper()\n",
    "print(a)\n",
    "print(b)\n",
    "# upper viết hoa hết tất cả"
   ]
  },
  {
   "cell_type": "code",
   "execution_count": 157,
   "id": "df5772ff-f7d8-4bb5-823a-22df6d67e6b7",
   "metadata": {
    "tags": []
   },
   "outputs": [
    {
     "name": "stdout",
     "output_type": "stream",
     "text": [
      "an iS AN\n",
      "an is an\n"
     ]
    }
   ],
   "source": [
    "a = 'an iS AN'\n",
    "b = a.lower()\n",
    "print(a)\n",
    "print(b)\n",
    "# lower viết thường tất cả"
   ]
  },
  {
   "cell_type": "code",
   "execution_count": 158,
   "id": "ccca37ee-81b8-43d7-8299-96a44569ff14",
   "metadata": {
    "tags": []
   },
   "outputs": [
    {
     "name": "stdout",
     "output_type": "stream",
     "text": [
      "an iS AN\n",
      "AN Is an\n"
     ]
    }
   ],
   "source": [
    "a = 'an iS AN'\n",
    "b = a.swapcase()\n",
    "print(a)\n",
    "print(b)\n",
    "# swapcase chữ thường viết hoa chữ hoa viết thường"
   ]
  },
  {
   "cell_type": "code",
   "execution_count": 159,
   "id": "0f039177-4331-40fb-a37e-adb23efc9bdf",
   "metadata": {
    "tags": []
   },
   "outputs": [
    {
     "name": "stdout",
     "output_type": "stream",
     "text": [
      "an iS AN\n",
      "An Is An\n"
     ]
    }
   ],
   "source": [
    "a = 'an iS AN'\n",
    "b = a.title()\n",
    "print(a)\n",
    "print(b)\n",
    "# title Viết hoa các chữ cái đầu , các chữu cái sau viết thường"
   ]
  },
  {
   "cell_type": "code",
   "execution_count": 160,
   "id": "caa3e3d8-d447-427c-af2c-16872afc8f3c",
   "metadata": {
    "tags": []
   },
   "outputs": [
    {
     "name": "stdout",
     "output_type": "stream",
     "text": [
      "an iS AN\n",
      "***********an iS AN***********\n"
     ]
    }
   ],
   "source": [
    "a = 'an iS AN'\n",
    "b = a.center(30, '*')\n",
    "print(a)\n",
    "print(b)\n",
    "# center dùng để căn giữa , cái ký tự sau 30 k điền cũng được\n",
    "# và nó là 1 chuỗi chỉ có độ dài là 1"
   ]
  },
  {
   "cell_type": "code",
   "execution_count": 161,
   "id": "76a0b897-6b47-4f0b-b426-bd8c88fb724d",
   "metadata": {
    "tags": []
   },
   "outputs": [
    {
     "name": "stdout",
     "output_type": "stream",
     "text": [
      "an iS AN\n",
      "------------an iS AN\n"
     ]
    }
   ],
   "source": [
    "a = 'an iS AN'\n",
    "b = a.rjust(20, '-')\n",
    "print(a)\n",
    "print(b)\n",
    "# căn phải"
   ]
  },
  {
   "cell_type": "code",
   "execution_count": 162,
   "id": "89b435b6-52b6-4811-a8d8-d6d3ade0bf8a",
   "metadata": {
    "tags": []
   },
   "outputs": [
    {
     "name": "stdout",
     "output_type": "stream",
     "text": [
      "an iS AN\n",
      "an iS AN------------\n"
     ]
    }
   ],
   "source": [
    "a = 'an iS AN'\n",
    "b = a.ljust(20, '-')\n",
    "print(a)\n",
    "print(b)\n",
    "# căn trái"
   ]
  },
  {
   "cell_type": "raw",
   "id": "fea16550-4d77-4365-bd99-19408ce249f5",
   "metadata": {},
   "source": [
    "Mã hóa"
   ]
  },
  {
   "cell_type": "code",
   "execution_count": 163,
   "id": "09999c48-339a-42ef-ac17-a097c8519365",
   "metadata": {
    "tags": []
   },
   "outputs": [
    {
     "name": "stdout",
     "output_type": "stream",
     "text": [
      "an iS AN\n",
      "b'an iS AN'\n",
      "b'an iS AN'\n"
     ]
    }
   ],
   "source": [
    "a = 'an iS AN'\n",
    "b = a.encode(encoding = 'utf-8', errors = 'strict')\n",
    "b1 = a.encode()\n",
    "print(a)\n",
    "print(b)\n",
    "print(b1)\n",
    "# dùng để mã hóa"
   ]
  },
  {
   "cell_type": "code",
   "execution_count": 164,
   "id": "b7b7d809-c619-4181-a130-f56937b9e8ab",
   "metadata": {
    "tags": []
   },
   "outputs": [
    {
     "name": "stdout",
     "output_type": "stream",
     "text": [
      "b'c\\xc3\\xb3 g\\xc3\\xac h\\xc3\\xb3t'\n"
     ]
    }
   ],
   "source": [
    "a = 'có gì hót'\n",
    "b = a.encode()\n",
    "print(b)"
   ]
  },
  {
   "cell_type": "raw",
   "id": "2231a64f-a830-40b1-8fcb-faeda195619a",
   "metadata": {},
   "source": [
    "hết của mã hóa"
   ]
  },
  {
   "cell_type": "code",
   "execution_count": 165,
   "id": "e629fd28-de21-4312-9116-bddae1403cfd",
   "metadata": {
    "tags": []
   },
   "outputs": [
    {
     "name": "stdout",
     "output_type": "stream",
     "text": [
      " an is an\n",
      "1 an is an2 an is an3\n"
     ]
    }
   ],
   "source": [
    "a = ' an is an'\n",
    "b = a.join(['1','2','3'])\n",
    "print(a)\n",
    "print(b)\n",
    "# trong join phải là chuỗi hoặc các chuỗi"
   ]
  },
  {
   "cell_type": "code",
   "execution_count": 166,
   "id": "66b41c45-4198-4c09-a864-68e2195b2a0f",
   "metadata": {
    "tags": []
   },
   "outputs": [
    {
     "name": "stdout",
     "output_type": "stream",
     "text": [
      " an is an\n",
      " án is án\n"
     ]
    }
   ],
   "source": [
    "a = ' an is an'\n",
    "b = a.replace('a','á')\n",
    "print(a)\n",
    "print(b)\n",
    "# thay thế 1 chuỗi thành 1 chuỗi mới"
   ]
  },
  {
   "cell_type": "code",
   "execution_count": 167,
   "id": "fb472a9d-2469-4ff1-adf5-feb0e621de89",
   "metadata": {
    "tags": []
   },
   "outputs": [
    {
     "name": "stdout",
     "output_type": "stream",
     "text": [
      " an is an\n",
      " án is an\n"
     ]
    }
   ],
   "source": [
    "a = ' an is an'\n",
    "b = a.replace('a','á', 1)\n",
    "print(a)\n",
    "print(b)\n",
    "# thêm số đằng sau nữa như trên thì nó thay thế 1 cái hoặc nhiều cái"
   ]
  },
  {
   "cell_type": "code",
   "execution_count": 168,
   "id": "94de849f-a533-42fc-b208-b47c5244ad0f",
   "metadata": {
    "tags": []
   },
   "outputs": [
    {
     "name": "stdout",
     "output_type": "stream",
     "text": [
      "an is an\n",
      "an is a\n",
      "n is an\n"
     ]
    }
   ],
   "source": [
    "a = 'an is an'\n",
    "b = a.strip('n')\n",
    "c = a.strip('a')\n",
    "print(a)\n",
    "print(b)\n",
    "print(c)\n",
    "# dùng để xóa kí tự đầu tiên hoặc cuỗi cùng hoặc ta có thể \n",
    "#ghi 2 hoặc nhiều kí tự hơn nhưng phải nằm ở phía đầu hoặc cuối.\n",
    "# có thể dùng lstrip() hoặc rstrip để cắt trái hoặc phải"
   ]
  },
  {
   "cell_type": "markdown",
   "id": "1889849e-5301-48eb-96ce-c505602d0249",
   "metadata": {},
   "source": [
    "### Methods in the string"
   ]
  },
  {
   "cell_type": "raw",
   "id": "1c9bdd02-cbde-41f3-bc45-d70993984390",
   "metadata": {},
   "source": [
    "các phương thức trong chuỗi"
   ]
  },
  {
   "cell_type": "code",
   "execution_count": 169,
   "id": "f041f5cf-bdcd-49c3-b872-4b1612f232fd",
   "metadata": {
    "tags": []
   },
   "outputs": [
    {
     "name": "stdout",
     "output_type": "stream",
     "text": [
      "['Nguyễn', 'Duy', 'An']\n",
      "['Ng', 'yễn D', 'y An']\n"
     ]
    }
   ],
   "source": [
    "a = 'Nguyễn Duy An'\n",
    "b = a.split(' ')\n",
    "# split cắt bằng 1 ký tự trong chuỗi\n",
    "c = a.split('u')\n",
    "print(b)\n",
    "print(c)\n",
    "# split là phương thức cắt rồi trả về 1 list"
   ]
  },
  {
   "cell_type": "code",
   "execution_count": 170,
   "id": "031ce5a1-3c31-458c-8c45-bf84e5a019a1",
   "metadata": {
    "tags": []
   },
   "outputs": [
    {
     "name": "stdout",
     "output_type": "stream",
     "text": [
      "['Nguyễn', 'Duy', 'An nè']\n",
      "['Ng', 'yễn Duy An nè']\n"
     ]
    }
   ],
   "source": [
    "a = 'Nguyễn Duy An nè'\n",
    "b = a.split(' ',2)\n",
    "# split cắt bằng 1 ký tự trong chuỗi, và với số lần cắt đc ghi ở sau\n",
    "c = a.split('u',1)\n",
    "print(b)\n",
    "print(c)\n",
    "# split là phương thức cắt rồi trả về 1 list\n",
    "# với rsplit : cắt phải qua trái\n",
    "# bth thì nó là cắt trái lên k cần lsplit"
   ]
  },
  {
   "cell_type": "code",
   "execution_count": 171,
   "id": "8690f789-e29f-443e-9a65-4cd59f6f9a2a",
   "metadata": {
    "tags": []
   },
   "outputs": [
    {
     "name": "stdout",
     "output_type": "stream",
     "text": [
      "('Ng', 'u', 'yễn Duy DAn')\n"
     ]
    }
   ],
   "source": [
    "a = 'Nguyễn Duy DAn'\n",
    "b = a.partition('u')\n",
    "print(b)\n",
    "# trả về 1 tupple với 3 phần tử với phần tử đầu tiên nó thấy\n",
    "# rồi cắt ra làm 3 với phần tử muốn cắt\n",
    "# rpartition cắt từ phải qua trái"
   ]
  },
  {
   "cell_type": "code",
   "execution_count": 172,
   "id": "54d20262-1a71-4571-8326-93e5388c6422",
   "metadata": {
    "tags": []
   },
   "outputs": [
    {
     "name": "stdout",
     "output_type": "stream",
     "text": [
      "2\n"
     ]
    }
   ],
   "source": [
    "a = 'Nguyễn Duy An'\n",
    "b = a.count('u')\n",
    "print(b)\n",
    "# count dùng để đếm các phần tử trong chuỗi"
   ]
  },
  {
   "cell_type": "code",
   "execution_count": 173,
   "id": "e2d60129-180b-4833-8fe2-363be6d2bf04",
   "metadata": {
    "tags": []
   },
   "outputs": [
    {
     "name": "stdout",
     "output_type": "stream",
     "text": [
      "2\n"
     ]
    }
   ],
   "source": [
    "a = 'Nguyễn Duy An'\n",
    "b = a.count('u',0,10)\n",
    "# thêm 2 số đằng sau nói là tìm có bn chữ u trong khoảng từ\n",
    "# vị trí 0 đến 10\n",
    "print(b)\n",
    "# count dùng để đếm các phần tử trong chuỗi"
   ]
  },
  {
   "cell_type": "code",
   "execution_count": 174,
   "id": "ffb51c57-a56b-45c0-8b9b-35871296fd14",
   "metadata": {
    "tags": []
   },
   "outputs": [
    {
     "name": "stdout",
     "output_type": "stream",
     "text": [
      "True\n"
     ]
    }
   ],
   "source": [
    "a = 'Nguyễn Duy An'\n",
    "b = a.startswith('N')\n",
    "print(b)\n",
    "# startswith là dùng để tìm chữ cái bắt đầu hoặc từ bắt đầu"
   ]
  },
  {
   "cell_type": "code",
   "execution_count": 175,
   "id": "3acf80d5-ca11-49a2-9777-3b1d0fa8ecfb",
   "metadata": {
    "tags": []
   },
   "outputs": [
    {
     "name": "stdout",
     "output_type": "stream",
     "text": [
      "True\n"
     ]
    }
   ],
   "source": [
    "a = 'Nguyễn Duy An'\n",
    "b = a.startswith('N')\n",
    "print(b)\n",
    "# startswith là dùng để tìm chữ cái bắt đầu hoặc từ bắt đầu"
   ]
  },
  {
   "cell_type": "code",
   "execution_count": 176,
   "id": "7b2ba50c-41da-4c36-bac5-9242b88e9e32",
   "metadata": {
    "tags": []
   },
   "outputs": [
    {
     "name": "stdout",
     "output_type": "stream",
     "text": [
      "True\n"
     ]
    }
   ],
   "source": [
    "a = 'Nguyễn Duy An'\n",
    "b = a.startswith('Nguyễn',0,6)\n",
    "print(b)\n",
    "# startswith là dùng để tìm chữ cái bắt đầu hoặc từ bắt đầu"
   ]
  },
  {
   "cell_type": "code",
   "execution_count": 177,
   "id": "4ba5e6f9-5c2b-400e-be5f-a07364711789",
   "metadata": {
    "tags": []
   },
   "outputs": [
    {
     "name": "stdout",
     "output_type": "stream",
     "text": [
      "True\n"
     ]
    }
   ],
   "source": [
    "a = 'Nguyễn Duy An'\n",
    "b = a.endswith('n')\n",
    "print(b)\n",
    "# endswith là dùng để tìm chữ cái cuối cùng"
   ]
  },
  {
   "cell_type": "code",
   "execution_count": 178,
   "id": "643174b8-7800-47ef-a35a-8570a58ff11f",
   "metadata": {
    "tags": []
   },
   "outputs": [
    {
     "name": "stdout",
     "output_type": "stream",
     "text": [
      "2\n"
     ]
    }
   ],
   "source": [
    "a = 'Nguyễn Duy An'\n",
    "b = a.find('u')\n",
    "print(b)\n",
    "# find tìm vị trí của phần tử mà mình muốn tìm\n",
    "# có cả rfind"
   ]
  },
  {
   "cell_type": "code",
   "execution_count": 179,
   "id": "61763f71-3455-434a-a86b-3ee397a31e27",
   "metadata": {
    "tags": []
   },
   "outputs": [
    {
     "name": "stdout",
     "output_type": "stream",
     "text": [
      "0\n"
     ]
    }
   ],
   "source": [
    "a = 'Nguyễn Duy An'\n",
    "b = a.index('N')\n",
    "print(b)\n",
    "# index là tìm vị trí của phần tử mà mình muốn tìm \n",
    "# nếu phần tử đó không có thì nó sẽ báo lỗi\n",
    "# có cả rindex"
   ]
  },
  {
   "cell_type": "code",
   "execution_count": 180,
   "id": "494858ce-593d-4904-ad4a-afee83fbcd17",
   "metadata": {
    "tags": []
   },
   "outputs": [
    {
     "name": "stdout",
     "output_type": "stream",
     "text": [
      "False\n"
     ]
    }
   ],
   "source": [
    "a = 'Nguyễn Duy An'\n",
    "b = a.islower()\n",
    "print(b)\n",
    "# islower có phải chuỗi viết thường không nếu là chuỗi có viết hoa thì báo sai"
   ]
  },
  {
   "cell_type": "code",
   "execution_count": 181,
   "id": "7106bb4f-bb8a-468e-85d4-e93ac1f0e0f3",
   "metadata": {
    "tags": []
   },
   "outputs": [
    {
     "name": "stdout",
     "output_type": "stream",
     "text": [
      "False\n"
     ]
    }
   ],
   "source": [
    "a = 'Nguyễn Duy An'\n",
    "b = a.isupper()\n",
    "print(b)\n",
    "# isupper kiểm tra có phải chuỗi viết hoa không"
   ]
  },
  {
   "cell_type": "code",
   "execution_count": 182,
   "id": "65c04100-4b22-4893-9d6a-b91a8c1aeed5",
   "metadata": {
    "tags": []
   },
   "outputs": [
    {
     "name": "stdout",
     "output_type": "stream",
     "text": [
      "False\n",
      "True\n"
     ]
    }
   ],
   "source": [
    "a = 'Nguyễn Duy An'\n",
    "c = '5'\n",
    "b = a.isdigit()\n",
    "d = c.isdigit()\n",
    "print(b)\n",
    "print(d)\n",
    "# isdigit là kiểm tra tất cả xem nó có phải là số không"
   ]
  },
  {
   "cell_type": "code",
   "execution_count": 183,
   "id": "f4ff667a-9967-4c84-b752-90af91df36d5",
   "metadata": {
    "tags": []
   },
   "outputs": [
    {
     "name": "stdout",
     "output_type": "stream",
     "text": [
      "True\n"
     ]
    }
   ],
   "source": [
    "a = ' '\n",
    "b = a.isspace()\n",
    "print(b)\n",
    "# isspace ktra xem có phải khoảng trắng không"
   ]
  },
  {
   "cell_type": "markdown",
   "id": "4e5c5a13-29eb-413a-ba8a-968550050d57",
   "metadata": {},
   "source": [
    "## List in python"
   ]
  },
  {
   "cell_type": "raw",
   "id": "68926c9b-b0c8-4d49-b4ed-462d4f5deeee",
   "metadata": {
    "tags": []
   },
   "source": [
    " - List giới hạn bởi các cặp ngoặc vuông [], trng cặp ngoặc [] là các phần tử của list và các nhau bởi dấu phẩy ( , )\n",
    " - List có khả năng chứ mọi giá trị đối tượng của python và bao gồm chính nó\n",
    " - List rỗng là list không có phần tử nào  (VD : a = [] )"
   ]
  },
  {
   "cell_type": "code",
   "execution_count": 184,
   "id": "6c62fdbf-ac42-402f-8976-092e12939850",
   "metadata": {
    "tags": []
   },
   "outputs": [
    {
     "name": "stdout",
     "output_type": "stream",
     "text": [
      "[1, 2, 5, 'An']\n"
     ]
    }
   ],
   "source": [
    "a = [1,2,5,'An']\n",
    "print(a)"
   ]
  },
  {
   "cell_type": "code",
   "execution_count": 185,
   "id": "8746b4ba-48a2-4185-9334-051b849424e4",
   "metadata": {
    "tags": []
   },
   "outputs": [
    {
     "name": "stdout",
     "output_type": "stream",
     "text": [
      "[[1], ['An'], [8.5]]\n"
     ]
    }
   ],
   "source": [
    "a = [[1],['An'],[8.5]]\n",
    "print(a)"
   ]
  },
  {
   "cell_type": "code",
   "execution_count": 186,
   "id": "61ca6c25-8f76-40fd-8ad6-1dc0f3e6adbc",
   "metadata": {
    "tags": []
   },
   "outputs": [
    {
     "name": "stdout",
     "output_type": "stream",
     "text": [
      "[0, 1, 2, 3, 4, 5, 6, 7, 8, 9, 10, 11, 12, 13, 14, 15, 16, 17, 18, 19, 20, 21, 22, 23, 24, 25, 26, 27, 28, 29, 30, 31, 32, 33, 34, 35, 36, 37, 38, 39, 40, 41, 42, 43, 44, 45, 46, 47, 48, 49, 50, 51, 52, 53, 54, 55, 56, 57, 58, 59, 60, 61, 62, 63, 64, 65, 66, 67, 68, 69, 70, 71, 72, 73, 74, 75, 76, 77, 78, 79, 80, 81, 82, 83, 84, 85, 86, 87, 88, 89, 90, 91, 92, 93, 94, 95, 96, 97, 98, 99, 100, 101, 102, 103, 104, 105, 106, 107, 108, 109, 110, 111, 112, 113, 114, 115, 116, 117, 118, 119, 120, 121, 122, 123, 124, 125, 126, 127, 128, 129, 130, 131, 132, 133, 134, 135, 136, 137, 138, 139, 140, 141, 142, 143, 144, 145, 146, 147, 148, 149, 150, 151, 152, 153, 154, 155, 156, 157, 158, 159, 160, 161, 162, 163, 164, 165, 166, 167, 168, 169, 170, 171, 172, 173, 174, 175, 176, 177, 178, 179, 180, 181, 182, 183, 184, 185, 186, 187, 188, 189, 190, 191, 192, 193, 194, 195, 196, 197, 198, 199, 200, 201, 202, 203, 204, 205, 206, 207, 208, 209, 210, 211, 212, 213, 214, 215, 216, 217, 218, 219, 220, 221, 222, 223, 224, 225, 226, 227, 228, 229, 230, 231, 232, 233, 234, 235, 236, 237, 238, 239, 240, 241, 242, 243, 244, 245, 246, 247, 248, 249, 250, 251, 252, 253, 254, 255, 256, 257, 258, 259, 260, 261, 262, 263, 264, 265, 266, 267, 268, 269, 270, 271, 272, 273, 274, 275, 276, 277, 278, 279, 280, 281, 282, 283, 284, 285, 286, 287, 288, 289, 290, 291, 292, 293, 294, 295, 296, 297, 298, 299, 300, 301, 302, 303, 304, 305, 306, 307, 308, 309, 310, 311, 312, 313, 314, 315, 316, 317, 318, 319, 320, 321, 322, 323, 324, 325, 326, 327, 328, 329, 330, 331, 332, 333, 334, 335, 336, 337, 338, 339, 340, 341, 342, 343, 344, 345, 346, 347, 348, 349, 350, 351, 352, 353, 354, 355, 356, 357, 358, 359, 360, 361, 362, 363, 364, 365, 366, 367, 368, 369, 370, 371, 372, 373, 374, 375, 376, 377, 378, 379, 380, 381, 382, 383, 384, 385, 386, 387, 388, 389, 390, 391, 392, 393, 394, 395, 396, 397, 398, 399, 400, 401, 402, 403, 404, 405, 406, 407, 408, 409, 410, 411, 412, 413, 414, 415, 416, 417, 418, 419, 420, 421, 422, 423, 424, 425, 426, 427, 428, 429, 430, 431, 432, 433, 434, 435, 436, 437, 438, 439, 440, 441, 442, 443, 444, 445, 446, 447, 448, 449, 450, 451, 452, 453, 454, 455, 456, 457, 458, 459, 460, 461, 462, 463, 464, 465, 466, 467, 468, 469, 470, 471, 472, 473, 474, 475, 476, 477, 478, 479, 480, 481, 482, 483, 484, 485, 486, 487, 488, 489, 490, 491, 492, 493, 494, 495, 496, 497, 498, 499, 500, 501, 502, 503, 504, 505, 506, 507, 508, 509, 510, 511, 512, 513, 514, 515, 516, 517, 518, 519, 520, 521, 522, 523, 524, 525, 526, 527, 528, 529, 530, 531, 532, 533, 534, 535, 536, 537, 538, 539, 540, 541, 542, 543, 544, 545, 546, 547, 548, 549, 550, 551, 552, 553, 554, 555, 556, 557, 558, 559, 560, 561, 562, 563, 564, 565, 566, 567, 568, 569, 570, 571, 572, 573, 574, 575, 576, 577, 578, 579, 580, 581, 582, 583, 584, 585, 586, 587, 588, 589, 590, 591, 592, 593, 594, 595, 596, 597, 598, 599, 600, 601, 602, 603, 604, 605, 606, 607, 608, 609, 610, 611, 612, 613, 614, 615, 616, 617, 618, 619, 620, 621, 622, 623, 624, 625, 626, 627, 628, 629, 630, 631, 632, 633, 634, 635, 636, 637, 638, 639, 640, 641, 642, 643, 644, 645, 646, 647, 648, 649, 650, 651, 652, 653, 654, 655, 656, 657, 658, 659, 660, 661, 662, 663, 664, 665, 666, 667, 668, 669, 670, 671, 672, 673, 674, 675, 676, 677, 678, 679, 680, 681, 682, 683, 684, 685, 686, 687, 688, 689, 690, 691, 692, 693, 694, 695, 696, 697, 698, 699, 700, 701, 702, 703, 704, 705, 706, 707, 708, 709, 710, 711, 712, 713, 714, 715, 716, 717, 718, 719, 720, 721, 722, 723, 724, 725, 726, 727, 728, 729, 730, 731, 732, 733, 734, 735, 736, 737, 738, 739, 740, 741, 742, 743, 744, 745, 746, 747, 748, 749, 750, 751, 752, 753, 754, 755, 756, 757, 758, 759, 760, 761, 762, 763, 764, 765, 766, 767, 768, 769, 770, 771, 772, 773, 774, 775, 776, 777, 778, 779, 780, 781, 782, 783, 784, 785, 786, 787, 788, 789, 790, 791, 792, 793, 794, 795, 796, 797, 798, 799, 800, 801, 802, 803, 804, 805, 806, 807, 808, 809, 810, 811, 812, 813, 814, 815, 816, 817, 818, 819, 820, 821, 822, 823, 824, 825, 826, 827, 828, 829, 830, 831, 832, 833, 834, 835, 836, 837, 838, 839, 840, 841, 842, 843, 844, 845, 846, 847, 848, 849, 850, 851, 852, 853, 854, 855, 856, 857, 858, 859, 860, 861, 862, 863, 864, 865, 866, 867, 868, 869, 870, 871, 872, 873, 874, 875, 876, 877, 878, 879, 880, 881, 882, 883, 884, 885, 886, 887, 888, 889, 890, 891, 892, 893, 894, 895, 896, 897, 898, 899, 900, 901, 902, 903, 904, 905, 906, 907, 908, 909, 910, 911, 912, 913, 914, 915, 916, 917, 918, 919, 920, 921, 922, 923, 924, 925, 926, 927, 928, 929, 930, 931, 932, 933, 934, 935, 936, 937, 938, 939, 940, 941, 942, 943, 944, 945, 946, 947, 948, 949, 950, 951, 952, 953, 954, 955, 956, 957, 958, 959, 960, 961, 962, 963, 964, 965, 966, 967, 968, 969, 970, 971, 972, 973, 974, 975, 976, 977, 978, 979, 980, 981, 982, 983, 984, 985, 986, 987, 988, 989, 990, 991, 992, 993, 994, 995, 996, 997, 998, 999]\n"
     ]
    }
   ],
   "source": [
    "a = [i for i in range(1000)]\n",
    "print(a)\n",
    "# tạo ra 1 list từ 0 cho tới 999"
   ]
  },
  {
   "cell_type": "code",
   "execution_count": 187,
   "id": "8739ef23-e60e-44e5-b323-d1974b4e45e3",
   "metadata": {
    "tags": []
   },
   "outputs": [
    {
     "name": "stdout",
     "output_type": "stream",
     "text": [
      "[[1, 1, 2], [2, 2, 4], [3, 3, 6]]\n"
     ]
    }
   ],
   "source": [
    "a = [[n,n*1,n*2] for n in range(1,4)]\n",
    "print(a)"
   ]
  },
  {
   "cell_type": "markdown",
   "id": "52064816-f6fd-4acd-b21e-45c0d732ee98",
   "metadata": {},
   "source": [
    "### structure list"
   ]
  },
  {
   "cell_type": "code",
   "execution_count": 188,
   "id": "47a3d4bc-6f99-4bed-8c90-2011eb0197e4",
   "metadata": {
    "tags": []
   },
   "outputs": [
    {
     "name": "stdout",
     "output_type": "stream",
     "text": [
      "['A', 'n', ' ', 'n', 'è']\n"
     ]
    }
   ],
   "source": [
    "a = list('An nè')\n",
    "print(a)"
   ]
  },
  {
   "cell_type": "markdown",
   "id": "735326d5-207a-4e93-9130-9f379b646135",
   "metadata": {},
   "source": [
    "### List operator"
   ]
  },
  {
   "cell_type": "raw",
   "id": "a0b7c5e5-57b8-49b4-81ab-6ef67d95ae6e",
   "metadata": {},
   "source": [
    "toán tử của list"
   ]
  },
  {
   "cell_type": "code",
   "execution_count": 189,
   "id": "2d03c54e-3f7f-4ac0-ab2a-13d7888aec28",
   "metadata": {
    "tags": []
   },
   "outputs": [
    {
     "name": "stdout",
     "output_type": "stream",
     "text": [
      "[1, 2, 'one', 'two']\n"
     ]
    }
   ],
   "source": [
    "a = [1,2]\n",
    "a = a + ['one','two']\n",
    "print(a)\n",
    "# chỉ list + list mới đc"
   ]
  },
  {
   "cell_type": "code",
   "execution_count": 190,
   "id": "9704c9d1-0ccf-4256-b740-f6787df23d6d",
   "metadata": {
    "tags": []
   },
   "outputs": [
    {
     "name": "stdout",
     "output_type": "stream",
     "text": [
      "[1, 2, 1, 2]\n"
     ]
    }
   ],
   "source": [
    "a = [1,2]\n",
    "a *= 2\n",
    "print(a)\n",
    "# không nhân dc list với nhau"
   ]
  },
  {
   "cell_type": "code",
   "execution_count": 191,
   "id": "40997256-4b52-4860-87a1-9f7da590e479",
   "metadata": {
    "tags": []
   },
   "outputs": [
    {
     "name": "stdout",
     "output_type": "stream",
     "text": [
      "True\n"
     ]
    }
   ],
   "source": [
    "a = [1,2]\n",
    "b = 1 in a\n",
    "print(b)\n",
    "# in dùng để xem phần tử này có trong list không"
   ]
  },
  {
   "cell_type": "code",
   "execution_count": 192,
   "id": "aeb33f7f-3b40-41ea-afbe-90bae803b7bf",
   "metadata": {
    "tags": []
   },
   "outputs": [
    {
     "name": "stdout",
     "output_type": "stream",
     "text": [
      "4\n",
      "1\n"
     ]
    }
   ],
   "source": [
    "a = [1,2,'a','b','c',[3,4]]\n",
    "c = a[0]\n",
    "b = a[5][1]\n",
    "print(b)\n",
    "print(c)\n",
    "# cách lấy phần tử thứ 'k' trong list"
   ]
  },
  {
   "cell_type": "code",
   "execution_count": 193,
   "id": "c70d881f-2335-49b0-b042-9bbb7cc88d69",
   "metadata": {
    "tags": []
   },
   "outputs": [
    {
     "name": "stdout",
     "output_type": "stream",
     "text": [
      "[1, 2, 'a', 'b']\n"
     ]
    }
   ],
   "source": [
    "a = [1,2,'a','b','c',[3,4]]\n",
    "b = a[None:4]\n",
    "print(b)\n",
    "# lấy phần tử thứ k đến phần tử thứ k1-1\n",
    "# lấy ngược lại ta đổi : thành ::"
   ]
  },
  {
   "cell_type": "code",
   "execution_count": 194,
   "id": "0325dcd0-2f39-4a3b-b6bb-019d26c286fe",
   "metadata": {
    "tags": []
   },
   "outputs": [
    {
     "name": "stdout",
     "output_type": "stream",
     "text": [
      "Kteam\n",
      "[1, 'Kteam', 'a', 'b', 'c', [3, 4]]\n"
     ]
    }
   ],
   "source": [
    "a = [1,2,'a','b','c',[3,4]]\n",
    "a[1] = 'Kteam'\n",
    "b = a[1]\n",
    "print(b)\n",
    "print(a)\n",
    "# cách thay đổi phần tử trong list"
   ]
  },
  {
   "cell_type": "code",
   "execution_count": 195,
   "id": "9d07ae2a-ac72-44b0-b73d-fed8abcc20c0",
   "metadata": {
    "tags": []
   },
   "outputs": [
    {
     "name": "stdout",
     "output_type": "stream",
     "text": [
      "[1, 2, 3]\n",
      "[4, 5, 6]\n"
     ]
    }
   ],
   "source": [
    "a = [[1,2,3],[4,5,6]]\n",
    "print(a[0])\n",
    "print(a[1])\n",
    "# ma trận trong list (làm sao in ra cho giống ma trận :))))"
   ]
  },
  {
   "cell_type": "code",
   "execution_count": 196,
   "id": "079be4bb-6a16-4110-9f51-72ea10dd414a",
   "metadata": {
    "tags": []
   },
   "outputs": [
    {
     "name": "stdout",
     "output_type": "stream",
     "text": [
      "[1, 2, 3]\n",
      "[1, 2, 3]\n",
      "['An', 2, 3]\n",
      "['An', 2, 3]\n"
     ]
    }
   ],
   "source": [
    "a = [1,2,3]\n",
    "b = a\n",
    "print(a)\n",
    "print(b)\n",
    "b[0] = 'An'\n",
    "print(a)\n",
    "print(b)\n",
    "# không lên gán b = a như này mà lên làm nhưu bên dưới"
   ]
  },
  {
   "cell_type": "code",
   "execution_count": 197,
   "id": "ef8d6edc-485d-4722-98ea-668b3af0c4d5",
   "metadata": {
    "tags": []
   },
   "outputs": [
    {
     "name": "stdout",
     "output_type": "stream",
     "text": [
      "[1, 2, 3]\n",
      "[1, 2, 3]\n",
      "[1, 2, 3]\n",
      "['An', 2, 3]\n"
     ]
    }
   ],
   "source": [
    "a = [1,2,3]\n",
    "b = list(a)\n",
    "print(a)\n",
    "print(b)\n",
    "b[0] = 'An'\n",
    "print(a)\n",
    "print(b)\n",
    "# như kết quả ta đã thấy sự khác biệt"
   ]
  },
  {
   "cell_type": "markdown",
   "id": "ea7cda65-ec48-46bc-94cb-ff53b42c904a",
   "metadata": {},
   "source": [
    "### List's method"
   ]
  },
  {
   "cell_type": "raw",
   "id": "0809a677-e67b-443f-822f-172a0e3e3cf5",
   "metadata": {},
   "source": [
    "Các phương thức của list"
   ]
  },
  {
   "cell_type": "code",
   "execution_count": 198,
   "id": "ad32fd48-8043-4a62-be7c-cb842d0cc05a",
   "metadata": {
    "tags": []
   },
   "outputs": [
    {
     "name": "stdout",
     "output_type": "stream",
     "text": [
      "2\n"
     ]
    }
   ],
   "source": [
    "a = [1,2,3,4,5,6,7,8,1]\n",
    "c = a.count(1)\n",
    "print(c)\n",
    "## count của list đùng dể đếm số lần xuất hiện của phần tử "
   ]
  },
  {
   "cell_type": "code",
   "execution_count": 199,
   "id": "6b52dedb-4d6b-4a51-ac2d-81c54ffe5c7c",
   "metadata": {
    "tags": []
   },
   "outputs": [
    {
     "name": "stdout",
     "output_type": "stream",
     "text": [
      "0\n"
     ]
    }
   ],
   "source": [
    "a = [1,2,3,4,5,6,7,8,1]\n",
    "c = a.index(1)\n",
    "print(c)\n",
    "# index trả ra số nguyên của vị trí đó trong list, không có thì lỗi"
   ]
  },
  {
   "cell_type": "code",
   "execution_count": 200,
   "id": "30d2e9ca-c705-4094-8e86-6e1999f0e7e0",
   "metadata": {
    "tags": []
   },
   "outputs": [
    {
     "name": "stdout",
     "output_type": "stream",
     "text": [
      "['An', 2, 3, 4, 5, 6, 7, 8, 1]\n",
      "[1, 2, 3, 4, 5, 6, 7, 8, 1]\n"
     ]
    }
   ],
   "source": [
    "a = [1,2,3,4,5,6,7,8,1]\n",
    "c = a.copy()\n",
    "c[0] = 'An'\n",
    "print(c)\n",
    "print(a)\n",
    "# copy dùng để tạo ra bản sao nhưng mà 2 bản sao không liên quan đến nhau\n"
   ]
  },
  {
   "cell_type": "code",
   "execution_count": 201,
   "id": "9293ec80-a66a-4415-80d2-3a353cece4cb",
   "metadata": {
    "tags": []
   },
   "outputs": [
    {
     "name": "stdout",
     "output_type": "stream",
     "text": [
      "[]\n"
     ]
    }
   ],
   "source": [
    "a = [1,2,3,4,5,6,7,8,1]\n",
    "a.clear()\n",
    "print(a) \n",
    "# xóa hết các phần tử trong list"
   ]
  },
  {
   "cell_type": "code",
   "execution_count": 202,
   "id": "37bf4b09-2031-4eec-a1b3-489cce63d667",
   "metadata": {
    "tags": []
   },
   "outputs": [
    {
     "name": "stdout",
     "output_type": "stream",
     "text": [
      "[1, 2, 3, 4, 5, 6, 7, 8, 1, 4]\n",
      "[1, 2, 3, 4, 5, 6, 7, 8, 1, 4, [7, 6]]\n"
     ]
    }
   ],
   "source": [
    "a1 = [1,2,3,4,5,6,7,8,1]\n",
    "a1.append(4)\n",
    "print(a1)\n",
    "a1.append([7,6])\n",
    "print(a1)\n",
    "# append là thêm 1 phần tử vào list"
   ]
  },
  {
   "cell_type": "code",
   "execution_count": 203,
   "id": "9aa84d9f-b219-4904-b043-e5dfe83bb77c",
   "metadata": {
    "tags": []
   },
   "outputs": [
    {
     "name": "stdout",
     "output_type": "stream",
     "text": [
      "[1, 2, 3, 4, 5, 6, 7, 8, 1, 4, 5, [7, 8]]\n"
     ]
    }
   ],
   "source": [
    "a = [1,2,3,4,5,6,7,8,1]\n",
    "a.extend([4,5,[7,8]])\n",
    "print(a)\n",
    "# extend là thêm từng phần tử bên trong vào trong list"
   ]
  },
  {
   "cell_type": "code",
   "execution_count": 204,
   "id": "17cf663a-0ecb-44af-b650-6eb743a01827",
   "metadata": {
    "tags": []
   },
   "outputs": [
    {
     "name": "stdout",
     "output_type": "stream",
     "text": [
      "[1, 2, 2, 3, 4, 5, 6, 7, 8, 1]\n"
     ]
    }
   ],
   "source": [
    "a = [1,2,3,4,5,6,7,8,1]\n",
    "a.insert(1, 2)\n",
    "print(a) \n",
    "# insert thêm phần từ 2 vào vị trí 1 so với VD\n",
    "# nếu quá vị trí trong list thì thêm vào cuối list"
   ]
  },
  {
   "cell_type": "code",
   "execution_count": 205,
   "id": "b88f55cb-26bf-49e2-8c2d-07f3d5b00571",
   "metadata": {
    "tags": []
   },
   "outputs": [
    {
     "name": "stdout",
     "output_type": "stream",
     "text": [
      "[1, 2, 3]\n",
      "[1, 3]\n",
      "2\n"
     ]
    }
   ],
   "source": [
    "a = [1,2,3]\n",
    "print(a)\n",
    "c = a.pop(1)\n",
    "print(a)\n",
    "print(c)\n",
    "# pop lấy ra phần tử thứ 1 trong list rồi bỏ luôn khỏi list đó\n",
    "# nếu k có lấy phần tử thứ mấy thì lấy phần tử cuối cùng"
   ]
  },
  {
   "cell_type": "code",
   "execution_count": 206,
   "id": "0a8f3c00-0116-4f83-b3f3-b878f4da1b3f",
   "metadata": {
    "tags": []
   },
   "outputs": [
    {
     "name": "stdout",
     "output_type": "stream",
     "text": [
      "[1, 1, 2, 3]\n",
      "[1, 2, 3]\n"
     ]
    }
   ],
   "source": [
    "a = [1,1,2,3]\n",
    "print(a)\n",
    "c = a.remove(1)\n",
    "print(a)\n",
    "# remove là bỏ đi phần tử đc chọn trong remove \n",
    "# nếu khoogn có trong list thì lỗi"
   ]
  },
  {
   "cell_type": "code",
   "execution_count": 207,
   "id": "338cdf90-a465-4389-a7f1-6f6cb3ae95dc",
   "metadata": {
    "tags": []
   },
   "outputs": [
    {
     "name": "stdout",
     "output_type": "stream",
     "text": [
      "[1, 1, 2, 3]\n",
      "[3, 2, 1, 1]\n"
     ]
    }
   ],
   "source": [
    "a = [1,1,2,3]\n",
    "print(a)\n",
    "a.reverse()\n",
    "print(a)\n",
    "# reverse dùng để đảo ngược các phần tử trong list lại"
   ]
  },
  {
   "cell_type": "code",
   "execution_count": 208,
   "id": "b047842e-fd73-4e56-a0b7-4f812836d01a",
   "metadata": {
    "tags": []
   },
   "outputs": [
    {
     "name": "stdout",
     "output_type": "stream",
     "text": [
      "[15, 2, 3]\n",
      "[2, 3, 15]\n",
      "[15, 3, 2]\n"
     ]
    }
   ],
   "source": [
    "a = [15,2,3]\n",
    "print(a)\n",
    "a.sort()\n",
    "print(a)\n",
    "a.sort(reverse = True)\n",
    "print(a)\n",
    "# sort sắp xếp các phần tử theo chiều tăng dần\n",
    "# nếu muốn đảo ngược lại thì ghi reserve = True\n",
    "#và muốn sắp xếp thì chúng phải cùng 1 kiểu dữ liệu"
   ]
  },
  {
   "cell_type": "markdown",
   "id": "315a78b5-fb8d-48b8-ac10-f6b5190ad078",
   "metadata": {},
   "source": [
    "## Tuple in python"
   ]
  },
  {
   "cell_type": "raw",
   "id": "417f038e-4d8f-4320-a6f3-35e3bc2322f2",
   "metadata": {},
   "source": [
    "Được giới hạn bới cặp ngoặc ()\n",
    "các phần tử của nó được phân các nhau bởi dấu phẩy (,)\n",
    "tuple có khả năng chứa mọi giá trị tốc độ truy xuất tuple nhanh hơn list\n",
    "dung lượng nhỏ hơn list\n",
    "bảo vệ dữ liệu của bạn sẽ không bị thay đổi\n",
    "có thể dùng lạm key của dictionary\n",
    "hầu hết các hàm của list đều dùng đc trong tuple lên sẽ k nhắc đến ở bài tuple này"
   ]
  },
  {
   "cell_type": "code",
   "execution_count": 209,
   "id": "a37bef83-bbd4-4a99-9931-01c60740a640",
   "metadata": {
    "tags": []
   },
   "outputs": [
    {
     "name": "stdout",
     "output_type": "stream",
     "text": [
      "(1, 1, (2, 3), 4, 5, 6, 'An')\n"
     ]
    }
   ],
   "source": [
    "tup = (1,1,(2,3),4,5,6,'An')\n",
    "print(tup)"
   ]
  },
  {
   "cell_type": "code",
   "execution_count": 210,
   "id": "e2d70705-e3b4-4440-9f63-f3a41404d4f2",
   "metadata": {
    "tags": []
   },
   "outputs": [
    {
     "name": "stdout",
     "output_type": "stream",
     "text": [
      "('A', 'n', ' ', 'n', 'e')\n",
      "(0, 2, 4, 6, 8)\n"
     ]
    }
   ],
   "source": [
    "a = tuple(('An ne'))\n",
    "print(a)\n",
    "tup = (i for i in range(10) if i%2 == 0)\n",
    "b = tuple(tup)\n",
    "print(b)"
   ]
  },
  {
   "cell_type": "code",
   "execution_count": 211,
   "id": "1e194d15-24e5-4321-a87a-7989204937db",
   "metadata": {
    "tags": []
   },
   "outputs": [
    {
     "name": "stdout",
     "output_type": "stream",
     "text": [
      "(1, 5, 9, 2, 4, 6)\n",
      "(1, 5, 9, 34, 6)\n",
      "(1, 5, 9, 34, 6, 1, 5, 9, 34, 6)\n"
     ]
    }
   ],
   "source": [
    "tup = (1,5,9)\n",
    "a = tup + (2,4,6)\n",
    "tup+= (34,6)\n",
    "print(a)\n",
    "print(tup)\n",
    "tup *=2\n",
    "print(tup)"
   ]
  },
  {
   "cell_type": "code",
   "execution_count": 212,
   "id": "f3ca8395-7b4b-4c12-8d81-9983f6ad54a5",
   "metadata": {
    "tags": []
   },
   "outputs": [
    {
     "name": "stdout",
     "output_type": "stream",
     "text": [
      "False\n",
      "True\n"
     ]
    }
   ],
   "source": [
    "tup = (1,5,9)\n",
    "a = 2 in tup\n",
    "b = 1 in tup\n",
    "print(a)\n",
    "print(b)"
   ]
  },
  {
   "cell_type": "code",
   "execution_count": 213,
   "id": "db44ba8e-5cae-4432-bb11-56df4c3756e9",
   "metadata": {
    "tags": []
   },
   "outputs": [
    {
     "name": "stdout",
     "output_type": "stream",
     "text": [
      "1\n"
     ]
    }
   ],
   "source": [
    "tup = (1,5,9)\n",
    "a = tup[0]\n",
    "print(a)"
   ]
  },
  {
   "cell_type": "code",
   "execution_count": 214,
   "id": "319a3f4d-593f-4ee1-8427-7cf85404b941",
   "metadata": {
    "tags": []
   },
   "outputs": [
    {
     "name": "stdout",
     "output_type": "stream",
     "text": [
      "3\n"
     ]
    }
   ],
   "source": [
    "tup = (1,5,9)\n",
    "a = len(tup)\n",
    "print(a)\n",
    "#len dùng để xem hàm có bn phần tử"
   ]
  },
  {
   "cell_type": "code",
   "execution_count": 215,
   "id": "f0193eaf-1bab-442b-bd88-1fc912422c46",
   "metadata": {
    "tags": []
   },
   "outputs": [],
   "source": [
    "# lấy phần tử như list"
   ]
  },
  {
   "cell_type": "code",
   "execution_count": 216,
   "id": "c0f1def0-a8da-4031-a88d-38a7a413d18c",
   "metadata": {
    "tags": []
   },
   "outputs": [
    {
     "ename": "TypeError",
     "evalue": "'tuple' object does not support item assignment",
     "output_type": "error",
     "traceback": [
      "\u001b[1;31m---------------------------------------------------------------------------\u001b[0m",
      "\u001b[1;31mTypeError\u001b[0m                                 Traceback (most recent call last)",
      "Cell \u001b[1;32mIn[216], line 2\u001b[0m\n\u001b[0;32m      1\u001b[0m tup \u001b[38;5;241m=\u001b[39m (\u001b[38;5;241m1\u001b[39m,\u001b[38;5;241m5\u001b[39m,\u001b[38;5;241m9\u001b[39m,\u001b[38;5;241m4\u001b[39m)\n\u001b[1;32m----> 2\u001b[0m tup[\u001b[38;5;241m0\u001b[39m] \u001b[38;5;241m=\u001b[39m \u001b[38;5;124m'\u001b[39m\u001b[38;5;124mkteam\u001b[39m\u001b[38;5;124m'\u001b[39m\n\u001b[0;32m      3\u001b[0m \u001b[38;5;28mprint\u001b[39m(tup)\n",
      "\u001b[1;31mTypeError\u001b[0m: 'tuple' object does not support item assignment"
     ]
    }
   ],
   "source": [
    "tup = (1,5,9,4)\n",
    "tup[0] = 'kteam'\n",
    "print(tup)\n",
    "# k thể thay đổi phần tử trong tuple"
   ]
  },
  {
   "cell_type": "code",
   "execution_count": 217,
   "id": "51c9bea8-38d6-4cef-97e5-151ba52c605f",
   "metadata": {
    "tags": []
   },
   "outputs": [
    {
     "name": "stdout",
     "output_type": "stream",
     "text": [
      "2\n"
     ]
    }
   ],
   "source": [
    "tup = (1,1,2,5,6)\n",
    "a = tup.count(1)\n",
    "print(a)\n",
    "# count đếm số phần tử trong tuple"
   ]
  },
  {
   "cell_type": "code",
   "execution_count": 218,
   "id": "dc34d413-e963-46a6-949a-71a588fcf68b",
   "metadata": {
    "tags": []
   },
   "outputs": [
    {
     "name": "stdout",
     "output_type": "stream",
     "text": [
      "0\n"
     ]
    }
   ],
   "source": [
    "tup = (1,1,2,5,6)\n",
    "a = tup.index(1)\n",
    "print(a)\n",
    "# index tìm vị trí xuất hiện đầu tiên của phần tử đó"
   ]
  },
  {
   "cell_type": "markdown",
   "id": "ba41b9e9-cd65-4c57-ad2f-7bc4bfd76e4c",
   "metadata": {},
   "source": [
    "## Hashable and unhashable in python"
   ]
  },
  {
   "cell_type": "code",
   "execution_count": 219,
   "id": "e15c97a9-5e17-4f14-ab2d-bd50837f2a98",
   "metadata": {
    "tags": []
   },
   "outputs": [
    {
     "name": "stdout",
     "output_type": "stream",
     "text": [
      "2536764906736\n"
     ]
    }
   ],
   "source": [
    "a = id(532423)\n",
    "print(a)\n",
    "# hàm id() trả về giá trị là 'int' hoặc 'long int'"
   ]
  },
  {
   "cell_type": "code",
   "execution_count": 220,
   "id": "d2c35d52-7b3e-48a0-a0b4-64bbee91369d",
   "metadata": {
    "tags": []
   },
   "outputs": [
    {
     "name": "stdout",
     "output_type": "stream",
     "text": [
      "2536764908816\n"
     ]
    }
   ],
   "source": [
    "b = 532423\n",
    "a = id(532423)\n",
    "print(a)"
   ]
  },
  {
   "cell_type": "code",
   "execution_count": 221,
   "id": "2fd481f5-3daf-471b-ba9b-10e2ee4b9ae4",
   "metadata": {
    "tags": []
   },
   "outputs": [
    {
     "name": "stdout",
     "output_type": "stream",
     "text": [
      "2536749908064\n",
      "2536749908064\n"
     ]
    }
   ],
   "source": [
    "a = 'An'\n",
    "b = id(a)\n",
    "print(b)\n",
    "print(id('An'))\n",
    "# nói chung là id sẽ cho ra kết quả khác nhau\n",
    "# nhưng chuỗi thì không đổi"
   ]
  },
  {
   "cell_type": "markdown",
   "id": "f330857b-2998-4bf6-9cf2-388fbe74bba7",
   "metadata": {},
   "source": [
    "### Operators of hasobject and unhasobject"
   ]
  },
  {
   "cell_type": "raw",
   "id": "5157330c-7ba1-4362-8af0-2cdfaa752efe",
   "metadata": {},
   "source": [
    "các toán tử của hasobject và unhasobject"
   ]
  },
  {
   "cell_type": "code",
   "execution_count": 222,
   "id": "79c772f1-fd44-4d70-9169-018b096e2463",
   "metadata": {
    "tags": []
   },
   "outputs": [
    {
     "name": "stdout",
     "output_type": "stream",
     "text": [
      "69\n",
      "70\n",
      "70\n",
      "68\n",
      "68\n",
      "138\n",
      "138\n",
      "70\n",
      "70\n",
      "-69\n",
      "-69\n"
     ]
    }
   ],
   "source": [
    "n = 69\n",
    "print(n)\n",
    "print(n + 1)\n",
    "print(n.__add__(1))\n",
    "print(n - 1)\n",
    "print(n.__sub__(1))\n",
    "print(n*2)\n",
    "print(n.__mul__(2))\n",
    "print(1 +n)\n",
    "print(n.__radd__(1))\n",
    "print(-n)\n",
    "print(n.__neg__())"
   ]
  },
  {
   "cell_type": "code",
   "execution_count": 223,
   "id": "2ae43bd0-8473-42a9-bd52-e0f93d0fdca9",
   "metadata": {
    "tags": []
   },
   "outputs": [
    {
     "name": "stdout",
     "output_type": "stream",
     "text": [
      "2536749908064\n",
      "2536754161936\n",
      "2536766452976\n",
      "2536766452016\n"
     ]
    }
   ],
   "source": [
    "s_1 = 'An'\n",
    "S_2 = \"nee\"\n",
    "print(id(s_1))\n",
    "print(id(S_2))\n",
    "\n",
    "\n",
    "s_1 = s_1 + 'Python'\n",
    "S_2 += 'Python'\n",
    "print(id(s_1))\n",
    "print(id(S_2))"
   ]
  },
  {
   "cell_type": "code",
   "execution_count": 224,
   "id": "239f045d-9f7c-4dfa-abf3-547b27a0101c",
   "metadata": {
    "tags": []
   },
   "outputs": [
    {
     "name": "stdout",
     "output_type": "stream",
     "text": [
      "2536766398336\n",
      "2536766402432\n"
     ]
    }
   ],
   "source": [
    "s_1 = [1,2]\n",
    "s_2 = [3,4]\n",
    "print(id(s_1))\n",
    "print(id(s_2))"
   ]
  },
  {
   "cell_type": "code",
   "execution_count": 225,
   "id": "175b60dd-1956-4952-9aff-03ad6aa288f8",
   "metadata": {
    "tags": []
   },
   "outputs": [
    {
     "name": "stdout",
     "output_type": "stream",
     "text": [
      "2536766398336\n",
      "2536766209856\n"
     ]
    }
   ],
   "source": [
    "s_1 = [1,2]\n",
    "s_2 = [3,4]\n",
    "s_1 = s_1 + [0]\n",
    "s_2 += [0]\n",
    "print(id(s_1))\n",
    "print(id(s_2))"
   ]
  },
  {
   "cell_type": "code",
   "execution_count": 226,
   "id": "7875e832-0207-40da-a310-17e704d2bb60",
   "metadata": {
    "tags": []
   },
   "outputs": [
    {
     "name": "stdout",
     "output_type": "stream",
     "text": [
      "2536766402432\n",
      "2536766402432\n"
     ]
    }
   ],
   "source": [
    "s_1 = [1,2]\n",
    "print(id(s_1))\n",
    "s_1.__add__([3,4]) # add bằng với +=\n",
    "print(id(s_1))"
   ]
  },
  {
   "cell_type": "markdown",
   "id": "d6fa51fd-7441-4551-b010-a740df2ba1d7",
   "metadata": {},
   "source": [
    "## Set in python"
   ]
  },
  {
   "cell_type": "raw",
   "id": "af208936-e3e6-4b50-ae85-ebfbf1049052",
   "metadata": {},
   "source": [
    "Set trong python\n",
    "đc giới hạn bởi cặp ngoặc {} và phân cách các phần tử với nhau bằng đấu phẩy(,)\n",
    "Set không chứa nhiều hơn 1 phần tử trùng lặp và chứa hashable object và k thể chứa chính nó( k thể chứa set trong set)"
   ]
  },
  {
   "cell_type": "code",
   "execution_count": 227,
   "id": "2b7cf74c-6dd6-49ca-afd1-c65cf87b9e46",
   "metadata": {
    "tags": []
   },
   "outputs": [
    {
     "name": "stdout",
     "output_type": "stream",
     "text": [
      "{96, 69}\n",
      "<class 'set'>\n"
     ]
    }
   ],
   "source": [
    "set_1 = {69,96}\n",
    "print(set_1)\n",
    "print(type(set_1))"
   ]
  },
  {
   "cell_type": "code",
   "execution_count": 228,
   "id": "966fcdac-4e63-4f68-a983-4269c0db253c",
   "metadata": {
    "tags": []
   },
   "outputs": [
    {
     "name": "stdout",
     "output_type": "stream",
     "text": [
      "{' Nguyễn Duy An'}\n"
     ]
    }
   ],
   "source": [
    "set_2 = {' Nguyễn Duy An'}\n",
    "print(set_2)"
   ]
  },
  {
   "cell_type": "code",
   "execution_count": 229,
   "id": "5c7c4b52-3bc1-40f6-ab23-e60f2be0a6e7",
   "metadata": {
    "tags": []
   },
   "outputs": [
    {
     "name": "stdout",
     "output_type": "stream",
     "text": [
      "{(1, 2, 3), (69, ' Nguyễn Duy An')}\n"
     ]
    }
   ],
   "source": [
    "set_3 = {(69, ' Nguyễn Duy An'), (1, 2, 3)}\n",
    "print(set_3)"
   ]
  },
  {
   "cell_type": "code",
   "execution_count": 230,
   "id": "c4255f59-a067-4bd2-b986-7bd8ba9f9820",
   "metadata": {
    "tags": []
   },
   "outputs": [
    {
     "ename": "TypeError",
     "evalue": "unhashable type: 'list'",
     "output_type": "error",
     "traceback": [
      "\u001b[1;31m---------------------------------------------------------------------------\u001b[0m",
      "\u001b[1;31mTypeError\u001b[0m                                 Traceback (most recent call last)",
      "Cell \u001b[1;32mIn[230], line 1\u001b[0m\n\u001b[1;32m----> 1\u001b[0m set_4 \u001b[38;5;241m=\u001b[39m {[\u001b[38;5;241m1\u001b[39m,\u001b[38;5;241m2\u001b[39m]}\n\u001b[0;32m      2\u001b[0m \u001b[38;5;28mprint\u001b[39m(set_4)\n",
      "\u001b[1;31mTypeError\u001b[0m: unhashable type: 'list'"
     ]
    }
   ],
   "source": [
    "set_4 = {[1,2]}\n",
    "print(set_4)\n",
    "# Set không thể chứ list, unhashable"
   ]
  },
  {
   "cell_type": "code",
   "execution_count": 231,
   "id": "6455f819-3a44-478a-a014-edbc7abecfb2",
   "metadata": {
    "tags": []
   },
   "outputs": [
    {
     "ename": "TypeError",
     "evalue": "unhashable type: 'set'",
     "output_type": "error",
     "traceback": [
      "\u001b[1;31m---------------------------------------------------------------------------\u001b[0m",
      "\u001b[1;31mTypeError\u001b[0m                                 Traceback (most recent call last)",
      "Cell \u001b[1;32mIn[231], line 1\u001b[0m\n\u001b[1;32m----> 1\u001b[0m set_5 \u001b[38;5;241m=\u001b[39m {{\u001b[38;5;241m1\u001b[39m,\u001b[38;5;241m2\u001b[39m}}\n\u001b[0;32m      2\u001b[0m \u001b[38;5;28mprint\u001b[39m(set_5)\n",
      "\u001b[1;31mTypeError\u001b[0m: unhashable type: 'set'"
     ]
    }
   ],
   "source": [
    "set_5 = {{1,2}}\n",
    "print(set_5)"
   ]
  },
  {
   "cell_type": "code",
   "execution_count": 232,
   "id": "df27cd68-2b71-4310-8bf7-75dfc2c68fa9",
   "metadata": {
    "tags": []
   },
   "outputs": [
    {
     "name": "stdout",
     "output_type": "stream",
     "text": [
      "{'69', 'NguyenAN', 'An'}\n"
     ]
    }
   ],
   "source": [
    "set_6 = {'NguyenAN', 'An', '69'}\n",
    "print(set_6)"
   ]
  },
  {
   "cell_type": "code",
   "execution_count": 233,
   "id": "10baaddd-ce59-4e57-86d1-9f276f52d986",
   "metadata": {
    "tags": []
   },
   "outputs": [
    {
     "name": "stdout",
     "output_type": "stream",
     "text": [
      "{0, 1, 2}\n"
     ]
    }
   ],
   "source": [
    "set_7 = {value for value in range(3)}\n",
    "print(set_7)"
   ]
  },
  {
   "cell_type": "code",
   "execution_count": 234,
   "id": "c5755630-315d-4e09-8a1d-07559f76e968",
   "metadata": {
    "tags": []
   },
   "outputs": [
    {
     "name": "stdout",
     "output_type": "stream",
     "text": [
      "{1, 2, 3}\n"
     ]
    }
   ],
   "source": [
    "set_8 = set((1,2,3))\n",
    "print(set_8)"
   ]
  },
  {
   "cell_type": "code",
   "execution_count": 235,
   "id": "ba7e36ae-af0d-4fc8-8fef-7c6274f6508a",
   "metadata": {
    "tags": []
   },
   "outputs": [
    {
     "name": "stdout",
     "output_type": "stream",
     "text": [
      "{'g', 'n', 'u', 'e', 'N', 'A', 'y'}\n"
     ]
    }
   ],
   "source": [
    "set_9 = set(('NguyenAn'))\n",
    "print(set_9)"
   ]
  },
  {
   "cell_type": "code",
   "execution_count": 236,
   "id": "09cc20b6-2979-45d5-9792-11859cc73a3b",
   "metadata": {
    "tags": []
   },
   "outputs": [
    {
     "name": "stdout",
     "output_type": "stream",
     "text": [
      "{'a'}\n"
     ]
    }
   ],
   "source": [
    "set_8 = set('aaaaaaaaaaaaaaaa')\n",
    "print(set_8)"
   ]
  },
  {
   "cell_type": "code",
   "execution_count": 237,
   "id": "b5703065-578e-4412-bc37-e2f299bed773",
   "metadata": {
    "tags": []
   },
   "outputs": [
    {
     "name": "stdout",
     "output_type": "stream",
     "text": [
      "set()\n",
      "<class 'set'>\n"
     ]
    }
   ],
   "source": [
    "set_8 = set()\n",
    "print(set_8)\n",
    "print(type(set_8))"
   ]
  },
  {
   "cell_type": "markdown",
   "id": "592122a2-aedd-43b1-aba7-8a399768bb7b",
   "metadata": {},
   "source": [
    "### Operators in set"
   ]
  },
  {
   "cell_type": "raw",
   "id": "aa27a967-2471-4ee4-99e6-fadf05cda77d",
   "metadata": {},
   "source": [
    "các toán tử trong set"
   ]
  },
  {
   "cell_type": "code",
   "execution_count": 238,
   "id": "ec4584c7-d8bb-4d41-9d29-680cdcfb2212",
   "metadata": {
    "tags": []
   },
   "outputs": [
    {
     "name": "stdout",
     "output_type": "stream",
     "text": [
      "True\n",
      "False\n"
     ]
    }
   ],
   "source": [
    "print(1 in {1,2,3})\n",
    "print({1,2} in {1,2,3})"
   ]
  },
  {
   "cell_type": "code",
   "execution_count": 239,
   "id": "2e2c4831-f24a-42bb-9eb5-944ed54f9de8",
   "metadata": {
    "tags": []
   },
   "outputs": [
    {
     "name": "stdout",
     "output_type": "stream",
     "text": [
      "True\n"
     ]
    }
   ],
   "source": [
    "print((1,2) in {(1,2),3})"
   ]
  },
  {
   "cell_type": "code",
   "execution_count": 240,
   "id": "21ffacfa-ba05-4a01-a4f8-14995448951b",
   "metadata": {
    "tags": []
   },
   "outputs": [
    {
     "name": "stdout",
     "output_type": "stream",
     "text": [
      "{1}\n"
     ]
    }
   ],
   "source": [
    "print({1,2,3} - {2,3})\n",
    "# - 2 set với nhau nhưng phần chính là set đầu"
   ]
  },
  {
   "cell_type": "code",
   "execution_count": 241,
   "id": "10defb7f-eaba-48af-a144-c499e7f229e4",
   "metadata": {
    "tags": []
   },
   "outputs": [
    {
     "name": "stdout",
     "output_type": "stream",
     "text": [
      "set()\n"
     ]
    }
   ],
   "source": [
    "print({1,2,3} - {2,3,1,4,5})\n",
    "# như phần này ta thấy 4,5 của set 2 có nhưng mà - set k lấy "
   ]
  },
  {
   "cell_type": "code",
   "execution_count": 242,
   "id": "0fbba8f7-1ebf-43d8-8b8c-63e770f0bf79",
   "metadata": {
    "tags": []
   },
   "outputs": [
    {
     "name": "stdout",
     "output_type": "stream",
     "text": [
      "{4}\n"
     ]
    }
   ],
   "source": [
    "print({1,2,3,4} & {4,5})\n",
    "# & để lấy thằng nào mà 2 set đều có"
   ]
  },
  {
   "cell_type": "code",
   "execution_count": 243,
   "id": "97ea2498-0226-49c1-8d8c-0ce5616a96c2",
   "metadata": {
    "tags": []
   },
   "outputs": [
    {
     "name": "stdout",
     "output_type": "stream",
     "text": [
      "{1, 2, 3, 4, 5}\n"
     ]
    }
   ],
   "source": [
    "print({1,2,3,4} | {4,5})\n",
    "# | ( gọi là hoặc) lấy hết các phần tử 2 set gộp vào nhau"
   ]
  },
  {
   "cell_type": "code",
   "execution_count": 244,
   "id": "5778e56c-1cd1-4f50-b832-a1631b9716d4",
   "metadata": {
    "tags": []
   },
   "outputs": [
    {
     "name": "stdout",
     "output_type": "stream",
     "text": [
      "{1, 2, 3, 5}\n"
     ]
    }
   ],
   "source": [
    "print({1,2,3,4} ^ {4,5})\n",
    "# ^( gọi là và) dùng để loại bỏ các phần tử trùng nhau ở 2 Set"
   ]
  },
  {
   "cell_type": "markdown",
   "id": "fcda94d3-eb32-49a2-91ae-0f84435163cb",
   "metadata": {},
   "source": [
    "### Methods in set"
   ]
  },
  {
   "cell_type": "raw",
   "id": "a5c92370-a9ed-46c7-b4b8-b1fe92b5d173",
   "metadata": {},
   "source": [
    "các phương thức của Set"
   ]
  },
  {
   "cell_type": "code",
   "execution_count": 245,
   "id": "f28deee0-3dbf-4b12-aa73-02807ea077ce",
   "metadata": {
    "tags": []
   },
   "outputs": [
    {
     "name": "stdout",
     "output_type": "stream",
     "text": [
      "None\n"
     ]
    }
   ],
   "source": [
    "set3 = {1,3,4}\n",
    "a = set3.clear()\n",
    "print(a)\n",
    "# clear dùng để xóa hết các phần tử trong set"
   ]
  },
  {
   "cell_type": "code",
   "execution_count": 246,
   "id": "dae87b17-640d-4e2c-ae01-0022f453fe20",
   "metadata": {
    "tags": []
   },
   "outputs": [
    {
     "name": "stdout",
     "output_type": "stream",
     "text": [
      "{3, 4}\n"
     ]
    }
   ],
   "source": [
    "set3 = {1,3,4}\n",
    "set3.pop()\n",
    "print(set3)\n",
    "# pop dùng để lấy phần tử đầu tiên trong set rồi cho nó biến mất khỏi set"
   ]
  },
  {
   "cell_type": "code",
   "execution_count": 247,
   "id": "61c61368-85eb-481f-8631-0d28f6c91b09",
   "metadata": {
    "tags": []
   },
   "outputs": [
    {
     "name": "stdout",
     "output_type": "stream",
     "text": [
      "{1, 4}\n"
     ]
    }
   ],
   "source": [
    "set3 = {1,3,4}\n",
    "set3.remove(3)\n",
    "print(set3)\n",
    "# phương thức remove là nâng cấp hơn của pop, có thể chọn phần tử muốn xóa"
   ]
  },
  {
   "cell_type": "code",
   "execution_count": 248,
   "id": "47261e91-b569-41ec-acd0-7ec86b5fc2f1",
   "metadata": {
    "tags": []
   },
   "outputs": [
    {
     "name": "stdout",
     "output_type": "stream",
     "text": [
      "{1, 3, 4}\n"
     ]
    }
   ],
   "source": [
    "set3 = {1,3,4}\n",
    "set3.discard(5)\n",
    "print(set3)\n",
    "# discard như remove \n",
    "#nhưng có thể chọn phần tử k có trong set để xóa mà k bị báo lỗi như set"
   ]
  },
  {
   "cell_type": "code",
   "execution_count": 249,
   "id": "73bb3b57-5584-45a2-a4c7-07f70ee27a11",
   "metadata": {
    "tags": []
   },
   "outputs": [
    {
     "name": "stdout",
     "output_type": "stream",
     "text": [
      "{1, 3, 4}\n"
     ]
    }
   ],
   "source": [
    "set3 = {1,3,4}\n",
    "set2 = set3.copy()\n",
    "print(set2)\n",
    "# copy là sao chép set mà mình muốn"
   ]
  },
  {
   "cell_type": "code",
   "execution_count": 250,
   "id": "26605d75-6281-4c25-917b-a177681eb514",
   "metadata": {
    "tags": []
   },
   "outputs": [
    {
     "name": "stdout",
     "output_type": "stream",
     "text": [
      "{1, 3, 4, 5}\n"
     ]
    }
   ],
   "source": [
    "set3 = {1,3,4}\n",
    "set3.add(5)\n",
    "print(set3)\n",
    "# thêm phần tử vào trong set"
   ]
  },
  {
   "cell_type": "code",
   "execution_count": 251,
   "id": "c3fb405a-a1df-4f56-9541-b9535e723856",
   "metadata": {
    "tags": []
   },
   "outputs": [
    {
     "name": "stdout",
     "output_type": "stream",
     "text": [
      "2536766701632\n",
      "2536766701632\n"
     ]
    }
   ],
   "source": [
    "set3 = {1,3,4}\n",
    "print(id(set3))\n",
    "set3.add(7)\n",
    "print(id(set3))"
   ]
  },
  {
   "cell_type": "code",
   "execution_count": 252,
   "id": "a42e3a10-73d6-4d41-beb4-a0b5a7bd8a87",
   "metadata": {
    "tags": []
   },
   "outputs": [
    {
     "name": "stdout",
     "output_type": "stream",
     "text": [
      "{1, 3, 4}\n",
      "set()\n"
     ]
    }
   ],
   "source": [
    "set3 = {1,3,4}\n",
    "print(set3)\n",
    "set2 = set3\n",
    "set2.clear()\n",
    "print(set3)"
   ]
  },
  {
   "cell_type": "markdown",
   "id": "ce3bbd1f-7f93-459a-b6ec-02758e55309e",
   "metadata": {},
   "source": [
    "## Dict in python"
   ]
  },
  {
   "cell_type": "raw",
   "id": "0ab788e3-39b9-400e-a984-833ab34dbe12",
   "metadata": {},
   "source": [
    "Dict trong python\n",
    "Dict(dictionary)\n",
    "Dict dùng các key để phân biệt\n",
    "Giới hạn bởi những cặp ngoặc {}\n",
    "các phần tử Dict phải là key - value"
   ]
  },
  {
   "cell_type": "markdown",
   "id": "9ab1a138-1248-4881-b643-f6ad0b93ce3f",
   "metadata": {},
   "source": [
    "### Create Dict"
   ]
  },
  {
   "cell_type": "code",
   "execution_count": 253,
   "id": "6703426f-e297-4ae7-bfc9-bc239419c8cb",
   "metadata": {
    "tags": []
   },
   "outputs": [
    {
     "name": "stdout",
     "output_type": "stream",
     "text": [
      "{'name': 'An', 'member': 69}\n",
      "<class 'dict'>\n"
     ]
    }
   ],
   "source": [
    "dic = {'name' : 'An', 'member' : 69}\n",
    "print(dic)\n",
    "print(type(dic))"
   ]
  },
  {
   "cell_type": "code",
   "execution_count": 254,
   "id": "ebd95031-dd48-447f-b661-de013ed8301a",
   "metadata": {
    "tags": []
   },
   "outputs": [
    {
     "name": "stdout",
     "output_type": "stream",
     "text": [
      "{}\n"
     ]
    }
   ],
   "source": [
    "dic ={}\n",
    "print(dic)"
   ]
  },
  {
   "cell_type": "code",
   "execution_count": 255,
   "id": "8521b475-7442-4f69-9f76-ecc94dedee05",
   "metadata": {
    "tags": []
   },
   "outputs": [
    {
     "name": "stdout",
     "output_type": "stream",
     "text": [
      "{'name': 'An', 'member': 69}\n"
     ]
    }
   ],
   "source": [
    "dic = {key : value for key, value in [('name','An'),('member',69)]}\n",
    "print(dic)"
   ]
  },
  {
   "cell_type": "code",
   "execution_count": 256,
   "id": "fcdf7fb2-e0c8-4f64-bbb1-48ea78c196eb",
   "metadata": {
    "tags": []
   },
   "outputs": [
    {
     "name": "stdout",
     "output_type": "stream",
     "text": [
      "{}\n",
      "<class 'dict'>\n"
     ]
    }
   ],
   "source": [
    "dic = dict()\n",
    "print(dic)\n",
    "print(type(dic))"
   ]
  },
  {
   "cell_type": "code",
   "execution_count": 257,
   "id": "b3c7882d-e8ab-4c14-8cf2-f93639b87d75",
   "metadata": {
    "tags": []
   },
   "outputs": [
    {
     "name": "stdout",
     "output_type": "stream",
     "text": [
      "{'name': 'An', 'member': 69}\n",
      "<class 'dict'>\n"
     ]
    }
   ],
   "source": [
    "iter_ = [('name','An'),('member',69)]\n",
    "dic = dict(iter_)\n",
    "print(dic)\n",
    "print(type(dic))"
   ]
  },
  {
   "cell_type": "code",
   "execution_count": 258,
   "id": "587a1b69-a491-4406-ad17-11224c5022e6",
   "metadata": {
    "tags": []
   },
   "outputs": [
    {
     "name": "stdout",
     "output_type": "stream",
     "text": [
      "{'name': 'Anne', 'FE': 'Free'}\n"
     ]
    }
   ],
   "source": [
    "dic = dict(name = 'Anne',FE = 'Free')\n",
    "print(dic)"
   ]
  },
  {
   "cell_type": "code",
   "execution_count": 259,
   "id": "8d2789c9-8e95-4300-a128-1975558692fc",
   "metadata": {
    "tags": []
   },
   "outputs": [
    {
     "name": "stdout",
     "output_type": "stream",
     "text": [
      "{'name': 'An', 'number': 'An', 69: 'An', True: 'An'}\n",
      "<class 'type'>\n"
     ]
    }
   ],
   "source": [
    "inter_ = ('name','number',69, True)\n",
    "dic = dict.fromkeys(inter_, 'An')\n",
    "print(dic)\n",
    "print(type(dict))\n",
    "# cách trên dùng để tạo các key rồi đưa giá trị của value vào dict từ fromkeys"
   ]
  },
  {
   "cell_type": "code",
   "execution_count": 260,
   "id": "37f02d71-7cb4-490d-b00b-7cb196e01ee8",
   "metadata": {
    "tags": []
   },
   "outputs": [
    {
     "name": "stdout",
     "output_type": "stream",
     "text": [
      "An\n"
     ]
    }
   ],
   "source": [
    "inter_ = ('name','number',69, True)\n",
    "dic = dict.fromkeys(inter_, 'An')\n",
    "print(dic[True])\n",
    "# các này dùng để chọn value từ key mà mình muốn nhưng lấy key k có trong dict thì sẽ báo lỗi"
   ]
  },
  {
   "cell_type": "code",
   "execution_count": 261,
   "id": "af5c64b9-a383-4c38-86aa-51cb6b375d53",
   "metadata": {
    "tags": []
   },
   "outputs": [
    {
     "name": "stdout",
     "output_type": "stream",
     "text": [
      "123\n"
     ]
    }
   ],
   "source": [
    "inter_ = ('name','number',69, True)\n",
    "dic = dict.fromkeys(inter_, 'An')\n",
    "dic[True] = 123\n",
    "print(dic[True])\n",
    "# đổi value của key được chọn"
   ]
  },
  {
   "cell_type": "code",
   "execution_count": 262,
   "id": "319374e4-a556-42a4-9437-7af36a827f00",
   "metadata": {
    "tags": []
   },
   "outputs": [
    {
     "name": "stdout",
     "output_type": "stream",
     "text": [
      "{'K': 69, 'AN': 'Anne', 'FE': 'Free'}\n",
      "{'K': 70, 'AN': 'Anne', 'FE': 'Free'}\n"
     ]
    }
   ],
   "source": [
    "dic = dict(K = 69 , AN = 'Anne', FE = 'Free')\n",
    "print(dic)\n",
    "dic['K'] = dic['K'] + 1\n",
    "print(dic)"
   ]
  },
  {
   "cell_type": "markdown",
   "id": "156d052c-f094-4da5-b2b7-509bd1607371",
   "metadata": {},
   "source": [
    "### Methods in python in Dict"
   ]
  },
  {
   "cell_type": "raw",
   "id": "8c74ddce-bed9-4983-bbd8-de85269bffe6",
   "metadata": {},
   "source": [
    "các phương thức trong python"
   ]
  },
  {
   "cell_type": "code",
   "execution_count": 263,
   "id": "4b16fa48-9ac4-4627-9939-1df0eb609fad",
   "metadata": {
    "tags": []
   },
   "outputs": [
    {
     "name": "stdout",
     "output_type": "stream",
     "text": [
      "{'An': 'Nguyen', (1, 2): 69}\n",
      "{'An': 'Nguyen', (1, 2): 69}\n"
     ]
    }
   ],
   "source": [
    "d = {'An': \"Nguyen\",(1,2):69}\n",
    "print(d)\n",
    "d2 = d.copy()\n",
    "print(d2)\n",
    "# copy tạo ra 1 bảo sao mới ở 1 vùng mới "
   ]
  },
  {
   "cell_type": "code",
   "execution_count": 264,
   "id": "89947a94-abc7-4652-8a8c-39aa774655b8",
   "metadata": {
    "tags": []
   },
   "outputs": [
    {
     "name": "stdout",
     "output_type": "stream",
     "text": [
      "{'An': 'Nguyen', (1, 2): 69}\n",
      "{}\n"
     ]
    }
   ],
   "source": [
    "d = {'An': \"Nguyen\",(1,2):69}\n",
    "print(d)\n",
    "d.clear()\n",
    "print(d)\n",
    "# clear để xóa các phần tử trong dict"
   ]
  },
  {
   "cell_type": "code",
   "execution_count": 265,
   "id": "218641a0-8ca4-4426-8e51-988b3964bc6b",
   "metadata": {
    "tags": []
   },
   "outputs": [
    {
     "name": "stdout",
     "output_type": "stream",
     "text": [
      "{'An': 'Nguyen', (1, 2): 69}\n",
      "Nguyen\n"
     ]
    }
   ],
   "source": [
    "d = {'An': \"Nguyen\",(1,2):69}\n",
    "print(d)\n",
    "value = d.get('An')\n",
    "print(value)\n",
    "# get dùng để lấy ra value của key mà mình muốn trong dict"
   ]
  },
  {
   "cell_type": "code",
   "execution_count": 266,
   "id": "60356f1e-f24f-4cfd-8045-b01a71faaaf3",
   "metadata": {
    "tags": []
   },
   "outputs": [
    {
     "name": "stdout",
     "output_type": "stream",
     "text": [
      "{'An': 'Nguyen', (1, 2): 69}\n",
      "dict_items([('An', 'Nguyen'), ((1, 2), 69)])\n"
     ]
    }
   ],
   "source": [
    "d = {'An': \"Nguyen\",(1,2):69}\n",
    "print(d)\n",
    "d2 = d.items()\n",
    "print(d2)\n",
    "# items có tác dụng như dưới\n",
    "# nếu muốn lấy từng phần tử thì ta chuyển thành list rồi lấy"
   ]
  },
  {
   "cell_type": "code",
   "execution_count": 267,
   "id": "33d084b9-34a7-4462-94ad-11e1571cfe68",
   "metadata": {
    "tags": []
   },
   "outputs": [
    {
     "name": "stdout",
     "output_type": "stream",
     "text": [
      "{'An': 'Nguyen', (1, 2): 69}\n",
      "dict_keys(['An', (1, 2)])\n"
     ]
    }
   ],
   "source": [
    "d = {'An': \"Nguyen\",(1,2):69}\n",
    "print(d)\n",
    "d2 = d.keys()\n",
    "print(d2)\n",
    "# keys dùng để lấy ra những key trong dict"
   ]
  },
  {
   "cell_type": "code",
   "execution_count": 268,
   "id": "07c959c7-c5c8-450c-963c-bde3dc05e715",
   "metadata": {
    "tags": []
   },
   "outputs": [
    {
     "name": "stdout",
     "output_type": "stream",
     "text": [
      "{'An': 'Nguyen', (1, 2): 69}\n",
      "dict_values(['Nguyen', 69])\n"
     ]
    }
   ],
   "source": [
    "d = {'An': \"Nguyen\",(1,2):69}\n",
    "print(d)\n",
    "d2 = d.values()\n",
    "print(d2)\n",
    "# values lấy ra những values trong dict"
   ]
  },
  {
   "cell_type": "code",
   "execution_count": 269,
   "id": "076c6e8f-3d70-46d7-86eb-b357a440b28c",
   "metadata": {
    "tags": []
   },
   "outputs": [
    {
     "name": "stdout",
     "output_type": "stream",
     "text": [
      "{'An': 'Nguyen', (1, 2): 69}\n",
      "Nguyen\n",
      "{(1, 2): 69}\n"
     ]
    }
   ],
   "source": [
    "d = {'An': \"Nguyen\",(1,2):69}\n",
    "print(d)\n",
    "d2 = d.pop('An')\n",
    "print(d2)\n",
    "print(d)\n",
    "# pop dùng để lấy ra giá trị value của key mình muốn rồi cho key đó ra khỏi dict"
   ]
  },
  {
   "cell_type": "code",
   "execution_count": 270,
   "id": "cceb2810-37b8-42ee-befe-38999801e71b",
   "metadata": {
    "tags": []
   },
   "outputs": [
    {
     "name": "stdout",
     "output_type": "stream",
     "text": [
      "{'An': 'Nguyen', (1, 2): 69}\n",
      "((1, 2), 69)\n"
     ]
    }
   ],
   "source": [
    "d = {'An': \"Nguyen\",(1,2):69}\n",
    "print(d)\n",
    "d2 = d.popitem()\n",
    "print(d2)\n",
    "# k hiểu lắm......."
   ]
  },
  {
   "cell_type": "code",
   "execution_count": 271,
   "id": "eaceb467-ca2e-46d0-bc4a-2e6e6f4a173d",
   "metadata": {
    "tags": []
   },
   "outputs": [
    {
     "name": "stdout",
     "output_type": "stream",
     "text": [
      "{'An': 'Nguyen', (1, 2): 69}\n",
      "Nguyen\n",
      "{'An': 'Nguyen', (1, 2): 69}\n",
      "None\n"
     ]
    }
   ],
   "source": [
    "d = {'An': \"Nguyen\",(1,2):69}\n",
    "print(d)\n",
    "d2 = d.setdefault('An')\n",
    "print(d2)\n",
    "\n",
    "d = {'An': \"Nguyen\",(1,2):69}\n",
    "print(d)\n",
    "d2 = d.setdefault('vip')\n",
    "print(d2)\n",
    "# setdefault trả về giá trị của value của key ta muốn trong dict \n",
    "# hoặc nếu key đó không có trong dict thì nó sẽ cho ra kết quả là None"
   ]
  },
  {
   "cell_type": "code",
   "execution_count": 272,
   "id": "794f8609-a711-4a53-bc6e-18ec2ff39399",
   "metadata": {
    "tags": []
   },
   "outputs": [
    {
     "name": "stdout",
     "output_type": "stream",
     "text": [
      "{'An': 'Nguyen', (1, 2): 69}\n",
      "{'An': 'Duy An', (1, 2): 69, 'Vip': 'Ne'}\n"
     ]
    }
   ],
   "source": [
    "d = {'An': 'Nguyen',(1,2):69}\n",
    "print(d)\n",
    "d2 = d.update( An = 'Duy An', Vip = 'Ne')\n",
    "print(d)\n",
    "# update là dùng để cập nhật dữ liệu mới hoặc thêm dữ liệu mới mà ta muốn thêm"
   ]
  },
  {
   "cell_type": "markdown",
   "id": "6791ebaf-b213-4677-bd3b-a2c616450902",
   "metadata": {},
   "source": [
    "## File in python"
   ]
  },
  {
   "cell_type": "markdown",
   "id": "e584eeca-e4a6-439c-a9b7-3a1bf1cb5465",
   "metadata": {},
   "source": [
    "### File operations in python"
   ]
  },
  {
   "cell_type": "raw",
   "id": "424cea1a-be6d-4a11-b73d-381f82893c47",
   "metadata": {},
   "source": [
    "các hàm thao tác với file tong python"
   ]
  },
  {
   "cell_type": "code",
   "execution_count": 273,
   "id": "bef34f95-05e1-41c4-8acb-768216957d18",
   "metadata": {
    "tags": []
   },
   "outputs": [
    {
     "ename": "FileNotFoundError",
     "evalue": "[Errno 2] No such file or directory: 'AN.txt'",
     "output_type": "error",
     "traceback": [
      "\u001b[1;31m---------------------------------------------------------------------------\u001b[0m",
      "\u001b[1;31mFileNotFoundError\u001b[0m                         Traceback (most recent call last)",
      "Cell \u001b[1;32mIn[273], line 1\u001b[0m\n\u001b[1;32m----> 1\u001b[0m file_object \u001b[38;5;241m=\u001b[39m \u001b[38;5;28mopen\u001b[39m(\u001b[38;5;124m'\u001b[39m\u001b[38;5;124mAN.txt\u001b[39m\u001b[38;5;124m'\u001b[39m)\n\u001b[0;32m      2\u001b[0m \u001b[38;5;28mprint\u001b[39m(file_object)\n",
      "File \u001b[1;32mf:\\anaconda\\Lib\\site-packages\\IPython\\core\\interactiveshell.py:324\u001b[0m, in \u001b[0;36m_modified_open\u001b[1;34m(file, *args, **kwargs)\u001b[0m\n\u001b[0;32m    317\u001b[0m \u001b[38;5;28;01mif\u001b[39;00m file \u001b[38;5;129;01min\u001b[39;00m {\u001b[38;5;241m0\u001b[39m, \u001b[38;5;241m1\u001b[39m, \u001b[38;5;241m2\u001b[39m}:\n\u001b[0;32m    318\u001b[0m     \u001b[38;5;28;01mraise\u001b[39;00m \u001b[38;5;167;01mValueError\u001b[39;00m(\n\u001b[0;32m    319\u001b[0m         \u001b[38;5;124mf\u001b[39m\u001b[38;5;124m\"\u001b[39m\u001b[38;5;124mIPython won\u001b[39m\u001b[38;5;124m'\u001b[39m\u001b[38;5;124mt let you open fd=\u001b[39m\u001b[38;5;132;01m{\u001b[39;00mfile\u001b[38;5;132;01m}\u001b[39;00m\u001b[38;5;124m by default \u001b[39m\u001b[38;5;124m\"\u001b[39m\n\u001b[0;32m    320\u001b[0m         \u001b[38;5;124m\"\u001b[39m\u001b[38;5;124mas it is likely to crash IPython. If you know what you are doing, \u001b[39m\u001b[38;5;124m\"\u001b[39m\n\u001b[0;32m    321\u001b[0m         \u001b[38;5;124m\"\u001b[39m\u001b[38;5;124myou can use builtins\u001b[39m\u001b[38;5;124m'\u001b[39m\u001b[38;5;124m open.\u001b[39m\u001b[38;5;124m\"\u001b[39m\n\u001b[0;32m    322\u001b[0m     )\n\u001b[1;32m--> 324\u001b[0m \u001b[38;5;28;01mreturn\u001b[39;00m io_open(file, \u001b[38;5;241m*\u001b[39margs, \u001b[38;5;241m*\u001b[39m\u001b[38;5;241m*\u001b[39mkwargs)\n",
      "\u001b[1;31mFileNotFoundError\u001b[0m: [Errno 2] No such file or directory: 'AN.txt'"
     ]
    }
   ],
   "source": [
    "file_object = open('AN.txt')\n",
    "print(file_object)"
   ]
  },
  {
   "cell_type": "code",
   "execution_count": 274,
   "id": "6fde0bee-f0e2-4a5b-856f-5ca5fa80894e",
   "metadata": {
    "tags": []
   },
   "outputs": [
    {
     "name": "stdout",
     "output_type": "stream",
     "text": [
      "<_io.TextIOWrapper name='AN.txt' mode='a+' encoding='utf-8'>\n"
     ]
    }
   ],
   "source": [
    "file_object = open('AN.txt', mode = 'a+')\n",
    "print(file_object)\n",
    "# a+ dùng để mở file"
   ]
  },
  {
   "cell_type": "code",
   "execution_count": 275,
   "id": "5a286c2a-5845-4626-8cd8-9c43a0b53a34",
   "metadata": {
    "tags": []
   },
   "outputs": [
    {
     "name": "stdout",
     "output_type": "stream",
     "text": [
      "\n",
      "\n"
     ]
    }
   ],
   "source": [
    "file_object = open('AN.txt')\n",
    "data = file_object.read(2333)\n",
    "data2 = file_object.read()\n",
    "print(data)\n",
    "print(data2)\n",
    "# read đùng dể đọc file khi đã đc mở và con số trong read dùng để giới hạn bn ký tự được đọc\n",
    "# data đã đọc hết ksi tự r lên data 2 sẽ k có ptu để đọc nữa lên sẽ ra khoảng trắng\n",
    "# nếu muốn đọc thì ra phải dùng close() để đóng data ban đầu"
   ]
  },
  {
   "cell_type": "code",
   "execution_count": 276,
   "id": "2c3542a0-88a3-418e-ad82-7f2eae57eb86",
   "metadata": {
    "tags": []
   },
   "outputs": [
    {
     "name": "stdout",
     "output_type": "stream",
     "text": [
      "\n",
      "\n"
     ]
    }
   ],
   "source": [
    "file_object = open('AN.txt')\n",
    "data = file_object.read(2333)\n",
    "file_object.close()\n",
    "file_object = open('AN.txt')\n",
    "data2 = file_object.read()\n",
    "print(data)\n",
    "print(data2)\n",
    "# đây là ví dụ cho cái trên"
   ]
  },
  {
   "cell_type": "code",
   "execution_count": 277,
   "id": "28c65966-161e-4b9d-87a1-e2d42aceccb0",
   "metadata": {
    "tags": []
   },
   "outputs": [
    {
     "name": "stdout",
     "output_type": "stream",
     "text": [
      "\n"
     ]
    }
   ],
   "source": [
    "file_object = open('AN.txt')\n",
    "data = file_object.readline()\n",
    "print(data)\n",
    "# readline dùng để đọc dòng"
   ]
  },
  {
   "cell_type": "code",
   "execution_count": 278,
   "id": "eae6cca9-1cbb-42f5-8b84-b1e292b4090c",
   "metadata": {
    "tags": []
   },
   "outputs": [
    {
     "name": "stdout",
     "output_type": "stream",
     "text": [
      "[]\n"
     ]
    }
   ],
   "source": [
    "file_object = open('AN.txt')\n",
    "data = file_object.readlines()\n",
    "print(data)\n",
    "# readlines dùng để đọc nhiều dòng và các nhau bằng \\n"
   ]
  },
  {
   "cell_type": "code",
   "execution_count": 279,
   "id": "56723089-3c3e-41b5-b6e2-2d1f190eeecd",
   "metadata": {
    "tags": []
   },
   "outputs": [
    {
     "name": "stdout",
     "output_type": "stream",
     "text": [
      "[]\n"
     ]
    }
   ],
   "source": [
    "file_object = open('AN.txt')\n",
    "data = list(file_object)\n",
    "print(data)\n",
    "# có thể biến chúng thành list hoặc tuple ,...."
   ]
  },
  {
   "cell_type": "code",
   "execution_count": 280,
   "id": "07ab0828-2c0c-4981-a349-6559c29acd61",
   "metadata": {
    "tags": []
   },
   "outputs": [
    {
     "name": "stdout",
     "output_type": "stream",
     "text": [
      "2\n"
     ]
    }
   ],
   "source": [
    "file_object = open('AN.txt', mode = 'a+')\n",
    "data = file_object. write('An')\n",
    "file_object.close()\n",
    "print(data)\n",
    "# write thêm kí tự vào bản rồi cho bt mấy ký tự được thêm\n",
    "# thêm \\n trc An như '\\nAn' thì để cho An xuống dòng"
   ]
  },
  {
   "cell_type": "code",
   "execution_count": 281,
   "id": "4fedf42e-7a58-41a0-8b12-5f65ef8fd6a5",
   "metadata": {
    "tags": []
   },
   "outputs": [
    {
     "name": "stdout",
     "output_type": "stream",
     "text": [
      "An\n",
      "An\n"
     ]
    }
   ],
   "source": [
    "file_object = open('AN.txt')\n",
    "data2 = file_object.read()\n",
    "file_object.seek(0)\n",
    "data = file_object.read()\n",
    "file_object.close()\n",
    "print(data2)\n",
    "print(data)\n",
    "# khi read thì nó đã đọc đến vị trí cuối của bài r và không còn gì đọc\n",
    "# rồi muốn đọc lại từ đầu thì ra dùng seek() để cho con trỏ quay lại vị trí mà mình mong muốn rồi đọc tiếp"
   ]
  },
  {
   "cell_type": "markdown",
   "id": "0a3a8528-6210-47f8-9ac1-8af2f43a6124",
   "metadata": {},
   "source": [
    "## Interaction object in python"
   ]
  },
  {
   "cell_type": "raw",
   "id": "406d2789-7c04-426d-ae49-facb06d6372e",
   "metadata": {},
   "source": [
    "các đối tượng tương tác trong python"
   ]
  },
  {
   "cell_type": "code",
   "execution_count": 282,
   "id": "f35a2f7c-4e64-4db2-9ee5-b151767e459a",
   "metadata": {
    "tags": []
   },
   "outputs": [
    {
     "name": "stdout",
     "output_type": "stream",
     "text": [
      "[0, 1, 2]\n"
     ]
    }
   ],
   "source": [
    "inter = [x for x in range(3)]\n",
    "print(inter)\n",
    "# đây là tạo ra list"
   ]
  },
  {
   "cell_type": "code",
   "execution_count": 283,
   "id": "0e346e34-00cb-4d63-81cc-ae5f98d9e5c8",
   "metadata": {
    "tags": []
   },
   "outputs": [
    {
     "name": "stdout",
     "output_type": "stream",
     "text": [
      "<generator object <genexpr> at 0x0000024EA313CDC0>\n"
     ]
    }
   ],
   "source": [
    "inter = (x for x in range(3))\n",
    "print(inter)"
   ]
  },
  {
   "cell_type": "code",
   "execution_count": 284,
   "id": "47a8f085-73e9-42d4-b146-a8025bb5bd6b",
   "metadata": {
    "tags": []
   },
   "outputs": [
    {
     "name": "stdout",
     "output_type": "stream",
     "text": [
      "<generator object <genexpr> at 0x0000024EA313CE80>\n",
      "0\n",
      "1\n",
      "2\n"
     ]
    }
   ],
   "source": [
    "inter = (x for x in range(3))\n",
    "print(inter)\n",
    "print(next(inter))\n",
    "print(next(inter))\n",
    "print(next(inter))\n",
    "# vì ngoặc trong là tạo ra generator object lên chỉ lấy đc từng phần tử"
   ]
  },
  {
   "cell_type": "code",
   "execution_count": 285,
   "id": "8faf9a03-fab9-4292-912f-7002f939e209",
   "metadata": {
    "tags": []
   },
   "outputs": [
    {
     "name": "stdout",
     "output_type": "stream",
     "text": [
      "<generator object <genexpr> at 0x0000024EA313CDC0>\n",
      "3\n"
     ]
    }
   ],
   "source": [
    "inter = (x for x in range(3))\n",
    "print(inter)\n",
    "print(sum(inter))\n",
    "# sum là hàm tính tổng"
   ]
  },
  {
   "cell_type": "code",
   "execution_count": 286,
   "id": "26f544ed-b0bc-4421-8e1b-04c7563be7d2",
   "metadata": {
    "tags": []
   },
   "outputs": [
    {
     "name": "stdout",
     "output_type": "stream",
     "text": [
      "<generator object <genexpr> at 0x0000024EA313C580>\n",
      "2\n"
     ]
    }
   ],
   "source": [
    "inter = (x for x in range(3))\n",
    "print(inter)\n",
    "print(max(inter))\n",
    "# max là tìm giá trị lớn nhất"
   ]
  },
  {
   "cell_type": "code",
   "execution_count": 287,
   "id": "27b04f9f-fa0a-4537-9b1a-211e652c98e0",
   "metadata": {
    "tags": []
   },
   "outputs": [
    {
     "name": "stdout",
     "output_type": "stream",
     "text": [
      "<generator object <genexpr> at 0x0000024EA313CC40>\n",
      "An\n"
     ]
    }
   ],
   "source": [
    "inter = (x for x in range(3))\n",
    "print(inter)\n",
    "print(max([], default = 'An'))\n",
    "# vì trong max k có gì lên nó ra kết quả là An"
   ]
  },
  {
   "cell_type": "code",
   "execution_count": 288,
   "id": "3ce16748-0269-4c26-9a0a-164b39a48dfc",
   "metadata": {
    "tags": []
   },
   "outputs": [
    {
     "name": "stdout",
     "output_type": "stream",
     "text": [
      "<generator object <genexpr> at 0x0000024EA313CA00>\n",
      "0\n"
     ]
    }
   ],
   "source": [
    "inter = (x for x in range(3))\n",
    "print(inter)\n",
    "print(min(inter))\n",
    "# min là tìm giá trị nhỏ nhất"
   ]
  },
  {
   "cell_type": "code",
   "execution_count": 289,
   "id": "45da77e9-a6df-4292-b317-e1c154f67f40",
   "metadata": {
    "tags": []
   },
   "outputs": [
    {
     "name": "stdout",
     "output_type": "stream",
     "text": [
      "[1, 6, 7, 4, 2]\n",
      "[1, 2, 4, 6, 7]\n",
      "[7, 6, 4, 2, 1]\n"
     ]
    }
   ],
   "source": [
    "inter = [1, 6, 7, 4,2]\n",
    "print(inter)\n",
    "print(sorted(inter))\n",
    "print(sorted(inter, reverse = True))\n",
    "# sorted dùng để sắp xếp và có thể sắp xếp từ bé đến lớn hoặc từ lớn đến bé"
   ]
  },
  {
   "cell_type": "markdown",
   "id": "3f57db9b-5ba1-451d-b3c7-326bb0f0094d",
   "metadata": {},
   "source": [
    "## Output function in python"
   ]
  },
  {
   "cell_type": "raw",
   "id": "e06aa341-861c-403f-9dc0-611949adbc40",
   "metadata": {},
   "source": [
    "hàm xuất trong python : chính là print()"
   ]
  },
  {
   "cell_type": "code",
   "execution_count": 290,
   "id": "e6def3ef-907d-4362-960d-61b6a7366655",
   "metadata": {
    "tags": []
   },
   "outputs": [
    {
     "name": "stdout",
     "output_type": "stream",
     "text": [
      "An Ne\n",
      "An++Ne\n"
     ]
    }
   ],
   "source": [
    "print('An','Ne')\n",
    "print('An','Ne',sep ='++')\n",
    "# sep dùng để thay thế khoảng trắng mặc định của print "
   ]
  },
  {
   "cell_type": "code",
   "execution_count": 291,
   "id": "fbacffb6-bdde-49da-9ebb-97996da1f955",
   "metadata": {
    "tags": []
   },
   "outputs": [
    {
     "name": "stdout",
     "output_type": "stream",
     "text": [
      "An Ne\n",
      "alo\n",
      "An Ne+alo\n"
     ]
    }
   ],
   "source": [
    "print('An','Ne')\n",
    "print('alo')\n",
    "print('An','Ne', end ='+')\n",
    "print('alo')\n",
    "# bình thường 2 print sẽ bị xuống dòng như thêm end là = xuống dòng và cs thể thay thế xuống dòng bằng cái khác"
   ]
  },
  {
   "cell_type": "code",
   "execution_count": 292,
   "id": "67c78cf5-7eff-4554-9fe3-0a04ad7aa5f5",
   "metadata": {
    "tags": []
   },
   "outputs": [
    {
     "name": "stdout",
     "output_type": "stream",
     "text": [
      "An.....\n"
     ]
    },
    {
     "name": "stdout",
     "output_type": "stream",
     "text": [
      "oiiii\n"
     ]
    }
   ],
   "source": [
    "from time import sleep\n",
    "print('An.....')\n",
    "sleep(10)\n",
    "print('oiiii')\n",
    "# sleep dùng để cho lệnh print chờ theo 1 khoảng thời gian nhất định"
   ]
  },
  {
   "cell_type": "code",
   "execution_count": 293,
   "id": "a115a702-209a-4881-b9f8-ca09cf2553ae",
   "metadata": {
    "tags": []
   },
   "outputs": [
    {
     "ename": "ValueError",
     "evalue": "invalid mode: 'W'",
     "output_type": "error",
     "traceback": [
      "\u001b[1;31m---------------------------------------------------------------------------\u001b[0m",
      "\u001b[1;31mValueError\u001b[0m                                Traceback (most recent call last)",
      "Cell \u001b[1;32mIn[293], line 1\u001b[0m\n\u001b[1;32m----> 1\u001b[0m \u001b[38;5;28;01mwith\u001b[39;00m \u001b[38;5;28mopen\u001b[39m(\u001b[38;5;124m'\u001b[39m\u001b[38;5;124mprinttext.txt\u001b[39m\u001b[38;5;124m'\u001b[39m, \u001b[38;5;124m'\u001b[39m\u001b[38;5;124mW\u001b[39m\u001b[38;5;124m'\u001b[39m) \u001b[38;5;28;01mas\u001b[39;00m f:\n\u001b[0;32m      2\u001b[0m     \u001b[38;5;28mprint\u001b[39m (\u001b[38;5;124m'\u001b[39m\u001b[38;5;124mprint An ne\u001b[39m\u001b[38;5;124m'\u001b[39m, file \u001b[38;5;241m=\u001b[39m f)\n",
      "File \u001b[1;32mf:\\anaconda\\Lib\\site-packages\\IPython\\core\\interactiveshell.py:324\u001b[0m, in \u001b[0;36m_modified_open\u001b[1;34m(file, *args, **kwargs)\u001b[0m\n\u001b[0;32m    317\u001b[0m \u001b[38;5;28;01mif\u001b[39;00m file \u001b[38;5;129;01min\u001b[39;00m {\u001b[38;5;241m0\u001b[39m, \u001b[38;5;241m1\u001b[39m, \u001b[38;5;241m2\u001b[39m}:\n\u001b[0;32m    318\u001b[0m     \u001b[38;5;28;01mraise\u001b[39;00m \u001b[38;5;167;01mValueError\u001b[39;00m(\n\u001b[0;32m    319\u001b[0m         \u001b[38;5;124mf\u001b[39m\u001b[38;5;124m\"\u001b[39m\u001b[38;5;124mIPython won\u001b[39m\u001b[38;5;124m'\u001b[39m\u001b[38;5;124mt let you open fd=\u001b[39m\u001b[38;5;132;01m{\u001b[39;00mfile\u001b[38;5;132;01m}\u001b[39;00m\u001b[38;5;124m by default \u001b[39m\u001b[38;5;124m\"\u001b[39m\n\u001b[0;32m    320\u001b[0m         \u001b[38;5;124m\"\u001b[39m\u001b[38;5;124mas it is likely to crash IPython. If you know what you are doing, \u001b[39m\u001b[38;5;124m\"\u001b[39m\n\u001b[0;32m    321\u001b[0m         \u001b[38;5;124m\"\u001b[39m\u001b[38;5;124myou can use builtins\u001b[39m\u001b[38;5;124m'\u001b[39m\u001b[38;5;124m open.\u001b[39m\u001b[38;5;124m\"\u001b[39m\n\u001b[0;32m    322\u001b[0m     )\n\u001b[1;32m--> 324\u001b[0m \u001b[38;5;28;01mreturn\u001b[39;00m io_open(file, \u001b[38;5;241m*\u001b[39margs, \u001b[38;5;241m*\u001b[39m\u001b[38;5;241m*\u001b[39mkwargs)\n",
      "\u001b[1;31mValueError\u001b[0m: invalid mode: 'W'"
     ]
    }
   ],
   "source": [
    "with open('printtext.txt', 'W') as f:\n",
    "    print ('print An ne', file = f)\n",
    "#......"
   ]
  },
  {
   "cell_type": "markdown",
   "id": "2353bd67-6c1b-437d-8ef3-6ca2429fb2ea",
   "metadata": {},
   "source": [
    "## Input function in python"
   ]
  },
  {
   "cell_type": "raw",
   "id": "54d572f4-3728-45a9-8db0-103f6efde15d",
   "metadata": {},
   "source": [
    "Hàm nhập trong python"
   ]
  },
  {
   "cell_type": "code",
   "execution_count": null,
   "id": "faaaa0a3-4e40-40c1-bb10-78371dec1a35",
   "metadata": {
    "tags": []
   },
   "outputs": [
    {
     "name": "stdout",
     "output_type": "stream",
     "text": [
      " AN\n"
     ]
    },
    {
     "name": "stdout",
     "output_type": "stream",
     "text": [
      "taaa:  AN\n"
     ]
    }
   ],
   "source": [
    "value = input()\n",
    "print('taaa: ', value)\n",
    "# input khi chạy sẽ hiện ra dòngđể mình điền vào"
   ]
  },
  {
   "cell_type": "code",
   "execution_count": null,
   "id": "86f1dc10-2bfc-4133-8ff8-6c04a07dfcee",
   "metadata": {
    "tags": []
   },
   "outputs": [
    {
     "name": "stdout",
     "output_type": "stream",
     "text": [
      "Enter an interger:  7\n"
     ]
    },
    {
     "name": "stdout",
     "output_type": "stream",
     "text": [
      "Type of int_num <class 'str'>\n"
     ]
    }
   ],
   "source": [
    "int_num = input('Enter an interger: ')\n",
    "print('Type of int_num', type(int_num))\n",
    "# cho thấy rằng kiểu dữ liệu mình đưa vào sẽ đầu ra là kiểu string"
   ]
  },
  {
   "cell_type": "markdown",
   "id": "e90d852b-995c-4c3b-b64f-47fd65eb97ba",
   "metadata": {},
   "source": [
    "## Boolean in python"
   ]
  },
  {
   "cell_type": "raw",
   "id": "df2cb748-7267-4301-8167-93484e059ea6",
   "metadata": {},
   "source": [
    "kiểu dữ liệu boolean trong python\n",
    "Chính là True hoặc False"
   ]
  },
  {
   "cell_type": "code",
   "execution_count": null,
   "id": "e9711393-d8a8-44c0-8989-5d39c266fbe1",
   "metadata": {
    "tags": []
   },
   "outputs": [
    {
     "name": "stdout",
     "output_type": "stream",
     "text": [
      "True\n",
      "False\n",
      "True\n",
      "True\n",
      "97\n",
      "True\n"
     ]
    }
   ],
   "source": [
    "print(3>1)\n",
    "print(3>1 & 1<-1)\n",
    "print(241 == 141+100)\n",
    "print('An' == 'An')\n",
    "print(ord('a'))\n",
    "print('a'>'ABC')\n",
    "# đây là so sánh a với A nếu a > A thì suy ra là True luôn\n",
    "# ord để cho ra giá trị của chữ lên dễ hiểu cách so sánh kiểu string hơn"
   ]
  },
  {
   "cell_type": "code",
   "execution_count": null,
   "id": "b8b62a1a-3853-48a4-ac44-0ecde5fd65d4",
   "metadata": {
    "tags": []
   },
   "outputs": [
    {
     "name": "stdout",
     "output_type": "stream",
     "text": [
      "True\n",
      "False\n",
      "2256056751488\n",
      "2256056751488\n",
      "True\n"
     ]
    }
   ],
   "source": [
    "lst = [1, 2, 3]\n",
    "lst_ = [1, 2, 3]\n",
    "print(lst == lst_)\n",
    "print(lst is lst_)\n",
    "_lst = lst\n",
    "print(id(lst))\n",
    "print(id(_lst))\n",
    "print(lst is _lst)\n",
    "# is kiểu là 'là' lên phải giống nhau hoàn toàn có thể rõ hơn ở VD trên"
   ]
  },
  {
   "cell_type": "code",
   "execution_count": null,
   "id": "d125816f-233d-45b3-aba0-cca4f4c0ddd0",
   "metadata": {
    "tags": []
   },
   "outputs": [
    {
     "name": "stdout",
     "output_type": "stream",
     "text": [
      "True\n"
     ]
    }
   ],
   "source": [
    "a = 99\n",
    "b = 99\n",
    "print(a is b)\n",
    "# ta có thể thấy chúng so sánh bằng cách id() nhưng id chỉ thỏa mãn số từ -5 đến 256 còn nằm ngoài thì kq sẽ khác nhau"
   ]
  },
  {
   "cell_type": "code",
   "execution_count": null,
   "id": "9805ac20-4252-419a-a2bf-2ab5d7d97c4a",
   "metadata": {
    "tags": []
   },
   "outputs": [
    {
     "name": "stdout",
     "output_type": "stream",
     "text": [
      "True\n",
      "False\n",
      "False\n",
      "True\n",
      "True\n",
      "True\n",
      "False\n",
      "False\n",
      "True\n"
     ]
    }
   ],
   "source": [
    "print(True and True)\n",
    "print(False and True)\n",
    "print(False and False)\n",
    "print(True or True)\n",
    "print(True or False)\n",
    "print(False or True)\n",
    "print(False or False)\n",
    "print(not True)\n",
    "print(not False)\n",
    "# or và and và not"
   ]
  },
  {
   "cell_type": "code",
   "execution_count": null,
   "id": "e4c633bb-8bc6-44a7-829e-c6b8b002aadd",
   "metadata": {
    "tags": []
   },
   "outputs": [
    {
     "name": "stdout",
     "output_type": "stream",
     "text": [
      "False\n",
      "False\n",
      "False\n",
      "True\n",
      "True\n"
     ]
    }
   ],
   "source": [
    "print(bool(0))\n",
    "print(bool())\n",
    "print(bool(None))\n",
    "print(bool(1))\n",
    "print(bool('a'))\n",
    "# 0, Nỏn, rỗng thì kiểu bool sẽ ra False nhưng các trường hợp còn lại đều ra True"
   ]
  },
  {
   "cell_type": "code",
   "execution_count": null,
   "id": "eef729a9-42bb-481c-97a5-15e017133f11",
   "metadata": {
    "tags": []
   },
   "outputs": [
    {
     "name": "stdout",
     "output_type": "stream",
     "text": [
      "True\n",
      "True\n"
     ]
    }
   ],
   "source": [
    "a = 4 \n",
    "print(1<a<6)\n",
    "b= -4\n",
    "print(b<-3<-1<a<6)"
   ]
  },
  {
   "cell_type": "code",
   "execution_count": null,
   "id": "9e1af21f-2705-4e63-a5b5-b8905f7ddf61",
   "metadata": {
    "tags": []
   },
   "outputs": [
    {
     "name": "stdout",
     "output_type": "stream",
     "text": [
      "True\n"
     ]
    }
   ],
   "source": [
    "k = 4\n",
    "print(k in (3,4,5))"
   ]
  },
  {
   "cell_type": "markdown",
   "id": "db2062f2-7609-47c1-91b4-1e77b06f9bce",
   "metadata": {},
   "source": [
    "## Branching structure in python"
   ]
  },
  {
   "cell_type": "raw",
   "id": "0c3de013-660e-4446-9c6a-10a4d405fa5b",
   "metadata": {},
   "source": [
    "cấu trúc rẽ nhánh trong pyhon : chính là if, else, elif"
   ]
  },
  {
   "cell_type": "code",
   "execution_count": null,
   "id": "30168039-93db-4e0e-b436-e5269f947700",
   "metadata": {
    "tags": []
   },
   "outputs": [
    {
     "name": "stdout",
     "output_type": "stream",
     "text": [
      "a nhỏ hơn 1\n",
      "b nhỏ hơn 1\n"
     ]
    }
   ],
   "source": [
    "a = 0\n",
    "b = -6\n",
    "if a - 1 < 0:\n",
    "    print('a nhỏ hơn 1')\n",
    "if b - 1 < 0:\n",
    "    print('b nhỏ hơn 1')"
   ]
  },
  {
   "cell_type": "code",
   "execution_count": null,
   "id": "f31bd6ac-5c39-4281-9c84-b616eef3d379",
   "metadata": {
    "tags": []
   },
   "outputs": [],
   "source": [
    "a = 3\n",
    "b = -6\n",
    "if a - 1 < 0:\n",
    "    print('a nhỏ hơn 1')\n",
    "    if b - 1 < 0:\n",
    "        print('b nhỏ hơn 1')\n",
    "# ở trên gọi là if lồng nó chỉ chạy tiếp khi if ban đầu đúng r mới chạy if thứ 2"
   ]
  },
  {
   "cell_type": "code",
   "execution_count": null,
   "id": "856f4c19-1877-47e9-81de-d19af14c7f40",
   "metadata": {
    "tags": []
   },
   "outputs": [
    {
     "name": "stdout",
     "output_type": "stream",
     "text": [
      "a nhỏ hơn 1\n",
      "b nhỏ hơn 1\n"
     ]
    }
   ],
   "source": [
    "a = 0\n",
    "b = -6\n",
    "if a - 1 < 0:\n",
    "    print('a nhỏ hơn 1')\n",
    "    if b - 1 < 0:\n",
    "        print('b nhỏ hơn 1')\n",
    "# ở trên gọi là if lồng "
   ]
  },
  {
   "cell_type": "code",
   "execution_count": null,
   "id": "38c66f46-4553-4ea4-95a2-be41d5fd109b",
   "metadata": {
    "tags": []
   },
   "outputs": [
    {
     "name": "stdout",
     "output_type": "stream",
     "text": [
      "a nhỏ hơn 4\n"
     ]
    }
   ],
   "source": [
    "a = 3\n",
    "if a - 1 < 0:\n",
    "    print('a nhỏ hơn 1')\n",
    "elif a - 2 < 0:\n",
    "    print('a nhỏ hơn 2')\n",
    "elif a - 3 < 0:\n",
    "    print('a nhỏ hơn 3')\n",
    "elif a - 4 < 0:\n",
    "    print('a nhỏ hơn 4')\n",
    "elif a - 5 < 0:\n",
    "    print('a nhỏ hơn 5')\n",
    "else:\n",
    "    print('Khong biet')\n",
    "# đây là if elif và else ta có thể k cần elsse cũng đc và elif nó vô tận"
   ]
  },
  {
   "cell_type": "code",
   "execution_count": null,
   "id": "cdab7f1d-3390-4412-85b1-b865968c2625",
   "metadata": {
    "tags": []
   },
   "outputs": [
    {
     "name": "stdout",
     "output_type": "stream",
     "text": [
      "a lớn hơn 1\n"
     ]
    }
   ],
   "source": [
    "a = 3\n",
    "if a - 1< 0:\n",
    "    print('a nhỏ hơn 1')\n",
    "else:\n",
    "    print('a lớn hơn 1')"
   ]
  },
  {
   "cell_type": "code",
   "execution_count": null,
   "id": "1fea7a49-eaa4-4a1d-8b30-72b5910d087f",
   "metadata": {
    "tags": []
   },
   "outputs": [
    {
     "name": "stdout",
     "output_type": "stream",
     "text": [
      "a lớn hơn 1\n",
      "a lớn hơn cả 0\n"
     ]
    }
   ],
   "source": [
    "a = 3\n",
    "if a - 1 > 0: print('a lớn hơn 1'); print('a lớn hơn cả 0')\n",
    "# ta có thể viết liền như trên nếu lười enter xuống dòng."
   ]
  },
  {
   "cell_type": "markdown",
   "id": "4e87a091-743f-4db7-bd7a-e8669145e37d",
   "metadata": {},
   "source": [
    "## While in python"
   ]
  },
  {
   "cell_type": "code",
   "execution_count": null,
   "id": "5cfbcbe4-7605-4682-96dc-200c70665c71",
   "metadata": {
    "tags": []
   },
   "outputs": [
    {
     "name": "stdout",
     "output_type": "stream",
     "text": [
      "k= 5\n",
      "k= 4\n",
      "k= 3\n",
      "k= 2\n",
      "k= 1\n"
     ]
    }
   ],
   "source": [
    "k = 5\n",
    "while k > 0:\n",
    "    print('k=', k)\n",
    "    k -= 1"
   ]
  },
  {
   "cell_type": "code",
   "execution_count": null,
   "id": "a077eaeb-2112-44c2-854d-6c3511408036",
   "metadata": {
    "tags": []
   },
   "outputs": [
    {
     "name": "stdout",
     "output_type": "stream",
     "text": [
      "0 stands for N\n",
      "1 stands for g\n",
      "2 stands for u\n",
      "3 stands for y\n",
      "4 stands for e\n",
      "5 stands for n\n",
      "6 stands for  \n",
      "7 stands for D\n",
      "8 stands for u\n",
      "9 stands for y\n",
      "10 stands for  \n",
      "11 stands for A\n",
      "12 stands for N\n"
     ]
    }
   ],
   "source": [
    "s = 'Nguyen Duy AN'\n",
    "idx = 0\n",
    "length = len(s)\n",
    "while idx < length:\n",
    "    print(idx, 'stands for', s[idx])\n",
    "    idx += 1"
   ]
  },
  {
   "cell_type": "markdown",
   "id": "8aacd138-fd61-4ade-9177-7cf3bde9166e",
   "metadata": {},
   "source": [
    "### Break, continue, else of while in python"
   ]
  },
  {
   "cell_type": "code",
   "execution_count": null,
   "id": "115bf489-3472-4d92-b5b6-80a0a9b775d7",
   "metadata": {},
   "outputs": [
    {
     "name": "stdout",
     "output_type": "stream",
     "text": [
      "[2, 4, 6, 8, 10]\n"
     ]
    }
   ],
   "source": [
    "five_even_number = []\n",
    "k_number = 1\n",
    "while True:\n",
    "    if k_number % 2 == 0:\n",
    "        five_even_number.append(k_number)\n",
    "        if len(five_even_number) == 5:\n",
    "            break\n",
    "    k_number += 1\n",
    "print(five_even_number)"
   ]
  },
  {
   "cell_type": "code",
   "execution_count": null,
   "id": "0f50483f-56c1-49c4-813b-b203d32c6658",
   "metadata": {},
   "outputs": [
    {
     "name": "stdout",
     "output_type": "stream",
     "text": [
      "1 is odd number\n",
      "3 is odd number\n",
      "5 is odd number\n",
      "7 is odd number\n",
      "9 is odd number\n",
      "10\n"
     ]
    }
   ],
   "source": [
    "k_number = 0\n",
    "while k_number < 10:\n",
    "    k_number += 1\n",
    "    if k_number % 2 == 0:\n",
    "        continue\n",
    "    print(k_number, 'is odd number')\n",
    "print(k_number)"
   ]
  },
  {
   "cell_type": "code",
   "execution_count": null,
   "id": "c7b2c484-99fe-45ba-9a36-4addffa70916",
   "metadata": {},
   "outputs": [
    {
     "name": "stdout",
     "output_type": "stream",
     "text": [
      "value of k is 0\n",
      "value of k is 1\n",
      "value of k is 2\n",
      "k is not less than 3 anymore\n"
     ]
    }
   ],
   "source": [
    "k = 0\n",
    "while k < 3:\n",
    "    print('value of k is', k)\n",
    "    k += 1\n",
    "else:\n",
    "    print('k is not less than 3 anymore')"
   ]
  },
  {
   "cell_type": "markdown",
   "id": "716e21ea-125a-4266-ade7-b20e22ccdb58",
   "metadata": {},
   "source": [
    "## For in python"
   ]
  },
  {
   "cell_type": "code",
   "execution_count": null,
   "id": "7902788b-f5b0-4189-b2ed-5782c3146512",
   "metadata": {
    "tags": []
   },
   "outputs": [
    {
     "name": "stdout",
     "output_type": "stream",
     "text": [
      "0\n",
      "1\n",
      "2\n"
     ]
    }
   ],
   "source": [
    "length = 3\n",
    "inter_ = (x for x in range(length))\n",
    "c = 0\n",
    "while c < length:\n",
    "    print(next(inter_))\n",
    "    c += 1"
   ]
  },
  {
   "cell_type": "code",
   "execution_count": null,
   "id": "60a51864-4b08-42d1-b354-3a7e5065c3bc",
   "metadata": {
    "tags": []
   },
   "outputs": [
    {
     "name": "stdout",
     "output_type": "stream",
     "text": [
      "0\n",
      "1\n",
      "2\n"
     ]
    }
   ],
   "source": [
    "length = 3\n",
    "inter_ = (x for x in range(length))\n",
    "c = 0\n",
    "while 1:\n",
    "    try:\n",
    "        print(next(inter_))\n",
    "    except StopIteration:\n",
    "        break"
   ]
  },
  {
   "cell_type": "code",
   "execution_count": null,
   "id": "0b0cadc8-4a8f-4cef-9c50-e60f454aa913",
   "metadata": {
    "tags": []
   },
   "outputs": [
    {
     "name": "stdout",
     "output_type": "stream",
     "text": [
      "-> 0\n",
      "-> 1\n",
      "-> 2\n"
     ]
    }
   ],
   "source": [
    "iter_ = (x for x in range(3))\n",
    "for value in iter_:\n",
    "    print('->', value)"
   ]
  },
  {
   "cell_type": "code",
   "execution_count": null,
   "id": "751919ac-dc66-4799-ac57-e6fa8b6db8f0",
   "metadata": {
    "tags": []
   },
   "outputs": [
    {
     "name": "stdout",
     "output_type": "stream",
     "text": [
      "dict_items([('name', 'An'), ('age', 21)])\n"
     ]
    }
   ],
   "source": [
    "Annaaa = {'name' : 'An','age' :21}\n",
    "print(Annaaa.items())"
   ]
  },
  {
   "cell_type": "code",
   "execution_count": null,
   "id": "c949e3a2-3b43-4122-9526-5b02830a354b",
   "metadata": {
    "tags": []
   },
   "outputs": [
    {
     "name": "stdout",
     "output_type": "stream",
     "text": [
      "[('name', 'An'), ('age', 21)]\n",
      "('age', 21)\n",
      "('name', 'An')\n"
     ]
    }
   ],
   "source": [
    "Annaaa = {'name' : 'An','age' :21}\n",
    "list_value = list(Annaaa.items())\n",
    "print(list_value)\n",
    "print(list_value[1])\n",
    "print(list_value[0])"
   ]
  },
  {
   "cell_type": "code",
   "execution_count": 294,
   "id": "ff7b5d8b-9e7e-4d17-9725-d9127e92eddb",
   "metadata": {
    "tags": []
   },
   "outputs": [
    {
     "name": "stdout",
     "output_type": "stream",
     "text": [
      "name -> An\n",
      "age -> 21\n"
     ]
    }
   ],
   "source": [
    "Annaaa = {'name' : 'An','age' :21}\n",
    "for key, value in Annaaa.items():\n",
    "    print(key, '->' , value)"
   ]
  },
  {
   "cell_type": "markdown",
   "id": "6fb07cef-aabd-43d0-b189-71c039f19fa0",
   "metadata": {},
   "source": [
    "### Break, continue of for in python"
   ]
  },
  {
   "cell_type": "code",
   "execution_count": 295,
   "id": "0fd7e918-e48e-4339-b3a6-d777b141aec5",
   "metadata": {
    "tags": []
   },
   "outputs": [
    {
     "name": "stdout",
     "output_type": "stream",
     "text": [
      "name -> An\n"
     ]
    }
   ],
   "source": [
    "Annaaa = {'name' : 'An','age' :21}\n",
    "for key, value in Annaaa.items():\n",
    "    print(key, '->' , value)\n",
    "    if (key == 'name'):\n",
    "        break"
   ]
  },
  {
   "cell_type": "code",
   "execution_count": 296,
   "id": "02b3e07e-427b-4e39-9d48-1db7501cbdba",
   "metadata": {
    "tags": []
   },
   "outputs": [
    {
     "name": "stdout",
     "output_type": "stream",
     "text": [
      "n\n",
      "g\n",
      "u\n",
      "y\n",
      "e\n",
      "n\n"
     ]
    }
   ],
   "source": [
    "s = \"nguyen duy an\"\n",
    "for ch in s:\n",
    "    if ch == ' ':\n",
    "        break\n",
    "    else:\n",
    "        print(ch)"
   ]
  },
  {
   "cell_type": "code",
   "execution_count": 297,
   "id": "cdf54a85-d8a9-440b-bcc5-3152dee04f38",
   "metadata": {
    "tags": []
   },
   "outputs": [
    {
     "name": "stdout",
     "output_type": "stream",
     "text": [
      "n\n",
      "g\n",
      "u\n",
      "y\n",
      "e\n",
      "n\n",
      "d\n",
      "u\n",
      "y\n",
      "a\n",
      "n\n"
     ]
    }
   ],
   "source": [
    "s = \"nguyen duy an\"\n",
    "for ch in s:\n",
    "    if ch == ' ':\n",
    "        continue\n",
    "    else:\n",
    "        print(ch)"
   ]
  },
  {
   "cell_type": "markdown",
   "id": "41217e2b-409e-49a0-84a1-7c6b3a299eb0",
   "metadata": {},
   "source": [
    "### Else of for in python"
   ]
  },
  {
   "cell_type": "code",
   "execution_count": 298,
   "id": "941f867c-aedc-424b-be73-a1af0fba473f",
   "metadata": {
    "tags": []
   },
   "outputs": [
    {
     "name": "stdout",
     "output_type": "stream",
     "text": [
      "1\n",
      "2\n",
      "3\n",
      "Done!\n"
     ]
    }
   ],
   "source": [
    "for k in (1,2,3):\n",
    "    print(k)\n",
    "else:\n",
    "    print('Done!')"
   ]
  },
  {
   "cell_type": "code",
   "execution_count": 299,
   "id": "e255d507-2722-420b-89de-d750e081f246",
   "metadata": {
    "tags": []
   },
   "outputs": [
    {
     "name": "stdout",
     "output_type": "stream",
     "text": [
      "1\n",
      "2\n"
     ]
    }
   ],
   "source": [
    "for k in (1,2,3):\n",
    "    print(k)\n",
    "    if k % 2 == 0:\n",
    "        break\n",
    "else:\n",
    "    print('Done!')"
   ]
  },
  {
   "cell_type": "code",
   "execution_count": 300,
   "id": "fdcec2f8-99db-4e8b-adc7-e4370c2f8602",
   "metadata": {
    "tags": []
   },
   "outputs": [
    {
     "name": "stdout",
     "output_type": "stream",
     "text": [
      "1\n",
      "2\n",
      "3\n",
      "Done!\n"
     ]
    }
   ],
   "source": [
    "for k in (1,2,3):\n",
    "    print(k)\n",
    "    if k % 2 == 0:\n",
    "        continue\n",
    "else:\n",
    "    print('Done!')"
   ]
  },
  {
   "cell_type": "markdown",
   "id": "a27df73d-3980-479d-b2f6-8957e4f40150",
   "metadata": {},
   "source": [
    "### Range of For in python"
   ]
  },
  {
   "cell_type": "code",
   "execution_count": 301,
   "id": "441d807d-2df2-413f-9df0-ed89928a59a3",
   "metadata": {
    "tags": []
   },
   "outputs": [
    {
     "name": "stdout",
     "output_type": "stream",
     "text": [
      "<class 'range'>\n",
      "2\n"
     ]
    }
   ],
   "source": [
    "k = range(3)\n",
    "print(type(k))\n",
    "print(k[2])"
   ]
  },
  {
   "cell_type": "code",
   "execution_count": 302,
   "id": "b54f15c6-709f-412e-9996-df028d6ada9a",
   "metadata": {
    "tags": []
   },
   "outputs": [
    {
     "name": "stdout",
     "output_type": "stream",
     "text": [
      "[2, 3, 4]\n"
     ]
    }
   ],
   "source": [
    "print(list(range(2,5)))"
   ]
  },
  {
   "cell_type": "code",
   "execution_count": 303,
   "id": "8eda296d-07e1-43f5-942d-0ffc4385898b",
   "metadata": {
    "tags": []
   },
   "outputs": [
    {
     "name": "stdout",
     "output_type": "stream",
     "text": [
      "[0, 1, 2, 3, 4, 5, 6, 7, 8, 9, 10, 11, 12, 13, 14, 15, 16, 17, 18, 19, 20, 21, 22, 23, 24, 25, 26, 27, 28, 29, 30, 31, 32, 33, 34, 35, 36, 37, 38, 39, 40, 41, 42, 43, 44, 45, 46, 47, 48, 49, 50, 51, 52, 53, 54, 55, 56, 57, 58, 59, 60, 61, 62, 63, 64, 65, 66, 67, 68, 69, 70, 71, 72, 73, 74, 75, 76, 77, 78, 79, 80, 81, 82, 83, 84, 85, 86, 87, 88, 89, 90, 91, 92, 93, 94, 95, 96, 97, 98, 99, 100, 101, 102, 103, 104, 105, 106, 107, 108, 109, 110, 111, 112, 113, 114, 115, 116, 117, 118, 119, 120, 121, 122, 123, 124, 125, 126, 127, 128, 129, 130, 131, 132, 133, 134, 135, 136, 137, 138, 139, 140, 141, 142, 143, 144, 145, 146, 147, 148, 149, 150, 151, 152, 153, 154, 155, 156, 157, 158, 159, 160, 161, 162, 163, 164, 165, 166, 167, 168, 169, 170, 171, 172, 173, 174, 175, 176, 177, 178, 179, 180, 181, 182, 183, 184, 185, 186, 187, 188, 189, 190, 191, 192, 193, 194, 195, 196, 197, 198, 199, 200, 201, 202, 203, 204, 205, 206, 207, 208, 209, 210, 211, 212, 213, 214, 215, 216, 217, 218, 219, 220, 221, 222, 223, 224, 225, 226, 227, 228, 229, 230, 231, 232, 233, 234, 235, 236, 237, 238, 239, 240, 241, 242, 243, 244, 245, 246, 247, 248, 249, 250, 251, 252, 253, 254, 255, 256, 257, 258, 259, 260, 261, 262, 263, 264, 265, 266, 267, 268, 269, 270, 271, 272, 273, 274, 275, 276, 277, 278, 279, 280, 281, 282, 283, 284, 285, 286, 287, 288, 289, 290, 291, 292, 293, 294, 295, 296, 297, 298, 299, 300, 301, 302, 303, 304, 305, 306, 307, 308, 309, 310, 311, 312, 313, 314, 315, 316, 317, 318, 319, 320, 321, 322, 323, 324, 325, 326, 327, 328, 329, 330, 331, 332, 333, 334, 335, 336, 337, 338, 339, 340, 341, 342, 343, 344, 345, 346, 347, 348, 349, 350, 351, 352, 353, 354, 355, 356, 357, 358, 359, 360, 361, 362, 363, 364, 365, 366, 367, 368, 369, 370, 371, 372, 373, 374, 375, 376, 377, 378, 379, 380, 381, 382, 383, 384, 385, 386, 387, 388, 389, 390, 391, 392, 393, 394, 395, 396, 397, 398, 399, 400, 401, 402, 403, 404, 405, 406, 407, 408, 409, 410, 411, 412, 413, 414, 415, 416, 417, 418, 419, 420, 421, 422, 423, 424, 425, 426, 427, 428, 429, 430, 431, 432, 433, 434, 435, 436, 437, 438, 439, 440, 441, 442, 443, 444, 445, 446, 447, 448, 449, 450, 451, 452, 453, 454, 455, 456, 457, 458, 459, 460, 461, 462, 463, 464, 465, 466, 467, 468, 469, 470, 471, 472, 473, 474, 475, 476, 477, 478, 479, 480, 481, 482, 483, 484, 485, 486, 487, 488, 489, 490, 491, 492, 493, 494, 495, 496, 497, 498, 499, 500, 501, 502, 503, 504, 505, 506, 507, 508, 509, 510, 511, 512, 513, 514, 515, 516, 517, 518, 519, 520, 521, 522, 523, 524, 525, 526, 527, 528, 529, 530, 531, 532, 533, 534, 535, 536, 537, 538, 539, 540, 541, 542, 543, 544, 545, 546, 547, 548, 549, 550, 551, 552, 553, 554, 555, 556, 557, 558, 559, 560, 561, 562, 563, 564, 565, 566, 567, 568, 569, 570, 571, 572, 573, 574, 575, 576, 577, 578, 579, 580, 581, 582, 583, 584, 585, 586, 587, 588, 589, 590, 591, 592, 593, 594, 595, 596, 597, 598, 599, 600, 601, 602, 603, 604, 605, 606, 607, 608, 609, 610, 611, 612, 613, 614, 615, 616, 617, 618, 619, 620, 621, 622, 623, 624, 625, 626, 627, 628, 629, 630, 631, 632, 633, 634, 635, 636, 637, 638, 639, 640, 641, 642, 643, 644, 645, 646, 647, 648, 649, 650, 651, 652, 653, 654, 655, 656, 657, 658, 659, 660, 661, 662, 663, 664, 665, 666, 667, 668, 669, 670, 671, 672, 673, 674, 675, 676, 677, 678, 679, 680, 681, 682, 683, 684, 685, 686, 687, 688, 689, 690, 691, 692, 693, 694, 695, 696, 697, 698, 699, 700, 701, 702, 703, 704, 705, 706, 707, 708, 709, 710, 711, 712, 713, 714, 715, 716, 717, 718, 719, 720, 721, 722, 723, 724, 725, 726, 727, 728, 729, 730, 731, 732, 733, 734, 735, 736, 737, 738, 739, 740, 741, 742, 743, 744, 745, 746, 747, 748, 749, 750, 751, 752, 753, 754, 755, 756, 757, 758, 759, 760, 761, 762, 763, 764, 765, 766, 767, 768, 769, 770, 771, 772, 773, 774, 775, 776, 777, 778, 779, 780, 781, 782, 783, 784, 785, 786, 787, 788, 789, 790, 791, 792, 793, 794, 795, 796, 797, 798, 799, 800, 801, 802, 803, 804, 805, 806, 807, 808, 809, 810, 811, 812, 813, 814, 815, 816, 817, 818, 819, 820, 821, 822, 823, 824, 825, 826, 827, 828, 829, 830, 831, 832, 833, 834, 835, 836, 837, 838, 839, 840, 841, 842, 843, 844, 845, 846, 847, 848, 849, 850, 851, 852, 853, 854, 855, 856, 857, 858, 859, 860, 861, 862, 863, 864, 865, 866, 867, 868, 869, 870, 871, 872, 873, 874, 875, 876, 877, 878, 879, 880, 881, 882, 883, 884, 885, 886, 887, 888, 889, 890, 891, 892, 893, 894, 895, 896, 897, 898, 899, 900, 901, 902, 903, 904, 905, 906, 907, 908, 909, 910, 911, 912, 913, 914, 915, 916, 917, 918, 919, 920, 921, 922, 923, 924, 925, 926, 927, 928, 929, 930, 931, 932, 933, 934, 935, 936, 937, 938, 939, 940, 941, 942, 943, 944, 945, 946, 947, 948, 949, 950, 951, 952, 953, 954, 955, 956, 957, 958, 959, 960, 961, 962, 963, 964, 965, 966, 967, 968, 969, 970, 971, 972, 973, 974, 975, 976, 977, 978, 979, 980, 981, 982, 983, 984, 985, 986, 987, 988, 989, 990, 991, 992, 993, 994, 995, 996, 997, 998]\n"
     ]
    }
   ],
   "source": [
    "print(list(range(999)))"
   ]
  },
  {
   "cell_type": "code",
   "execution_count": 304,
   "id": "51d10ed7-a11d-4d1c-9ab3-ce6e54c39c58",
   "metadata": {
    "tags": []
   },
   "outputs": [
    {
     "name": "stdout",
     "output_type": "stream",
     "text": [
      "True\n",
      "False\n"
     ]
    }
   ],
   "source": [
    "k = range(99)\n",
    "print(88 in k)\n",
    "print(100 in k)"
   ]
  },
  {
   "cell_type": "code",
   "execution_count": 305,
   "id": "08418056-5538-483a-abf0-fdd865eb449a",
   "metadata": {
    "tags": []
   },
   "outputs": [
    {
     "name": "stdout",
     "output_type": "stream",
     "text": [
      "5\n",
      "(1, 2, 3)\n",
      "{'avd': 'aaa'}\n"
     ]
    }
   ],
   "source": [
    "lst = [5, (1,2,3), {'avd' :'aaa'}]\n",
    "for i in range(len(lst)):\n",
    "    print(lst[i])"
   ]
  },
  {
   "cell_type": "code",
   "execution_count": 306,
   "id": "9ca97d1b-ba74-41c7-b68d-58f960cdde57",
   "metadata": {
    "tags": []
   },
   "outputs": [
    {
     "name": "stdout",
     "output_type": "stream",
     "text": [
      "[2, 3, 4]\n"
     ]
    }
   ],
   "source": [
    "lst = [1, 2, 3]\n",
    "for value in range(len(lst)):\n",
    "    lst[value] += 1\n",
    "print(lst)"
   ]
  },
  {
   "cell_type": "code",
   "execution_count": 307,
   "id": "03fce60f-649c-493e-a562-75c58dfed56e",
   "metadata": {
    "tags": []
   },
   "outputs": [
    {
     "name": "stdout",
     "output_type": "stream",
     "text": [
      "9 => Long\n",
      "10 => Giàu\n",
      "11 => Trung\n",
      "12 => Thanh\n"
     ]
    }
   ],
   "source": [
    "student_list = ['Long', 'Giàu', 'Trung', 'Thanh']\n",
    "for idx , student in enumerate(student_list, 9):\n",
    "    print(idx, '=>' , student)\n",
    "# enumerate là cho biến mà mình muốn dùng và dấu phẩy ở sau là bắt đầu bằng số nào"
   ]
  },
  {
   "cell_type": "markdown",
   "id": "9a90aa06-7e0f-4ae7-a035-858f6f034295",
   "metadata": {},
   "source": [
    "## Functions def in Python"
   ]
  },
  {
   "cell_type": "raw",
   "id": "e8853e95-21a6-4514-9dd3-a2188ed40ffc",
   "metadata": {},
   "source": [
    "các hàm trong python"
   ]
  },
  {
   "cell_type": "raw",
   "id": "36ac5ad7-49c8-47ff-a202-dfb8cede9fee",
   "metadata": {},
   "source": [
    "hàm:  def <function_name> (parameter_1, parameter_2,....., parameter_n):\n",
    "            function-block"
   ]
  },
  {
   "cell_type": "code",
   "execution_count": 308,
   "id": "a619462d-c400-40d2-9f5d-768144b7741c",
   "metadata": {
    "tags": []
   },
   "outputs": [
    {
     "name": "stdout",
     "output_type": "stream",
     "text": [
      "None\n"
     ]
    }
   ],
   "source": [
    "#VD:\n",
    "def kteam():\n",
    "    pass\n",
    "print(kteam())"
   ]
  },
  {
   "cell_type": "code",
   "execution_count": 309,
   "id": "19589f55-0f89-4be6-ab00-204abcfe9a43",
   "metadata": {
    "tags": []
   },
   "outputs": [
    {
     "name": "stdout",
     "output_type": "stream",
     "text": [
      "Hello An\n",
      "Hello An\n"
     ]
    }
   ],
   "source": [
    "#VD:\n",
    "def kteam():\n",
    "    print('Hello An')\n",
    "kteam()\n",
    "kteam()"
   ]
  },
  {
   "cell_type": "code",
   "execution_count": 310,
   "id": "06a51afa-4663-4d56-a9b9-383a9abc9e66",
   "metadata": {
    "tags": []
   },
   "outputs": [
    {
     "name": "stdout",
     "output_type": "stream",
     "text": [
      "Nguyen Duy\n",
      "An\n",
      "Nguyen Duy\n",
      "An\n",
      "Nguyen Duy\n",
      "An\n"
     ]
    }
   ],
   "source": [
    "#VD:\n",
    "def Ann():\n",
    "    print('Nguyen Duy')\n",
    "    print('An')\n",
    "Ann()\n",
    "Ann()\n",
    "Ann()"
   ]
  },
  {
   "cell_type": "code",
   "execution_count": 311,
   "id": "463d244d-0056-4b78-b954-0c23b42c90eb",
   "metadata": {
    "tags": []
   },
   "outputs": [
    {
     "name": "stdout",
     "output_type": "stream",
     "text": [
      "NguyenDuyAn\n"
     ]
    }
   ],
   "source": [
    "def An(text):\n",
    "    print(text)\n",
    "An('NguyenDuyAn')\n",
    "## parameter là cái text đó nha"
   ]
  },
  {
   "cell_type": "code",
   "execution_count": 312,
   "id": "ceebabed-7be5-4ee1-ac91-d1b33902695b",
   "metadata": {
    "tags": []
   },
   "outputs": [
    {
     "name": "stdout",
     "output_type": "stream",
     "text": [
      "NguyenDuyAn\n",
      "27\n"
     ]
    }
   ],
   "source": [
    "def An(text, age):\n",
    "    print(text)\n",
    "    print(age)\n",
    "An('NguyenDuyAn', 27)"
   ]
  },
  {
   "cell_type": "code",
   "execution_count": 313,
   "id": "f92bfc1b-8822-47ef-8633-fec74bf0a295",
   "metadata": {
    "tags": []
   },
   "outputs": [
    {
     "ename": "TypeError",
     "evalue": "An() missing 1 required positional argument: 'age'",
     "output_type": "error",
     "traceback": [
      "\u001b[1;31m---------------------------------------------------------------------------\u001b[0m",
      "\u001b[1;31mTypeError\u001b[0m                                 Traceback (most recent call last)",
      "Cell \u001b[1;32mIn[313], line 4\u001b[0m\n\u001b[0;32m      2\u001b[0m     \u001b[38;5;28mprint\u001b[39m(text)\n\u001b[0;32m      3\u001b[0m     \u001b[38;5;28mprint\u001b[39m(age)\n\u001b[1;32m----> 4\u001b[0m An(\u001b[38;5;124m'\u001b[39m\u001b[38;5;124mNguyenDuyAn\u001b[39m\u001b[38;5;124m'\u001b[39m)\n",
      "\u001b[1;31mTypeError\u001b[0m: An() missing 1 required positional argument: 'age'"
     ]
    }
   ],
   "source": [
    "def An(text, age):\n",
    "    print(text)\n",
    "    print(age)\n",
    "An('NguyenDuyAn')"
   ]
  },
  {
   "cell_type": "code",
   "execution_count": 314,
   "id": "f9755954-0536-4f84-8f7e-a0fffdb3f4b7",
   "metadata": {
    "tags": []
   },
   "outputs": [
    {
     "name": "stdout",
     "output_type": "stream",
     "text": [
      "Kter\n",
      "27\n",
      "k9\n",
      "10\n"
     ]
    }
   ],
   "source": [
    "def An(age, text = 'Kter'):\n",
    "    print(text)\n",
    "    print(age)\n",
    "An(27)\n",
    "An(10,'k9')\n",
    "# có thể làm như trên"
   ]
  },
  {
   "cell_type": "code",
   "execution_count": 315,
   "id": "7e261812-5ac1-4d6f-aeb8-c31aee1a91c4",
   "metadata": {
    "tags": []
   },
   "outputs": [
    {
     "ename": "SyntaxError",
     "evalue": "parameter without a default follows parameter with a default (1257353464.py, line 1)",
     "output_type": "error",
     "traceback": [
      "\u001b[1;36m  Cell \u001b[1;32mIn[315], line 1\u001b[1;36m\u001b[0m\n\u001b[1;33m    def An(text = 'Kter', age):\u001b[0m\n\u001b[1;37m                          ^\u001b[0m\n\u001b[1;31mSyntaxError\u001b[0m\u001b[1;31m:\u001b[0m parameter without a default follows parameter with a default\n"
     ]
    }
   ],
   "source": [
    "def An(text = 'Kter', age):\n",
    "    print(text)\n",
    "    print(age)\n",
    "An(27)\n",
    "# k đc truyền vào đằng trc của biến An"
   ]
  },
  {
   "cell_type": "code",
   "execution_count": 316,
   "id": "a9448040-e063-4da8-a4aa-601c60ac88a5",
   "metadata": {
    "tags": []
   },
   "outputs": [
    {
     "name": "stdout",
     "output_type": "stream",
     "text": [
      "['F']\n",
      "['F', 'F']\n",
      "['F', 'F', 'F']\n",
      "['F', 'F', 'F', 'F']\n",
      "['F', 'F', 'F', 'F', 'F']\n"
     ]
    }
   ],
   "source": [
    "def f(kteam = []):\n",
    "    kteam.append('F')\n",
    "    print(kteam)\n",
    "f()\n",
    "f()\n",
    "f()\n",
    "f()\n",
    "f()"
   ]
  },
  {
   "cell_type": "code",
   "execution_count": 317,
   "id": "e402f309-fd22-4f44-9e14-5df83286ae7e",
   "metadata": {},
   "outputs": [],
   "source": [
    "def An(a, b, c, d):\n",
    "    pass # lệnh giữu chỗ\n",
    "An(3, 'Free', d = 1, c = 5)\n",
    "\n",
    "\n"
   ]
  },
  {
   "cell_type": "code",
   "execution_count": 318,
   "id": "d1c45280-031e-46bd-a714-8f697e71b449",
   "metadata": {
    "tags": []
   },
   "outputs": [
    {
     "name": "stdout",
     "output_type": "stream",
     "text": [
      "[4, 3, 1]\n"
     ]
    }
   ],
   "source": [
    "print(sorted([3, 4, 1], reverse = True))"
   ]
  },
  {
   "cell_type": "code",
   "execution_count": 319,
   "id": "26d20882-69f7-4e2d-a356-ee8ad1e8b7c3",
   "metadata": {
    "tags": []
   },
   "outputs": [
    {
     "name": "stdout",
     "output_type": "stream",
     "text": [
      "30\n"
     ]
    }
   ],
   "source": [
    "def Teo(a, b=2, c=3, d=4):\n",
    "    f = (a + d) * (b + c)\n",
    "    print(f)\n",
    "Teo(1, d = 5)"
   ]
  },
  {
   "cell_type": "code",
   "execution_count": 320,
   "id": "00ff88ad-25aa-421e-84a9-556a644b74c2",
   "metadata": {
    "tags": []
   },
   "outputs": [
    {
     "name": "stdout",
     "output_type": "stream",
     "text": [
      "1\n",
      "2\n",
      "Vip\n"
     ]
    }
   ],
   "source": [
    "def An(pos_or_key_arg, *,key_arg1 = 1, key_arg2 = 2):\n",
    "    print(pos_or_key_arg)\n",
    "    print(key_arg1)\n",
    "    print(key_arg2)\n",
    "An(1,key_arg1 = 2, key_arg2 = 'Vip')"
   ]
  },
  {
   "cell_type": "code",
   "execution_count": 321,
   "id": "c7945bda-9536-4c84-937a-50f36a50710f",
   "metadata": {},
   "outputs": [
    {
     "name": "stdout",
     "output_type": "stream",
     "text": [
      "123\n",
      "Kteam 69.69\n",
      "end Henry\n"
     ]
    }
   ],
   "source": [
    "def kteam(k, t, e, r):\n",
    "    print(k)\n",
    "    print(t, e)\n",
    "    print('end', r)\n",
    "lst = ['123', 'Kteam', 69.69, 'Henry']\n",
    "kteam(lst[0], lst[1], lst[2], lst[3])"
   ]
  },
  {
   "cell_type": "code",
   "execution_count": 322,
   "id": "b58c7fa6-298e-4018-b1ed-834c79a32c6f",
   "metadata": {
    "tags": []
   },
   "outputs": [
    {
     "name": "stdout",
     "output_type": "stream",
     "text": [
      "123\n",
      "Kteam 69.69\n",
      "end Henry\n"
     ]
    }
   ],
   "source": [
    "def kteam(k, t, e, r):\n",
    "    print(k)\n",
    "    print(t, e)\n",
    "    print('end', r)\n",
    "lst = ['123', 'Kteam', 69.69, 'Henry']\n",
    "kteam(*lst)\n",
    "# dùng cách truyền bằng * như kia làm nó hiểu là truyền tuần tự và truyền như kia nhanh hơn"
   ]
  },
  {
   "cell_type": "code",
   "execution_count": 323,
   "id": "c4b8f2b3-3605-4165-8689-3d18a4fbe1cc",
   "metadata": {
    "tags": []
   },
   "outputs": [
    {
     "name": "stdout",
     "output_type": "stream",
     "text": [
      "123\n",
      "Kteam 69.69\n",
      "end henry\n"
     ]
    }
   ],
   "source": [
    "def kteam(k, t, e, r):\n",
    "    print(k)\n",
    "    print(t, e)\n",
    "    print('end', r)\n",
    "lst = ['123', 'Kteam', 69.69]\n",
    "kteam(*lst, 'henry')"
   ]
  },
  {
   "cell_type": "code",
   "execution_count": 324,
   "id": "7f44c36d-45d3-4a62-bbbb-dd32c648aa4a",
   "metadata": {
    "tags": []
   },
   "outputs": [
    {
     "name": "stdout",
     "output_type": "stream",
     "text": [
      "123\n",
      "Kteam 69.69\n",
      "end henry\n"
     ]
    }
   ],
   "source": [
    "def kteam(k, t, e, *, r = 'kter'):\n",
    "    print(k)\n",
    "    print(t, e)\n",
    "    print('end', r)\n",
    "lst = ['123', 'Kteam', 69.69]\n",
    "kteam(*lst, r = 'henry')"
   ]
  },
  {
   "cell_type": "code",
   "execution_count": 325,
   "id": "966d3021-704b-4810-9bea-7ea5f59ddd4a",
   "metadata": {
    "tags": []
   },
   "outputs": [
    {
     "name": "stdout",
     "output_type": "stream",
     "text": [
      "('Kteam', 69.96, 'Hennry')\n",
      "<class 'tuple'>\n"
     ]
    }
   ],
   "source": [
    "def kteam(*args):\n",
    "    print(args)\n",
    "    print(type(args))\n",
    "kteam('Kteam', 69.96, 'Hennry')"
   ]
  },
  {
   "cell_type": "code",
   "execution_count": 326,
   "id": "da2d2519-5bea-4657-973c-3f5bb46f0514",
   "metadata": {
    "tags": []
   },
   "outputs": [
    {
     "name": "stdout",
     "output_type": "stream",
     "text": [
      "(0, 1, 2, 3, 4, 5, 6, 7, 8, 9, 10, 11, 12, 13, 14, 15, 16, 17, 18, 19, 20, 21, 22, 23, 24, 25, 26, 27, 28, 29, 30, 31, 32, 33, 34, 35, 36, 37, 38, 39, 40, 41, 42, 43, 44, 45, 46, 47, 48, 49, 50, 51, 52, 53, 54, 55, 56, 57, 58, 59, 60, 61, 62, 63, 64, 65, 66, 67, 68, 69)\n",
      "<class 'tuple'>\n"
     ]
    }
   ],
   "source": [
    "def kteam(*args):\n",
    "    print(args)\n",
    "    print(type(args))\n",
    "kteam(*(x for x in range(70)))"
   ]
  },
  {
   "cell_type": "code",
   "execution_count": 327,
   "id": "d14fb737-f85d-4407-a840-1b90a2cb398c",
   "metadata": {
    "tags": []
   },
   "outputs": [
    {
     "name": "stdout",
     "output_type": "stream",
     "text": [
      "(0, 1, 2, 3, 4, 5, 6, 7, 8, 9, 10, 11, 12, 13, 14, 15, 16, 17, 18, 19, 20, 21, 22, 23, 24, 25, 26, 27, 28, 29, 30, 31, 32, 33, 34, 35, 36, 37, 38, 39, 40, 41, 42, 43, 44, 45, 46, 47, 48, 49, 50, 51, 52, 53, 54, 55, 56, 57, 58, 59, 60, 61, 62, 63, 64, 65, 66, 67, 68, 69)\n",
      "Anna\n"
     ]
    }
   ],
   "source": [
    "def kteam(*args, kter):\n",
    "    print(args)\n",
    "    print(kter)\n",
    "kteam(*(x for x in range(70)), kter = 'Anna')"
   ]
  },
  {
   "cell_type": "code",
   "execution_count": 328,
   "id": "a92e8769-3239-42e4-9089-821f549bf0de",
   "metadata": {
    "tags": []
   },
   "outputs": [
    {
     "name": "stdout",
     "output_type": "stream",
     "text": [
      "name\n",
      "Memmber\n"
     ]
    }
   ],
   "source": [
    "def kteam(a,b):\n",
    "    print(a)\n",
    "    print(b)\n",
    "dic = {'name':'An', 'Memmber':69}\n",
    "kteam(*dic)"
   ]
  },
  {
   "cell_type": "code",
   "execution_count": 329,
   "id": "fb72e996-2d53-4bad-b804-8eb806dee28d",
   "metadata": {
    "tags": []
   },
   "outputs": [
    {
     "name": "stdout",
     "output_type": "stream",
     "text": [
      "name\n",
      "Memmber\n"
     ]
    }
   ],
   "source": [
    "def kteam(a,b):\n",
    "    print(a)\n",
    "    print(b)\n",
    "dic = {'name':'An', 'Memmber':69}\n",
    "kteam(*dic)\n",
    "# làm như này k đc ta phải tên biến là tên key của nó xem ở dưới"
   ]
  },
  {
   "cell_type": "code",
   "execution_count": 330,
   "id": "179d14ad-c56f-41ef-9fad-e434c754c9a9",
   "metadata": {
    "tags": []
   },
   "outputs": [
    {
     "name": "stdout",
     "output_type": "stream",
     "text": [
      "name = > An\n",
      "Memmber = > 69\n"
     ]
    }
   ],
   "source": [
    "def kteam(name, Memmber):\n",
    "    print('name = >', name)\n",
    "    print('Memmber = >', Memmber)\n",
    "dic = {'name':'An', 'Memmber':69}\n",
    "kteam(**dic)"
   ]
  },
  {
   "cell_type": "code",
   "execution_count": 331,
   "id": "83c4041c-fa36-4864-a6e0-0de62ea1b367",
   "metadata": {
    "tags": []
   },
   "outputs": [
    {
     "name": "stdout",
     "output_type": "stream",
     "text": [
      "{'name': 'Kteam', 'member': 69}\n",
      "<class 'dict'>\n"
     ]
    }
   ],
   "source": [
    "def kteam(**kwargs):\n",
    "    print(kwargs)\n",
    "    print(type(kwargs))\n",
    "kteam(name = 'Kteam', member = 69)"
   ]
  },
  {
   "cell_type": "code",
   "execution_count": 332,
   "id": "e8106f77-fa76-4371-bd6b-3712ee6540bc",
   "metadata": {
    "tags": []
   },
   "outputs": [
    {
     "name": "stdout",
     "output_type": "stream",
     "text": [
      "name => Kteam\n",
      "member => 69\n"
     ]
    }
   ],
   "source": [
    "def kteam(**kwargs):\n",
    "    for key, value in kwargs.items():\n",
    "        print(key, '=>', value)\n",
    "kteam(name = 'Kteam', member = 69)"
   ]
  },
  {
   "cell_type": "code",
   "execution_count": 333,
   "id": "0253f6dc-6a99-4ef7-8e63-2ad823370f12",
   "metadata": {},
   "outputs": [
    {
     "name": "stdout",
     "output_type": "stream",
     "text": [
      "Nguyen Duy Anne\n"
     ]
    }
   ],
   "source": [
    "Kteam = 'Anne'\n",
    "def say_slogan():\n",
    "    print('Nguyen Duy', Kteam)\n",
    "say_slogan()"
   ]
  },
  {
   "cell_type": "code",
   "execution_count": 334,
   "id": "eda7ada3-1a3d-49e6-bea9-ac6089d8e4d1",
   "metadata": {
    "tags": []
   },
   "outputs": [
    {
     "name": "stdout",
     "output_type": "stream",
     "text": [
      "Nguyen Duy Anne\n"
     ]
    }
   ],
   "source": [
    "def say_slogan():\n",
    "    Kteam = 'Anne'\n",
    "    print('Nguyen Duy', Kteam)\n",
    "say_slogan()"
   ]
  },
  {
   "cell_type": "code",
   "execution_count": 335,
   "id": "3906b3d9-a664-4af8-8733-cf4e9883149d",
   "metadata": {
    "tags": []
   },
   "outputs": [
    {
     "name": "stdout",
     "output_type": "stream",
     "text": [
      "changed successfully!\n",
      "changed successfully!\n",
      "changed successfully!\n",
      "changed successfully!\n",
      "**********\n",
      "69\n",
      "How Kteam\n",
      "[1, 2, 3]\n",
      "('e', 'd', 'u', 'c', 'a', 't', 'i', 'o', 'n')\n",
      "\n"
     ]
    }
   ],
   "source": [
    "num = 69\n",
    "st = 'How Kteam'\n",
    "lst = [1, 2, 3]\n",
    "tup = tuple('education')\n",
    "def change(parameter):\n",
    "    parameter = 'New value'\n",
    "    print('changed successfully!')\n",
    "change(num)\n",
    "change(st)\n",
    "change(lst)\n",
    "change(tup)\n",
    "print('*' *10)\n",
    "print('{}\\n{}\\n{}\\n{}\\n'.format(num, st, lst,tup))\n"
   ]
  },
  {
   "cell_type": "code",
   "execution_count": 336,
   "id": "f5bb4add-e292-4c9a-9d92-23e39f1823c4",
   "metadata": {
    "tags": []
   },
   "outputs": [
    {
     "name": "stdout",
     "output_type": "stream",
     "text": [
      "['How Kteam', 1, 2]\n",
      "changed successfully!\n",
      "['How Kteam', 'New value', 2]\n"
     ]
    }
   ],
   "source": [
    "lst = ['How Kteam', 1, 2]\n",
    "def change(parameter):\n",
    "    parameter[1] = 'New value'\n",
    "    print('changed successfully!')\n",
    "print(lst)\n",
    "change(lst)\n",
    "print(lst)"
   ]
  },
  {
   "cell_type": "markdown",
   "id": "b303fbac-a7a7-4b00-abde-01db84613d8e",
   "metadata": {},
   "source": [
    "### Global in def"
   ]
  },
  {
   "cell_type": "code",
   "execution_count": 337,
   "id": "fb96fded-fa86-4906-8d8c-3999ab489a75",
   "metadata": {
    "tags": []
   },
   "outputs": [
    {
     "name": "stdout",
     "output_type": "stream",
     "text": [
      "How kteam\n"
     ]
    }
   ],
   "source": [
    "def make_slogan():\n",
    "    global kteam\n",
    "    kteam = 'How kteam'\n",
    "make_slogan()\n",
    "print(kteam)\n",
    "# global có tác dụng tạo ra các biến toàn cục để tái sử dụng lại hoặc khởi tạo chương trình"
   ]
  },
  {
   "cell_type": "code",
   "execution_count": 338,
   "id": "bc149c0c-0f02-4a93-81f4-1f37bb12708b",
   "metadata": {
    "tags": []
   },
   "outputs": [
    {
     "name": "stdout",
     "output_type": "stream",
     "text": [
      "1\n",
      "x in local 5\n",
      "1\n"
     ]
    }
   ],
   "source": [
    "def  make_global():\n",
    "    global x\n",
    "    x = 1\n",
    "def local():\n",
    "    x = 5\n",
    "    print('x in local', x)\n",
    "make_global()\n",
    "print(x)\n",
    "local()\n",
    "print(x)"
   ]
  },
  {
   "cell_type": "markdown",
   "id": "fd620666-14ca-4ff8-aee4-9b12d97e9981",
   "metadata": {},
   "source": [
    "### Return in def"
   ]
  },
  {
   "cell_type": "raw",
   "id": "e178ec87-6fc0-44bc-98d4-259a2cc4d1ba",
   "metadata": {},
   "source": [
    "return chỉ sử dụng trong hàm k đc sử dụng ngoài hàm\n",
    "nó còn đc sử dụng để ngắt hàm "
   ]
  },
  {
   "cell_type": "code",
   "execution_count": 339,
   "id": "bd4ec6a9-81cf-463a-acb8-04433219dd02",
   "metadata": {
    "tags": []
   },
   "outputs": [
    {
     "name": "stdout",
     "output_type": "stream",
     "text": [
      "16\n",
      "22\n"
     ]
    }
   ],
   "source": [
    "def cal_rec_per(width, height):\n",
    "    per = (width + height)*2\n",
    "    return per\n",
    "rec_1_width = 5\n",
    "rec_1_height = 3\n",
    "rec_1_per = cal_rec_per(rec_1_width, rec_1_height)\n",
    "print(rec_1_per)\n",
    "print(cal_rec_per(7,4))\n",
    "# như VD t có thể thấy returrn per , per đã đc dùng lại để tính cal_rec_per(7,4)"
   ]
  },
  {
   "cell_type": "code",
   "execution_count": 340,
   "id": "dab23d98-1537-446e-8bfc-e16b3153aecb",
   "metadata": {
    "tags": []
   },
   "outputs": [
    {
     "name": "stdout",
     "output_type": "stream",
     "text": [
      "chúng ta sử dụng return để ngắt hàm\n",
      "<class 'NoneType'>\n"
     ]
    }
   ],
   "source": [
    "def _return_ter_func():\n",
    "    print('chúng ta sử dụng return để ngắt hàm')\n",
    "    return\n",
    "    print('Hàm print này dĩ nhiên k đc gọi')\n",
    "none = _return_ter_func()\n",
    "print(type(none))"
   ]
  },
  {
   "cell_type": "code",
   "execution_count": 341,
   "id": "0de57d18-87b0-403c-8420-99b33e8a191f",
   "metadata": {
    "tags": []
   },
   "outputs": [
    {
     "name": "stdout",
     "output_type": "stream",
     "text": [
      "24 27\n"
     ]
    }
   ],
   "source": [
    "def cal_rec_area_per(width, height):\n",
    "    perimeter = (width + height)*2\n",
    "    area = width * height\n",
    "    return perimeter, area\n",
    "rec_width = 3\n",
    "rec_height = 9\n",
    "rec_per, rec_area = cal_rec_area_per(rec_width, rec_height)\n",
    "print(rec_per, rec_area)"
   ]
  },
  {
   "cell_type": "markdown",
   "id": "8688241a-dc46-4bbc-baf4-cc0426b313ed",
   "metadata": {},
   "source": [
    "### Yield in def"
   ]
  },
  {
   "cell_type": "raw",
   "id": "d0a312f0-5a1f-4f74-95e2-fee9ef17fc47",
   "metadata": {},
   "source": [
    "yield trong Python được sử dụng để trả về giá trị của hàm mà không hủy đi trạng thái của các biến trong hàm\n",
    "Yield giúp trả về giá trị từ hàm mà không làm mất giá trị của các biến trong hàm đó.\n",
    "kiểu yield lần đầu thì xong rồi trả giá trị rồi lần tiếp theo cũng trả ra giá trị của lần 2 rồi ...."
   ]
  },
  {
   "cell_type": "code",
   "execution_count": 342,
   "id": "7cac1817-c79e-4c44-8ca2-76f2ee471528",
   "metadata": {
    "tags": []
   },
   "outputs": [
    {
     "name": "stdout",
     "output_type": "stream",
     "text": [
      "1\n",
      "4\n",
      "9\n"
     ]
    }
   ],
   "source": [
    "def square(lst):\n",
    "    sq_lst = []\n",
    "    for num in lst:\n",
    "        sq_lst.append(num**2)\n",
    "    return sq_lst\n",
    "kteam_ret = square([1, 2, 3])\n",
    "for value in kteam_ret:\n",
    "    print(value)"
   ]
  },
  {
   "cell_type": "code",
   "execution_count": 343,
   "id": "1ac822b9-2c81-42ba-87cc-ad91e550f4c7",
   "metadata": {
    "tags": []
   },
   "outputs": [
    {
     "name": "stdout",
     "output_type": "stream",
     "text": [
      "1\n",
      "4\n",
      "9\n"
     ]
    }
   ],
   "source": [
    "def square(lst):\n",
    "    sq_lst = []\n",
    "    for num in lst:\n",
    "        yield num**2\n",
    "kteam_ret = square([1, 2, 3])\n",
    "for value in kteam_ret:\n",
    "    print(value)"
   ]
  },
  {
   "cell_type": "code",
   "execution_count": 344,
   "id": "594ae394-a267-4b3b-b0f1-e1fa2ae6ad6a",
   "metadata": {
    "tags": []
   },
   "outputs": [
    {
     "name": "stdout",
     "output_type": "stream",
     "text": [
      "yield 1 time\n",
      "0\n",
      "yield 2 time\n",
      "1\n",
      "yield 3 time\n",
      "2\n"
     ]
    }
   ],
   "source": [
    "def gen():\n",
    "    for value in range(3):\n",
    "        print('yield', value + 1, 'time')\n",
    "        yield value\n",
    "for value in gen():\n",
    "    print(value)"
   ]
  },
  {
   "cell_type": "code",
   "execution_count": 345,
   "id": "d31ae631-8742-4030-a30c-8f34236faffb",
   "metadata": {
    "tags": []
   },
   "outputs": [
    {
     "name": "stdout",
     "output_type": "stream",
     "text": [
      "kteam\n",
      "this is the second yield\n",
      "Free education\n",
      "this is the last yield\n",
      "Long đẹp trai\n",
      "will not return anything\n"
     ]
    }
   ],
   "source": [
    "def gen():\n",
    "    yield 'kteam'\n",
    "    print('this is the second yield')\n",
    "    yield 'Free education'\n",
    "    print('this is the last yield')\n",
    "    yield 'Long đẹp trai'\n",
    "    print('will not return anything')\n",
    "for value in gen():\n",
    "    print(value)"
   ]
  },
  {
   "cell_type": "code",
   "execution_count": 346,
   "id": "ed649da8-e351-408f-93a8-46c06b40b50c",
   "metadata": {
    "tags": []
   },
   "outputs": [
    {
     "name": "stdout",
     "output_type": "stream",
     "text": [
      "4\n",
      "100\n"
     ]
    }
   ],
   "source": [
    "def gen():\n",
    "    while True:\n",
    "        x =yield\n",
    "        yield x ** 2\n",
    "g = gen()\n",
    "next(g)\n",
    "print(g.send(2))\n",
    "next(g)\n",
    "print(g.send(10))\n",
    "# send kiểu thay x = giá trị trong send rồi chạy "
   ]
  },
  {
   "cell_type": "markdown",
   "id": "6cdec4d4-f28f-4f1c-b4ff-c77fe3865a38",
   "metadata": {},
   "source": [
    "### Lambda in def"
   ]
  },
  {
   "cell_type": "raw",
   "id": "900bf0c3-bdbb-4c5b-9437-a641fe8d9b35",
   "metadata": {},
   "source": [
    "lambda có trong def hoặc k có đều được"
   ]
  },
  {
   "cell_type": "code",
   "execution_count": 347,
   "id": "316d719f-4629-4769-94c0-c784c177f60b",
   "metadata": {
    "tags": []
   },
   "outputs": [
    {
     "name": "stdout",
     "output_type": "stream",
     "text": [
      "2.0\n"
     ]
    }
   ],
   "source": [
    " def ave(a, b, c):\n",
    "    return (a+b+c)/3\n",
    "print(ave(1,3,2))"
   ]
  },
  {
   "cell_type": "code",
   "execution_count": 348,
   "id": "6b15a82c-3748-40d5-b285-756fb10dd4ac",
   "metadata": {
    "tags": []
   },
   "outputs": [
    {
     "name": "stdout",
     "output_type": "stream",
     "text": [
      "2.0\n"
     ]
    }
   ],
   "source": [
    "ave = lambda a, b, c: (a+b+c)/3\n",
    "print(ave(1, 3, 2))"
   ]
  },
  {
   "cell_type": "code",
   "execution_count": 349,
   "id": "20708eaa-9edb-4370-bbc5-f322bcd6ebf5",
   "metadata": {
    "tags": []
   },
   "outputs": [
    {
     "name": "stdout",
     "output_type": "stream",
     "text": [
      "32\n"
     ]
    }
   ],
   "source": [
    "x_power_a = lambda x, a=2: x ** a\n",
    "print(x_power_a(2,5))"
   ]
  },
  {
   "cell_type": "code",
   "execution_count": 350,
   "id": "7d2ac4b7-25cd-4b2d-a570-e1af786bb1a5",
   "metadata": {
    "tags": []
   },
   "outputs": [
    {
     "name": "stdout",
     "output_type": "stream",
     "text": [
      "Long is a member of kteam\n"
     ]
    }
   ],
   "source": [
    "def kteam():\n",
    "    men = lambda x: x + 'is a member of kteam'\n",
    "    return men\n",
    "call_men = kteam()\n",
    "print(call_men('Long '))"
   ]
  },
  {
   "cell_type": "code",
   "execution_count": 351,
   "id": "8c15efc5-2c21-43fb-9215-da1e5c0ea2da",
   "metadata": {
    "tags": []
   },
   "outputs": [
    {
     "name": "stdout",
     "output_type": "stream",
     "text": [
      "8\n"
     ]
    }
   ],
   "source": [
    "kteam_lst = [lambda x : x**2, lambda x: x**3, lambda x: x**4]\n",
    "print(kteam_lst[1](2))"
   ]
  },
  {
   "cell_type": "code",
   "execution_count": 352,
   "id": "21614440-7840-4e1c-aa45-cbd86252a659",
   "metadata": {
    "tags": []
   },
   "outputs": [
    {
     "name": "stdout",
     "output_type": "stream",
     "text": [
      "9\n",
      "27\n",
      "81\n"
     ]
    }
   ],
   "source": [
    "kteam_lst = [lambda x : x**2, lambda x: x**3, lambda x: x**4]\n",
    "for func in kteam_lst:\n",
    "    print(func(3))"
   ]
  },
  {
   "cell_type": "code",
   "execution_count": 353,
   "id": "58c418fe-d2eb-4979-9b80-5e87c0492caa",
   "metadata": {
    "tags": []
   },
   "outputs": [
    {
     "name": "stdout",
     "output_type": "stream",
     "text": [
      "freeee\n"
     ]
    }
   ],
   "source": [
    "key = 'kteam'\n",
    "print({'Google': lambda: 'gooooog',\n",
    " 'youtube': lambda:'youuuuu',\n",
    " 'kteam': lambda:'freeee'}[key]())"
   ]
  },
  {
   "cell_type": "code",
   "execution_count": 354,
   "id": "4cc88b98-d936-4947-9568-90f25bca67c7",
   "metadata": {
    "tags": []
   },
   "outputs": [
    {
     "name": "stdout",
     "output_type": "stream",
     "text": [
      "2\n"
     ]
    }
   ],
   "source": [
    "find_greater = lambda x, y: x if x > y else y\n",
    "print(find_greater(1,2))"
   ]
  },
  {
   "cell_type": "code",
   "execution_count": 355,
   "id": "c40e53a6-cccf-474f-a4f6-8ce57e5961a8",
   "metadata": {
    "tags": []
   },
   "outputs": [
    {
     "name": "stdout",
     "output_type": "stream",
     "text": [
      "1\n"
     ]
    }
   ],
   "source": [
    "cd_of_2_3 = lambda x:(1 if x % 3 == 0 else 0) if x % 2 ==0 else 0\n",
    "print(cd_of_2_3(6))"
   ]
  },
  {
   "cell_type": "code",
   "execution_count": 356,
   "id": "f15adbb7-34eb-42dc-b214-c905d6d1d212",
   "metadata": {
    "tags": []
   },
   "outputs": [
    {
     "name": "stdout",
     "output_type": "stream",
     "text": [
      "HowKteamfree\n"
     ]
    }
   ],
   "source": [
    "def kteam(first_string):\n",
    "    return lambda second_string: first_string + second_string\n",
    "slogan = kteam('HowKteam')\n",
    "print(slogan('free'))"
   ]
  },
  {
   "cell_type": "markdown",
   "id": "29e306d8-ec24-4a85-8913-99f1f92f4ca6",
   "metadata": {},
   "source": [
    "## Functions in python"
   ]
  },
  {
   "cell_type": "raw",
   "id": "88c2cec7-6ff2-4e37-9333-d9afaddbf288",
   "metadata": {},
   "source": [
    "các hàm trong python"
   ]
  },
  {
   "cell_type": "markdown",
   "id": "7b8949d0-5509-4019-a383-f1cceb397db5",
   "metadata": {},
   "source": [
    "### Map in python"
   ]
  },
  {
   "cell_type": "raw",
   "id": "76e30f5d-8798-4c07-a275-e2008bdd1fa6",
   "metadata": {},
   "source": [
    "hàm map trong python"
   ]
  },
  {
   "cell_type": "code",
   "execution_count": 357,
   "id": "de234bdf-32b2-481c-b919-e81f80dba0c0",
   "metadata": {
    "tags": []
   },
   "outputs": [
    {
     "name": "stdout",
     "output_type": "stream",
     "text": [
      "[2, 3, 4, 5]\n"
     ]
    }
   ],
   "source": [
    "def inc(x) : return x+1\n",
    "kteam = [1,2,3,4]\n",
    "print(list(map(inc, kteam)))"
   ]
  },
  {
   "cell_type": "code",
   "execution_count": 358,
   "id": "9e5b8f85-f5dd-405f-a95c-1870d31e190a",
   "metadata": {
    "tags": []
   },
   "outputs": [
    {
     "name": "stdout",
     "output_type": "stream",
     "text": [
      "[2, 3, 4, 5]\n"
     ]
    }
   ],
   "source": [
    "kteam = [1,2,3,4]\n",
    "print(list(map(lambda x: x+1, kteam)))"
   ]
  },
  {
   "cell_type": "code",
   "execution_count": 359,
   "id": "623152b1-a231-428c-af7d-69d09c3d0779",
   "metadata": {
    "tags": []
   },
   "outputs": [
    {
     "name": "stdout",
     "output_type": "stream",
     "text": [
      "[2, 3, 4, 5]\n"
     ]
    }
   ],
   "source": [
    "inc = lambda x: x + 1\n",
    "kteam = [1, 2,3,4]\n",
    "print([inc(x) for x in kteam])"
   ]
  },
  {
   "cell_type": "code",
   "execution_count": 360,
   "id": "97ed8cea-c8f7-42f4-9710-04d0534f054a",
   "metadata": {
    "tags": []
   },
   "outputs": [
    {
     "name": "stdout",
     "output_type": "stream",
     "text": [
      "[6, 8, 10, 12]\n"
     ]
    }
   ],
   "source": [
    "func = lambda x,y : x+y\n",
    "kteam_1 = [1, 2, 3, 4]\n",
    "kteam_2 = [5, 6, 7, 8]\n",
    "kteam = map(func, kteam_1, kteam_2)\n",
    "print(list(kteam))"
   ]
  },
  {
   "cell_type": "markdown",
   "id": "d536c284-9b8d-40bd-93f7-b74bbdf7bc41",
   "metadata": {},
   "source": [
    "### filter in python"
   ]
  },
  {
   "cell_type": "raw",
   "id": "68f90358-40fa-4a1f-ae62-896c41917809",
   "metadata": {},
   "source": [
    "hàm filter trong python"
   ]
  },
  {
   "cell_type": "code",
   "execution_count": 361,
   "id": "13b661cf-9614-45f2-b696-c682675be0df",
   "metadata": {
    "tags": []
   },
   "outputs": [
    {
     "name": "stdout",
     "output_type": "stream",
     "text": [
      "[1, 5, 2, 6]\n"
     ]
    }
   ],
   "source": [
    "func = lambda x: x > 0\n",
    "kteam = [1, -3, 5, 0, 2, 6, -4, -9]\n",
    "print(list(filter(func, kteam)))"
   ]
  },
  {
   "cell_type": "markdown",
   "id": "8ea5ed83-8530-458d-8eaa-07ee759e55fd",
   "metadata": {},
   "source": [
    "### Reduce in python"
   ]
  },
  {
   "cell_type": "raw",
   "id": "17c73be4-9bac-448d-84c2-aa5e03d980e4",
   "metadata": {},
   "source": [
    "hàm này trả về 1 giá trị"
   ]
  },
  {
   "cell_type": "code",
   "execution_count": 362,
   "id": "fafcff6d-a807-4e8b-8ecf-731655cf33da",
   "metadata": {
    "tags": []
   },
   "outputs": [
    {
     "name": "stdout",
     "output_type": "stream",
     "text": [
      "15\n"
     ]
    }
   ],
   "source": [
    "from functools import reduce\n",
    "kteam_add = lambda x,y: x + y\n",
    "kteam = [1, 2, 3, 4, 5]\n",
    "print(reduce(kteam_add, kteam))"
   ]
  },
  {
   "cell_type": "code",
   "execution_count": 363,
   "id": "c2e38367-070e-49e7-ba6f-bf355f09d217",
   "metadata": {
    "tags": []
   },
   "outputs": [
    {
     "name": "stdout",
     "output_type": "stream",
     "text": [
      "20\n",
      "240\n"
     ]
    }
   ],
   "source": [
    "from functools import reduce\n",
    "kteam = [1, 2, 3, 4]\n",
    "kteam_add = lambda x, y: x+y\n",
    "kteam_multi = lambda x,y : x*y\n",
    "print(reduce(kteam_add, kteam, 10))\n",
    "print(reduce(kteam_multi, kteam, 10))"
   ]
  },
  {
   "cell_type": "markdown",
   "id": "ad3da98c-d30b-44b8-a153-c18dd87e10de",
   "metadata": {},
   "source": [
    "## Recursion in python"
   ]
  },
  {
   "cell_type": "raw",
   "id": "928132ec-588a-42a6-bcb4-d580df174c0f",
   "metadata": {},
   "source": [
    "đệ quy trong python"
   ]
  },
  {
   "cell_type": "code",
   "execution_count": 364,
   "id": "3c278347-e2e6-4b80-b085-fb6e5cd90885",
   "metadata": {
    "tags": []
   },
   "outputs": [
    {
     "name": "stdout",
     "output_type": "stream",
     "text": [
      "10\n",
      "15\n"
     ]
    }
   ],
   "source": [
    "def cal_sum(lst):\n",
    "    if not lst:\n",
    "        return 0\n",
    "    else:\n",
    "        return lst[0] + cal_sum(lst[1:])\n",
    "print(cal_sum([1,2,3,4]))\n",
    "print(cal_sum([1,2,3,4,5]))"
   ]
  },
  {
   "cell_type": "code",
   "execution_count": 365,
   "id": "372c8cde-ae3d-433b-bd08-92c5223dd293",
   "metadata": {
    "tags": []
   },
   "outputs": [
    {
     "name": "stdout",
     "output_type": "stream",
     "text": [
      "6\n"
     ]
    }
   ],
   "source": [
    "def cal_sum(lst):\n",
    "    return 0 if not lst else lst[0] + cal_sum(lst[1:])\n",
    "print(cal_sum([1,2,3]))"
   ]
  },
  {
   "cell_type": "code",
   "execution_count": 366,
   "id": "ba154a48-d797-4c94-a273-8c5b671e1a8e",
   "metadata": {
    "tags": []
   },
   "outputs": [
    {
     "name": "stdout",
     "output_type": "stream",
     "text": [
      "6\n"
     ]
    }
   ],
   "source": [
    "def cal_sum(lst):\n",
    "    idx0, *r = lst\n",
    "    return idx0 if not r else idx0 + cal_sum(r)\n",
    "print(cal_sum([1,2,3]))"
   ]
  },
  {
   "cell_type": "code",
   "execution_count": 367,
   "id": "d00f0b7a-efd6-4848-9167-67a4bd49a08d",
   "metadata": {
    "tags": []
   },
   "outputs": [
    {
     "name": "stdout",
     "output_type": "stream",
     "text": [
      "[1, 2, 3, 4, 5, 6]\n"
     ]
    }
   ],
   "source": [
    "def cal_sum(lst):\n",
    "    idx0, *r = lst\n",
    "    return idx0 if not r else idx0 + cal_sum(r)\n",
    "print(cal_sum([[1,2],[3,4],[5,6]]))"
   ]
  },
  {
   "cell_type": "code",
   "execution_count": 368,
   "id": "11776317-d57f-43a3-b91b-ff95f172d87d",
   "metadata": {
    "tags": []
   },
   "outputs": [
    {
     "name": "stdout",
     "output_type": "stream",
     "text": [
      "15\n"
     ]
    }
   ],
   "source": [
    "def cal_sum(lst):\n",
    "    if not lst: return 0\n",
    "    return call_cal_sum(lst)\n",
    "def call_cal_sum(lst):\n",
    "    return lst[0] + cal_sum(lst[1:])\n",
    "print(cal_sum([1,2,3,4,5]))"
   ]
  }
 ],
 "metadata": {
  "kernelspec": {
   "display_name": "Python 3",
   "language": "python",
   "name": "python3"
  },
  "language_info": {
   "codemirror_mode": {
    "name": "ipython",
    "version": 3
   },
   "file_extension": ".py",
   "mimetype": "text/x-python",
   "name": "python",
   "nbconvert_exporter": "python",
   "pygments_lexer": "ipython3",
   "version": "3.12.4"
  },
  "toc-autonumbering": true,
  "toc-showcode": false,
  "toc-showmarkdowntxt": false
 },
 "nbformat": 4,
 "nbformat_minor": 5
}
