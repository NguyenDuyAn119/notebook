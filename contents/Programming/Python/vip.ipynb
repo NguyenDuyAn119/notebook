{
 "cells": [
  {
   "cell_type": "markdown",
   "id": "fc072845",
   "metadata": {},
   "source": [
    "# Python + Numpy + pandas\n",
    "\n",
    "learning python + numpy pandas"
   ]
  },
  {
   "cell_type": "markdown",
   "id": "f011d83d",
   "metadata": {},
   "source": []
  }
 ],
 "metadata": {
  "language_info": {
   "name": "python"
  }
 },
 "nbformat": 4,
 "nbformat_minor": 5
}
