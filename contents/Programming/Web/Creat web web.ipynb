{
 "cells": [
  {
   "cell_type": "markdown",
   "id": "2f0197e4-3ce1-4c0a-ab0b-ef25a1916b86",
   "metadata": {},
   "source": [
    "# **Create My web**"
   ]
  },
  {
   "cell_type": "markdown",
   "id": "4479848b-3b14-4f73-b29a-44bdbdff3abf",
   "metadata": {},
   "source": [
    "## **Thêm các folder/mục/ .... trong file**"
   ]
  },
  {
   "cell_type": "markdown",
   "id": "831c5ca0-6893-4efa-8d07-acd9c26834ba",
   "metadata": {},
   "source": [
    "### *Steps*\n"
   ]
  },
  {
   "cell_type": "markdown",
   "id": "31205502-37b0-4e92-a9ea-c1121eac71f2",
   "metadata": {},
   "source": [
    "Khi thêm 1 file(tạo file xong thì phải ctrl+s) nào đó vào trong bài thì ta cần làm những điều sau:\n",
    "\n",
    "1. Thêm file vào trong _toc.yml với thứ tự thư mục đúng với thứ tự tạo với câu trúc: (nhớ ctrl+S khi làm xong bước này)\n",
    "   - file: (copylink bằng cách click vào file đó rồi ship+chuột phải sẽ ra đường dẫn như sau contents\\Programming\\Python\\abc.md và  cần đổi lại dấu \\ thành /)\n",
    "   - title : tên mình tự đặt để hiện thị trong web\n",
    "2. Commit ở VScode bằng cách :\n",
    "   - vào Source Control (ctrl + shift + g)\n",
    "   - Tìm mục Changes ở dưới rồi click vào \"+\"(stage all changes)\n",
    "   - viết commit rồi click commit\n",
    "   - khi xong sẽ hiện dòng chữ \"Sync Changes 1 \" rồi click vào\n",
    "3. Vào web github của repo đó rồi:\n",
    "   - vào pull request -> new pull request\n",
    "   - chọn nhánh master máy tự chọn(ở bên trái) rồi nhánh bên phải chọn nhánh mà mình dùng(khi tương tác commit ở VScode)\n",
    "   - khi chọn xong sẽ hiện ra \"creat pull request\"+\"ở dưới sẽ có các thay đổi của mình đã làm\" rồi chọn creat pull requestX2\n",
    "   - rồi chọn \"merge pull request\" rồi \"confirm merge\"\n",
    "4. Check thời gian hoàn thiện ở Action rồi đc rồi thì qua web kiểm tra thôi"
   ]
  }
 ],
 "metadata": {
  "kernelspec": {
   "display_name": "Python 3 (ipykernel)",
   "language": "python",
   "name": "python3"
  },
  "language_info": {
   "codemirror_mode": {
    "name": "ipython",
    "version": 3
   },
   "file_extension": ".py",
   "mimetype": "text/x-python",
   "name": "python",
   "nbconvert_exporter": "python",
   "pygments_lexer": "ipython3",
   "version": "3.12.4"
  }
 },
 "nbformat": 4,
 "nbformat_minor": 5
}
