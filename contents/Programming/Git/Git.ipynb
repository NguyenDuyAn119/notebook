{
 "cells": [
  {
   "cell_type": "markdown",
   "id": "654219c7-8fc9-496e-89b9-7e49481da735",
   "metadata": {},
   "source": [
    "# Git"
   ]
  },
  {
   "cell_type": "markdown",
   "id": "95bf1306-cd43-47f4-b41c-7a6073862f39",
   "metadata": {},
   "source": [
    "## Git basic"
   ]
  },
  {
   "cell_type": "markdown",
   "id": "4302f2b4-f625-445d-b2c3-3f440b60534b",
   "metadata": {},
   "source": [
    "Các câu lệnh cơ bản của Git trong Git bash:"
   ]
  },
  {
   "cell_type": "markdown",
   "id": "5b475296-78ae-450a-8ace-71f0ad388a61",
   "metadata": {},
   "source": [
    "- 'cd ..' : là câu lệnh quay trở lại file cha\n",
    "- 'cd (file muốn tiến đến)' : đi vào file con mà mình muốn của file cha\n",
    "- 'cd (file cha)/(file con)' : đi vào file con của file cha\n",
    "- 'cd ../(tên file)' : thoát file này và vào file mà mình muốn\n",
    "- clear : dọn dẹp các câu lệnh đã viết\n",
    "- mũi tên lên xuống trong git : dùng để quay lại các câu lệnh mà mình đã viết ở trc"
   ]
  },
  {
   "cell_type": "markdown",
   "id": "85d5f380-e5ce-4d22-8435-bba7f1411f4d",
   "metadata": {},
   "source": [
    "## Hiện thi tập tin, thêm , xóa và tạo thư mục trong máy "
   ]
  },
  {
   "cell_type": "markdown",
   "id": "aaf41357-9cb9-4423-a617-56cfe6401e26",
   "metadata": {},
   "source": [
    "- dir or ls : với dir của hệ điều hành win or ls của hệ điều hành Ios\n",
    "\n",
    "với dir and ls : kiểm tra các tập tin trong file\n",
    "\n",
    "- mkdir (tên thư mục muốn tạo): tạo thêm 1 thư mục con của thư mục cha \n",
    "- touch '(tên file).đuôi' : tạo 1 thư mục mất kì có thể là txt hoặc vv\n",
    "\n",
    "VD : touch 'vd.txt'\n",
    "\n",
    "- echo \"(muốn viết)\" : dùng để in hoặc xuất 1 nội dung nào đó trên màn hình Git bash\n",
    "- echo \"(muốn viết)\" > 'Tên file' : dùng để viết 1 nội dung đè trên file mà mình muốn\n",
    "- echo \"(muốn viết)\" >> 'Tên file' : dùng để viết tiếp 1 nội dung trên file mà mình muốn\n",
    "- cat '(tên file)' : hiển thị nội dung bên trong file\n",
    "- diff (file 1) (file 2) : dùng để so sánh cái khác của 2 file\n",
    "- rm (file tên) : xóa file \n",
    "- rm -d (tên thư mục) : xóa thư mục rỗng\n",
    "- rm -r (tên thư mục) : xóa thư mục không rỗng"
   ]
  },
  {
   "cell_type": "markdown",
   "id": "b04e9404-e168-4c8a-bac1-86c44d508ff5",
   "metadata": {},
   "source": [
    "## Tạo Repository mới trong Git"
   ]
  },
  {
   "cell_type": "markdown",
   "id": "30a1a2db-b001-4909-aeb6-ff8dd7403120",
   "metadata": {},
   "source": [
    "- reposity (repo) : kho lưu trữ\n",
    "- commit : một đơn vị làm việc\n",
    "- branch : nhánh\n",
    "- main/master : tên của repo chính( main repo)\n",
    "- merge/ rebase: kết hợp 2 nhánh\n",
    "- develop: tên của nhánh, lập trình viên\n",
    "- git --help: trợ giúp, hưỡng dẫn\n",
    "- git --version: hiển thị phương bản git\n",
    "- git status: hiển thị trang thái kho lưu trữ\n",
    "- git log: hiển thị lịch sử các commit\n",
    "\n",
    "\n",
    "các câu lệnh giúp câu hình ra 1 dự án git mới:\n",
    "- git init [repo name]: tạo ra 1 kho lưu trữ mới.\n",
    "- git clone [repo name][clone name]: để tạo một bản sao được liên kết với repo.\n",
    "- git config -l: xem cấu hình hiện tại của repo.\n",
    "- git config -l [--scope][option_name][value]: xem cấu hình của .... - .....\n",
    "    + scope: --system -> ảnh hưởng đến tất cả người dùng\n",
    "\n",
    "             --global -> liên quan đến repo của ng dùng\n",
    "\n",
    "             --local  -> liên quan đến 1 repo\n",
    "\n",
    "vd : git config -l --global user.name \"tên\"\n",
    "\n",
    "vd : git config -l --global user.email tên\n",
    "\n",
    "- git add [file name(s)] : thêm tập vào inđex\n",
    "- git add. : thêm tệp ( tất cả)\n",
    "- git commot _m \"nội dung\" : tạo commit -> repo\n",
    "- git status : sự khác biệt giữa 3 cây\n",
    "- git diff : so sánh với commit cuối cùng\n",
    "- git log : xem lịch sử"
   ]
  },
  {
   "cell_type": "markdown",
   "id": "a3417b38-5110-4229-a0f9-693c43130c9b",
   "metadata": {},
   "source": [
    "## Git ignore "
   ]
  },
  {
   "cell_type": "markdown",
   "id": "40dda570-b877-41fb-82ad-cf031e0eb5ce",
   "metadata": {},
   "source": [
    "Cấu hình ignore để bỏ qua các file không cần giám sát\n",
    "\n",
    "là câu lệnh để bỏ qua các file k cần giám sát ở git\n",
    "\n",
    "- echo \"tên file\" >>.gitignore : làm gì thì làm nhưng nó sẽ k quna tâm đến file mà mình ignore"
   ]
  },
  {
   "cell_type": "markdown",
   "id": "af59eb3d-fa62-453e-b7a5-a7b0f291ba4a",
   "metadata": {},
   "source": [
    "### Git ignore on visual studio code"
   ]
  },
  {
   "cell_type": "markdown",
   "id": "b8916897-e055-413b-8d0a-82b9deb35cfa",
   "metadata": {},
   "source": [
    "- B1: cứ đăng nhập lại toàn bộ nick của github cho chắc rồi ktra nick\n",
    "\n",
    "- B2: tạo file .gitignore có thể tạo như sau:\n",
    "    + echo. > .gitignore\n",
    "    \n",
    "- B3: cho dữ liệu k muốn vào gitignore dùng :\n",
    "    + echo \"tên.đuôi\" >> .gitignore\n",
    "- hoặc xóa luôn file như sau:\n",
    "    + git rm --cached 'tên.đuôi'\n",
    "    \n",
    "- B4: dùng: git commit -m \"commit....\"\n",
    "\n",
    "- B5: git push hoặc git push --set-upstream origin master"
   ]
  },
  {
   "cell_type": "markdown",
   "id": "3bea3013-a2da-4661-853b-e29698c0017c",
   "metadata": {},
   "source": [
    "## Git remote repository"
   ]
  },
  {
   "cell_type": "markdown",
   "id": "cc66300a-4a70-4838-a92f-e38d2c18efe6",
   "metadata": {},
   "source": [
    "làm việc với kho lưu trữ trung tâm 'central repository'\n",
    "cách tương tác với remote repository\n",
    "\n",
    "\n",
    "cái này chính là những thứ thao tác ở trên github\n",
    "\n",
    "- git init --bare : tạo 1 central repo\n",
    "\n",
    "- git clone [repo_name][clone_name] : sao chép và liên kết repo_name mới\n",
    "\n",
    "- git fetch : lấy các thông tin về commit mới từ central\n",
    "\n",
    "- git pull : lấy dữ liệu từ central(chính) về local repo\n",
    "\n",
    "- git push : đẩy các commit từ local về central(chính)"
   ]
  },
  {
   "cell_type": "markdown",
   "id": "44336f55-c9ac-46ab-bf94-20bab2931453",
   "metadata": {},
   "source": [
    "## Merge conflict"
   ]
  },
  {
   "cell_type": "markdown",
   "id": "bd7416e9-d4db-4c37-b9e4-12c8d27ff651",
   "metadata": {},
   "source": [
    "Xử lý xung đột trong git (merge conflict)\n",
    "conflict : xung đột\n",
    "\n",
    "đây là khi 2 ng cùng làm và cùng pull 1 dữ liệu về và chỉnh sửa rồi đẩy lên lại central chính thì mỗi ng sửa đều khác nhau nên nó sẽ xảy ra lỗi vì vậy cần fixx lại, nên xem lại ở bài 9 git cơ bản\n",
    "\n",
    "cụ thể đây là bước làm bằng commit:\n",
    "\n",
    "- B1: git pull\n",
    "\n",
    "- B2: vào lại fie đó bằng ứng dụng gì đó rồi xóa những lỗi rồi save\n",
    "\n",
    "- B3: git add .\n",
    "\n",
    "- B4: git commit -m \"xử lý xung đột ở file k.txt\""
   ]
  },
  {
   "cell_type": "markdown",
   "id": "2ce68e40-9a6c-482d-8440-2d2d4711333d",
   "metadata": {},
   "source": [
    "## Git checkout"
   ]
  },
  {
   "cell_type": "markdown",
   "id": "bf784610-5cbe-4f89-a720-04edeaf37142",
   "metadata": {},
   "source": [
    "chuyển đổi giữa các commit trong git \n",
    "\n",
    "để dùng đc git checkout thì ta cần phải đã sửa file và làm file rồi ta dùng git log sẽ hiện mã của commi sau chữ commit rồi nhập tầm 6 đến hơn các ký tự đó sau git checkout\n",
    "\n",
    "- git checkout (mã) : dùng để quay trở lại thời điểm mà file đó được tạo ra, chính là quay lại đc commit mà mình muốn"
   ]
  },
  {
   "cell_type": "markdown",
   "id": "6168b5fe-d815-481f-8d1f-bbded2e10f4e",
   "metadata": {},
   "source": [
    "## Git Branchs"
   ]
  },
  {
   "cell_type": "markdown",
   "id": "298b8bde-1f63-49bc-b29a-8dcfd114b15b",
   "metadata": {},
   "source": [
    "làm việc với nhiều nhánh trong git\n",
    "- git branch (branch_name)  : tạo nhánh mới để làm trong 1 project\n",
    "- git checkout (branch_name) : chuyển sang nhánh mong muốn trong project\n",
    "- git branch -l : xem nhánh hiện tại đg làm \n",
    "\n",
    "\n",
    "có thể khi k push từ nhánh lên repo thì ng ta có gợi ý câu lệnh :\n",
    "- git push --set-upstream origin (branch_name)\n",
    "- git push -u origin (branch_name)\n",
    "\n",
    "Thay đổi tên nhánh master thành main\n",
    "ta dùng :\n",
    "- git branch -M main"
   ]
  },
  {
   "cell_type": "markdown",
   "id": "dc6d9cf8-aa78-4ef3-aba5-487bf5630fa1",
   "metadata": {},
   "source": [
    "### Git branch merge"
   ]
  },
  {
   "cell_type": "markdown",
   "id": "31b7fd8c-649f-4a44-a1b1-9f6479270978",
   "metadata": {},
   "source": [
    "kết hợp các nhánh lại với nhau\n",
    "\n",
    "đg ở nhánh A\n",
    "muốn kết hợp với nhánh khác thì ra dùng\n",
    "- git merge (branch_name) "
   ]
  },
  {
   "cell_type": "markdown",
   "id": "13d007b1-167b-40d8-aeba-869fa97143a2",
   "metadata": {},
   "source": [
    "### Git rebase"
   ]
  },
  {
   "cell_type": "markdown",
   "id": "f7a5fc94-d2ff-486a-bdfe-8b051613c935",
   "metadata": {},
   "source": [
    "tái cơ sở cho một nhánh trong git\n",
    "- git rebase (branch_name) : tái cơ sở cho nhánh bạn chọn\n",
    "- git rebase --continue : tiếp tục áp dụng những thay đổi vào câu lệnh git rebase\n",
    "- git rebase --skip : bỏ qua những thay đổi"
   ]
  },
  {
   "cell_type": "markdown",
   "id": "87238da8-022f-4c46-b7f9-3a219da18d3f",
   "metadata": {},
   "source": [
    "### Git branch delete"
   ]
  },
  {
   "cell_type": "markdown",
   "id": "3286fa21-3def-49bd-a7f6-6e3019447bd5",
   "metadata": {},
   "source": [
    "- Xóa nhánh trong git\n",
    "\n",
    "    + git branch -d (branch_name) : dùng khi mà bạn muốn gọn hơn, đó là khi t có nhiều nhánh và sau khi merge với nhau rồi thì nhánh phụ vẫn còn tồn tại ở đó, nếu muốn đẹp hơn thì t chỉ cần xóa nhánh phụ.\n",
    "- Và xóa hoàn toàn thì ta dùng\n",
    "  \n",
    "    + git push origin -d (branch_name) : khi ta xóa ở kai thì nó vẫn còn tồn tại nên ta cần xóa 1 lần nữa để nó mất hẳn đi, vì khi git branch -a nó sẽ cho ta thấy nhánh xóa nó sẽ hiện lên."
   ]
  },
  {
   "cell_type": "markdown",
   "id": "7a7fe746-6db0-4c70-a61f-6660f05d94f7",
   "metadata": {},
   "source": [
    "## Git reset"
   ]
  },
  {
   "cell_type": "markdown",
   "id": "fc5738f9-7b8d-453d-9870-fb751f8fea09",
   "metadata": {},
   "source": [
    "- git reset --soft  (commit id) : dùng để chuyển head về vị trí commit. Trạng thái của stage và tất cả sự thay đổi của file đc giữ nguyên.\n",
    "\n",
    "- git reset (commit id) : Di chuyển head về vị trí commit reset, vẫn giữ tất cả thay đổi của file nhưng loại bỏ các thay đổi của stage.\n",
    "\n",
    "- git reset --hard (commit id) : di chuyển con trỏ head về vị trí commit reset và loại bỏ tất cả sự thay đổi của file, stage.\n",
    "\n",
    "- commit id: là mã của các commit gầm chữ và số hoặc bla bla"
   ]
  },
  {
   "cell_type": "markdown",
   "id": "a483ba1f-ded0-4e87-a7a8-ca887443e7b9",
   "metadata": {},
   "source": [
    "## Git revert"
   ]
  },
  {
   "cell_type": "markdown",
   "id": "12f3a204-b452-46ad-82b4-5de5705e7aea",
   "metadata": {},
   "source": [
    "quay lại các commit trước đây câu lệnh là:\n",
    "- git revert"
   ]
  },
  {
   "cell_type": "markdown",
   "id": "9735623e-04f0-4a95-aebc-2eee670abd0f",
   "metadata": {},
   "source": [
    "## GitHub"
   ]
  },
  {
   "cell_type": "markdown",
   "id": "a381c1bd-be11-4d87-a583-87ca283a6dd8",
   "metadata": {},
   "source": [
    "### Github in my computer"
   ]
  },
  {
   "cell_type": "markdown",
   "id": "6d099f62-39d5-4478-beb9-852092ebe036",
   "metadata": {},
   "source": [
    "connect from code on computer to web GitHub\n",
    "\n",
    "khi tạo 1 repository mới trên web github của bạn thì ta copy link của repository đó rồi vào git bash rồi nhập câu lệnh:\n",
    "- git remote add origin (paste link)"
   ]
  },
  {
   "cell_type": "markdown",
   "id": "a19fd82e-bf84-4cba-bd81-fb7e17302a2d",
   "metadata": {},
   "source": [
    "### Save other project "
   ]
  },
  {
   "cell_type": "markdown",
   "id": "eb0d281a-3e02-451b-8cb0-356e57a26fca",
   "metadata": {},
   "source": [
    "- B1: truy cập link của dự án\n",
    "- B2: click chuột vào fork của dự án đó ở phía bên trên gần góc phải màn hình\n",
    "- B3: click create fork\n",
    "- B4: về trang chủ để xem đã lưu đc về chưa\n",
    "\n",
    "\n",
    "muốn cập nhật thông tin mới của project của ng khác thì ở git bash cần dùng :\n",
    "- B1: git remote add (name1) (paste link của project gốc)\n",
    "\n",
    "- B2: git remote -v : để xem xem kết nối đc chưa\n",
    "\n",
    "- B3: git fetch (name1) : để ktra xem kết nối đc chưa\n",
    "\n",
    "- B4: git merge (name1)/(main_branch) :sẽ ra bảng của git bash , ta chỉ cần ấn phím 'esc' rồi \":q\" để thoát ra"
   ]
  },
  {
   "cell_type": "markdown",
   "id": "e0af7cf3-d4c4-4423-a2a8-fed80946ef3b",
   "metadata": {},
   "source": [
    "### Update project of company when create new file in my computer"
   ]
  },
  {
   "cell_type": "markdown",
   "id": "aafa92bf-bbb2-46ba-8b93-2854025e32ff",
   "metadata": {},
   "source": [
    "- B1: vào pull request của dự án ở nick mình\n",
    "- B2: vào new pull request\n",
    "- B3: chọn base repository của dự án mình muốn, và chọn head repository của dự án của mình và chọn nhánh theo ý mình\n",
    "- B4: click create pull request"
   ]
  },
  {
   "cell_type": "markdown",
   "id": "b5ce91ce-b9e6-4a75-be2e-f376d946666c",
   "metadata": {},
   "source": [
    "## GitHub Desktop"
   ]
  },
  {
   "cell_type": "markdown",
   "id": "349d4c09-09f1-40b5-8285-78bc14c670de",
   "metadata": {},
   "source": [
    "muốn tải 1 project về app GitHub Desktop thì ta copy link của project về xong r vào app rồi chọn file rồi chọn clone reponsitory rồi paste link rồi clone là xong"
   ]
  },
  {
   "cell_type": "markdown",
   "id": "2506a725-d390-48e0-8222-068e709fbec4",
   "metadata": {},
   "source": [
    "## Use Git and GitHub in visual studio code"
   ]
  },
  {
   "cell_type": "markdown",
   "id": "5aba99f8-21be-4680-947d-7da4211b5520",
   "metadata": {},
   "source": [
    "**Cách 1**\n",
    "\n",
    "- B0: mở file muốn tải lên GitHub sẵn\n",
    "- B1: sign in account on terminal on visual studio code\n",
    "    + git config --global user.name \"tên nick github\"\n",
    "    + git config --global user.email tên email\n",
    "\n",
    "- B2: git remote add origin \"link github tự tạo và muốn đẩy file lên đó\"\n",
    "    + git remote -v : kiểm tra xem đúng nick github chưa\n",
    "\n",
    "- B3: git add .\n",
    "\n",
    "- B4: git commit -m \"tự cmt\"\n",
    "\n",
    "- B5: git branch -v : kiểm tra đg ở nhánh gì rồi mới push (muốn đổi \"nhánh\"/\"tên nhánh\" thì ở phần trên có)\n",
    "    + git push origin \"tên nhánh mà mình kiểm tra\"\n",
    "\n",
    "- B6: tự làm tiếp\n",
    "\n",
    "**Cách 2**\n",
    "- B0: mở file muốn tải lên GitHub sẵn\n",
    "- B1: git init\n",
    "- B2: git add .\n",
    "- B3: git commit -m \"(.Muốn ghi gì thì ghi sao cho mình và ng khác đều hiểu)\"\n",
    "- B4: git remote add (tên repo cx đc) (link repo)\n",
    "- B5:git push (tên repo cx đc) master"
   ]
  }
 ],
 "metadata": {
  "kernelspec": {
   "display_name": "base",
   "language": "python",
   "name": "python3"
  },
  "language_info": {
   "codemirror_mode": {
    "name": "ipython",
    "version": 3
   },
   "file_extension": ".py",
   "mimetype": "text/x-python",
   "name": "python",
   "nbconvert_exporter": "python",
   "pygments_lexer": "ipython3",
   "version": "3.12.4"
  }
 },
 "nbformat": 4,
 "nbformat_minor": 5
}
