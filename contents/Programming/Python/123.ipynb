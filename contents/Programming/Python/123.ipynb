{
 "cells": [
  {
   "cell_type": "markdown",
   "id": "74e9ea7c",
   "metadata": {},
   "source": [
    "# học\n",
    "\n",
    "\n",
    "\n",
    "python"
   ]
  },
  {
   "cell_type": "markdown",
   "id": "9a53f012",
   "metadata": {},
   "source": [
    "123"
   ]
  },
  {
   "cell_type": "markdown",
   "id": "e71b663a",
   "metadata": {},
   "source": []
  }
 ],
 "metadata": {
  "language_info": {
   "name": "python"
  }
 },
 "nbformat": 4,
 "nbformat_minor": 5
}
