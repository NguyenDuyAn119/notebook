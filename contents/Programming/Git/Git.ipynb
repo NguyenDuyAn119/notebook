{
 "cells": [
  {
   "cell_type": "markdown",
   "id": "28c16a21",
   "metadata": {},
   "source": [
    "## Git basci"
   ]
  },
  {
   "cell_type": "markdown",
   "id": "a27266e3",
   "metadata": {},
   "source": []
  }
 ],
 "metadata": {
  "kernelspec": {
   "display_name": "base",
   "language": "python",
   "name": "python3"
  },
  "language_info": {
   "name": "python",
   "version": "3.12.4"
  }
 },
 "nbformat": 4,
 "nbformat_minor": 5
}
