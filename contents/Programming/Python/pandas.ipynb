{
 "cells": [
  {
   "cell_type": "markdown",
   "id": "2a9f2503",
   "metadata": {},
   "source": [
    "# Pandas\n",
    "\n",
    "pandas basic"
   ]
  },
  {
   "cell_type": "markdown",
   "id": "f18a33fb",
   "metadata": {},
   "source": []
  }
 ],
 "metadata": {
  "language_info": {
   "name": "python"
  }
 },
 "nbformat": 4,
 "nbformat_minor": 5
}
