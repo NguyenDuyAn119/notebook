{
 "cells": [
  {
   "cell_type": "markdown",
   "id": "30d052f3",
   "metadata": {},
   "source": [
    "# Tips Creat PowerBI ez"
   ]
  },
  {
   "cell_type": "markdown",
   "id": "b191f6b0",
   "metadata": {},
   "source": [
    "## Lưu ý khi làm 1 file power BI liên quan đến chủ đề gì đó"
   ]
  },
  {
   "cell_type": "markdown",
   "id": "e4348594",
   "metadata": {},
   "source": [
    "Kiểu có 1 bảng đó làm bảng chính thì ta nên tra mạng kiểu sau:\n",
    "+ Dashboard + tên bảng + powerBI.\n",
    "+ Rồi qua phần hình ảnh mà tham khảo các bài của người ta rồi tham khảo rồi làm theo thôi."
   ]
  }
 ],
 "metadata": {
  "language_info": {
   "name": "python"
  }
 },
 "nbformat": 4,
 "nbformat_minor": 5
}
